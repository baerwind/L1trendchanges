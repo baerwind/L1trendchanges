{
 "cells": [
  {
   "cell_type": "code",
   "execution_count": 1,
   "metadata": {},
   "outputs": [],
   "source": [
    "import pandas as pd\n",
    "import numpy as np\n",
    "import glob\n",
    "import os\n",
    "import datetime\n",
    "import sqlite3\n",
    "import pricesdb\n",
    "import json\n",
    "import pprint\n",
    "import importlib\n",
    "import newsdb"
   ]
  },
  {
   "cell_type": "code",
   "execution_count": 2,
   "metadata": {},
   "outputs": [
    {
     "data": {
      "text/plain": [
       "<module 'newsdb' from 'c:\\\\Users\\\\baerw\\\\Documents\\\\Projekte\\\\Gitlocal\\\\L1trendchanges\\\\newsdb.py'>"
      ]
     },
     "execution_count": 2,
     "metadata": {},
     "output_type": "execute_result"
    }
   ],
   "source": [
    "importlib.reload(pricesdb)\n",
    "importlib.reload(newsdb)\n"
   ]
  },
  {
   "attachments": {},
   "cell_type": "markdown",
   "metadata": {},
   "source": [
    "Laden der topholdings, die letzten 20 news zu jeder Holding von seekingalpha holen und in die newsdb speichern"
   ]
  },
  {
   "cell_type": "code",
   "execution_count": 3,
   "metadata": {},
   "outputs": [
    {
     "name": "stdout",
     "output_type": "stream",
     "text": [
      "    index yahoo_symbol region  group\n",
      "0       0         ACWI     US   10.0\n",
      "1       1         URTH     US   10.0\n",
      "2       2         ^NDX     US   10.0\n",
      "3       4        ^GSPC     US   10.0\n",
      "4       6         ^RUT     US   10.0\n",
      "5       7         ^DJR     US   10.0\n",
      "6       8        ^N225     JP   10.0\n",
      "7      10         ^HSI     HK   10.0\n",
      "8      12       ^BSESN     US   10.0\n",
      "9      13        ^SSMI     US   10.0\n",
      "10     17       ^GDAXI     US   10.0\n",
      "11     39         BFIT     US   40.0\n",
      "12     40         SOCL     US   40.0\n",
      "13     43          LIT     US   40.0\n",
      "14     44         MILN     US   40.0\n",
      "15     45     LYDAX.SW     US   40.0\n",
      "16     47         ROBO     US   40.0\n",
      "17     50          IGV     US   40.0\n",
      "18     51      WTAI.SW     US   40.0\n",
      "19     52      ICHN.SW     US   40.0\n",
      "20     53      INRG.SW     US   40.0\n",
      "21     54     LYNRJ.SW     US   40.0\n",
      "22     55      XDEV.SW     US   40.0\n",
      "23     56      IWMO.SW     US   40.0\n",
      "24     57      XDEM.SW     US   40.0\n",
      "25     60      HTRY.SW     US   40.0\n",
      "26     61      CE9E.SW     US   40.0\n",
      "27     62     CBMEM.SW     US   40.0\n",
      "28     63     LYBNK.SW     US   40.0\n",
      "29     64      STZX.SW     US   40.0\n"
     ]
    }
   ],
   "source": [
    "# Symbols aus Watchlist\n",
    "watchlist = pd.read_csv('watchlist.csv', sep=';')\n",
    "groupl = [10,40] #[20,30] haben sowieso keine Holdingliste\n",
    "\n",
    "controllist = watchlist[watchlist['group'].isin(groupl)].reset_index()\n",
    "print(controllist[['index','yahoo_symbol','region','group']])\n",
    " "
   ]
  },
  {
   "cell_type": "code",
   "execution_count": 4,
   "metadata": {},
   "outputs": [
    {
     "name": "stdout",
     "output_type": "stream",
     "text": [
      "db_file:data\\ACWI_US.db\n",
      "db_file:data\\URTH_US.db\n",
      "db_file:data\\^NDX_US.db\n",
      "data\\^NDX_US.db Key: jsond['quoteSummary']['result'][0]['topHoldings']['holdings'] does not exist\n",
      "db_file:data\\^GSPC_US.db\n",
      "data\\^GSPC_US.db Key: jsond['quoteSummary']['result'][0]['topHoldings']['holdings'] does not exist\n",
      "db_file:data\\^RUT_US.db\n",
      "data\\^RUT_US.db Key: jsond['quoteSummary']['result'][0]['topHoldings']['holdings'] does not exist\n",
      "db_file:data\\^DJR_US.db\n",
      "data\\^DJR_US.db Key: jsond['quoteSummary']['result'][0]['topHoldings']['holdings'] does not exist\n",
      "db_file:data\\^N225_JP.db\n",
      "data\\^N225_JP.db Key: jsond['quoteSummary']['result'][0]['topHoldings']['holdings'] does not exist\n",
      "db_file:data\\^HSI_HK.db\n",
      "data\\^HSI_HK.db Key: jsond['quoteSummary']['result'][0]['topHoldings']['holdings'] does not exist\n",
      "db_file:data\\^BSESN_US.db\n",
      "data\\^BSESN_US.db Key: jsond['quoteSummary']['result'][0]['topHoldings']['holdings'] does not exist\n",
      "db_file:data\\^SSMI_US.db\n",
      "data\\^SSMI_US.db Key: jsond['quoteSummary']['result'][0]['topHoldings']['holdings'] does not exist\n",
      "db_file:data\\^GDAXI_US.db\n",
      "data\\^GDAXI_US.db Key: jsond['quoteSummary']['result'][0]['topHoldings']['holdings'] does not exist\n",
      "db_file:data\\BFIT_US.db\n",
      "db_file:data\\SOCL_US.db\n",
      "db_file:data\\LIT_US.db\n",
      "db_file:data\\MILN_US.db\n",
      "db_file:data\\LYDAX.SW_US.db\n",
      "db_file:data\\ROBO_US.db\n",
      "db_file:data\\IGV_US.db\n",
      "db_file:data\\WTAI.SW_US.db\n",
      "db_file:data\\ICHN.SW_US.db\n",
      "db_file:data\\INRG.SW_US.db\n",
      "db_file:data\\LYNRJ.SW_US.db\n",
      "db_file:data\\XDEV.SW_US.db\n",
      "db_file:data\\IWMO.SW_US.db\n",
      "db_file:data\\XDEM.SW_US.db\n",
      "db_file:data\\HTRY.SW_US.db\n",
      "db_file:data\\CE9E.SW_US.db\n",
      "db_file:data\\CBMEM.SW_US.db\n",
      "db_file:data\\LYBNK.SW_US.db\n",
      "db_file:data\\STZX.SW_US.db\n",
      "0    GOOGL\n",
      "1     GOOG\n",
      "2     AMZN\n",
      "3     AAPL\n",
      "4      XOM\n",
      "     ...  \n",
      "4      BNP\n",
      "5     HSBA\n",
      "6     INGA\n",
      "8     UBSG\n",
      "9     ZURN\n",
      "Name: symbol, Length: 137, dtype: object\n"
     ]
    }
   ],
   "source": [
    "# die topholdings der watchlist ETFs aus der DB holen und aggregieren\n",
    "agg_tophdf = pd.DataFrame()\n",
    "for i in range(len(controllist)):\n",
    "    f = glob.glob(r\"data/\"+controllist['yahoo_symbol'][i] + \"_*.db\")[0]\n",
    "    tophdf, _, _ = pricesdb.get_topholdings_from_db(f)\n",
    "    if tophdf is not None:\n",
    "        tophdf['yahoo_symbol'] = controllist['yahoo_symbol'][i]\n",
    "        agg_tophdf = pd.concat([agg_tophdf,tophdf])\n",
    "agg_tophdfdddf = agg_tophdf['symbol'].drop_duplicates()\n",
    "print(agg_tophdfdddf)\n",
    "querylist = list(agg_tophdfdddf)"
   ]
  },
  {
   "cell_type": "code",
   "execution_count": 5,
   "metadata": {},
   "outputs": [
    {
     "name": "stdout",
     "output_type": "stream",
     "text": [
      "db_file:data/seeking-alpha.db\n",
      "GOOGL: 19 rows/news inserted\n",
      "GOOG: 19 rows/news inserted\n",
      "AMZN: 19 rows/news inserted\n",
      "AAPL: 19 rows/news inserted\n",
      "XOM: 19 rows/news inserted\n",
      "META: 19 rows/news inserted\n",
      "near \"more\": syntax error \n",
      "insert_sql: INSERT INTO list_by_symbol ('id', 'symbol', 'dtupdate', 'type', 'attributes.publishOn', 'attributes.isLockedPro', 'attributes.commentCount', 'attributes.gettyImageUrl', 'attributes.videoPreviewUrl', 'attributes.title','attributes.isPaywalled', 'relationships.author.data.id','relationships.author.data.type', 'relationships.sentiments.data','relationships.primaryTickers.data', 'relationships.secondaryTickers.data', 'relationships.otherTags.data','links.self') \n",
      "                        values ( \n",
      "                    \"3978944\", \n",
      "                    \"MSFT\",\n",
      "                    \"2023-06-11\",\n",
      "                    \"news\", \n",
      "                    \"2023-06-09T09:26:45-04:00\", \n",
      "                    False,\n",
      "                    46, \n",
      "                    \"https://static.seekingalpha.com/cdn/s3/uploads/getty_images/598985780/image_598985780.jpg\", \n",
      "                    \"None\",\n",
      "                    \"Microsoft has \"more than zero\" chance of closing Activision deal - analyst\", \n",
      "                    False, \n",
      "                    \"52996117\",\n",
      "                    \"newsAuthorUser\", \n",
      "                    \"[]\", \n",
      "                    \"[{'id': '575', 'type': 'tag'}]\",\n",
      "                    \"[]\", \n",
      "                    \"[]\", \n",
      "                    \"/news/3978944-microsoft-has-more-than-zero-chance-of-closing-activision-deal-analyst\"\n",
      "                    ) \n",
      "und weiter...\n",
      "MSFT: 19 rows/news inserted\n",
      "NVDA: 19 rows/news inserted\n",
      "TSLA: 19 rows/news inserted\n",
      "UNH: 19 rows/news inserted\n",
      "errors in response for 02020\n",
      "CELH: 19 rows/news inserted\n",
      "BN: 19 rows/news inserted\n",
      "DKS: 19 rows/news inserted\n",
      "errors in response for JD.\n",
      "errors in response for 02331\n",
      "LULU: 19 rows/news inserted\n",
      "NKE: 19 rows/news inserted\n",
      "ONON: 19 rows/news inserted\n",
      "errors in response for 2267\n",
      "BIDU: 19 rows/news inserted\n",
      "errors in response for 035720\n",
      "errors in response for 01024\n",
      "errors in response for 035420\n",
      "NTES: 19 rows/news inserted\n",
      "errors in response for 3659\n",
      "SNAP: 19 rows/news inserted\n",
      "SPOT: 19 rows/news inserted\n",
      "errors in response for 00700\n",
      "ALB: 19 rows/news inserted\n",
      "errors in response for 01211\n",
      "errors in response for 300750\n",
      "errors in response for 300014\n",
      "errors in response for 6752\n",
      "errors in response for 006400\n",
      "SQM: 19 rows/news inserted\n",
      "errors in response for 6762\n",
      "errors in response for 002466\n",
      "near \"more\": syntax error \n",
      "insert_sql: INSERT INTO list_by_symbol ('id', 'symbol', 'dtupdate', 'type', 'attributes.publishOn', 'attributes.isLockedPro', 'attributes.commentCount', 'attributes.gettyImageUrl', 'attributes.videoPreviewUrl', 'attributes.title','attributes.isPaywalled', 'relationships.author.data.id','relationships.author.data.type', 'relationships.sentiments.data','relationships.primaryTickers.data', 'relationships.secondaryTickers.data', 'relationships.otherTags.data','links.self') \n",
      "                        values ( \n",
      "                    \"3978944\", \n",
      "                    \"ATVI\",\n",
      "                    \"2023-06-11\",\n",
      "                    \"news\", \n",
      "                    \"2023-06-09T09:26:45-04:00\", \n",
      "                    False,\n",
      "                    46, \n",
      "                    \"https://static.seekingalpha.com/cdn/s3/uploads/getty_images/598985780/image_598985780.jpg\", \n",
      "                    \"None\",\n",
      "                    \"Microsoft has \"more than zero\" chance of closing Activision deal - analyst\", \n",
      "                    False, \n",
      "                    \"52996117\",\n",
      "                    \"newsAuthorUser\", \n",
      "                    \"[]\", \n",
      "                    \"[{'id': '12194', 'type': 'tag'}]\",\n",
      "                    \"[]\", \n",
      "                    \"[]\", \n",
      "                    \"/news/3978944-microsoft-has-more-than-zero-chance-of-closing-activision-deal-analyst\"\n",
      "                    ) \n",
      "und weiter...\n",
      "ATVI: 19 rows/news inserted\n",
      "BKNG: 19 rows/news inserted\n",
      "LOW: 19 rows/news inserted\n",
      "SBUX: 19 rows/news inserted\n",
      "HD: 19 rows/news inserted\n",
      "UBER: 19 rows/news inserted\n",
      "AIR: 19 rows/news inserted\n",
      "ALV: 19 rows/news inserted\n",
      "BAS: 19 rows/news inserted\n",
      "DTE: 19 rows/news inserted\n",
      "errors in response for MUV2\n",
      "SAP: 19 rows/news inserted\n",
      "AZTA: 19 rows/news inserted\n",
      "CGNX: 19 rows/news inserted\n",
      "errors in response for 6954\n",
      "ISRG: 19 rows/news inserted\n",
      "errors in response for KARN\n",
      "errors in response for 6861\n",
      "NOVT: 19 rows/news inserted\n",
      "near \"major\": syntax error \n",
      "insert_sql: INSERT INTO list_by_symbol ('id', 'symbol', 'dtupdate', 'type', 'attributes.publishOn', 'attributes.isLockedPro', 'attributes.commentCount', 'attributes.gettyImageUrl', 'attributes.videoPreviewUrl', 'attributes.title','attributes.isPaywalled', 'relationships.author.data.id','relationships.author.data.type', 'relationships.sentiments.data','relationships.primaryTickers.data', 'relationships.secondaryTickers.data', 'relationships.otherTags.data','links.self') \n",
      "                        values ( \n",
      "                    \"3949934\", \n",
      "                    \"NOW\",\n",
      "                    \"2023-06-11\",\n",
      "                    \"news\", \n",
      "                    \"2023-03-22T09:56:03-04:00\", \n",
      "                    False,\n",
      "                    2, \n",
      "                    \"https://static.seekingalpha.com/cdn/s3/uploads/getty_images/1173020535/image_1173020535.jpg\", \n",
      "                    \"None\",\n",
      "                    \"ServiceNow announces \"major expansion\" for its Utah platform\", \n",
      "                    False, \n",
      "                    \"57442451\",\n",
      "                    \"newsAuthorUser\", \n",
      "                    \"[]\", \n",
      "                    \"[{'id': '44151', 'type': 'tag'}]\",\n",
      "                    \"[]\", \n",
      "                    \"[]\", \n",
      "                    \"/news/3949934-servicenow-announces-major-expansion-for-its-utah-platform\"\n",
      "                    ) \n",
      "und weiter...\n",
      "NOW: 19 rows/news inserted\n",
      "SSYS: 19 rows/news inserted\n",
      "ZBRA: 19 rows/news inserted\n",
      "ADBE: 19 rows/news inserted\n",
      "CDNS: 19 rows/news inserted\n",
      "INTU: 19 rows/news inserted\n",
      "ORCL: 19 rows/news inserted\n",
      "PANW: 19 rows/news inserted\n",
      "CRM: 19 rows/news inserted\n",
      "SNPS: 19 rows/news inserted\n",
      "BB: 19 rows/news inserted\n",
      "AI: 19 rows/news inserted\n",
      "CIEN: 19 rows/news inserted\n",
      "ILMN: 19 rows/news inserted\n",
      "MBLY: 19 rows/news inserted\n",
      "NICE: 19 rows/news inserted\n",
      "PATH: 19 rows/news inserted\n",
      "WDAY: 19 rows/news inserted\n",
      "errors in response for 09988\n",
      "errors in response for 09888\n",
      "errors in response for 03988\n",
      "errors in response for 00939\n",
      "errors in response for 09618\n",
      "errors in response for 03690\n",
      "errors in response for 09999\n",
      "PDD: 19 rows/news inserted\n",
      "errors in response for 02318\n",
      "errors in response for ELET3\n",
      "ED: 19 rows/news inserted\n",
      "EDP: 0 rows/news inserted\n",
      "ENPH: 19 rows/news inserted\n",
      "FSLR: 19 rows/news inserted\n",
      "errors in response for IBE\n",
      "errors in response for ORSTED\n",
      "PLUG: 19 rows/news inserted\n",
      "SEDG: 19 rows/news inserted\n",
      "errors in response for VWS\n",
      "EIX: 19 rows/news inserted\n",
      "errors in response for 373220\n",
      "PCG: 19 rows/news inserted\n",
      "SU: 19 rows/news inserted\n",
      "ABBV: 19 rows/news inserted\n",
      "T: 19 rows/news inserted\n",
      "BATS: 19 rows/news inserted\n",
      "AVGO: 19 rows/news inserted\n",
      "CSCO: 19 rows/news inserted\n",
      "INTC: 19 rows/news inserted\n",
      "PFE: 19 rows/news inserted\n",
      "SHEL: 19 rows/news inserted\n",
      "TTE: 19 rows/news inserted\n",
      "errors in response for 7203\n",
      "CVX: 19 rows/news inserted\n",
      "LLY: 19 rows/news inserted\n",
      "MCD: 19 rows/news inserted\n",
      "MRK: 19 rows/news inserted\n",
      "Extra data: line 1 column 5 (char 4) \n",
      "response:<Response [503]>\n",
      "PEP: 19 rows/news inserted\n",
      "errors in response for AKBNK\n",
      "errors in response for BIMAS\n",
      "errors in response for EREGL\n",
      "errors in response for FROTO\n",
      "errors in response for KCHOL\n",
      "errors in response for SASA\n",
      "errors in response for TUPRS\n",
      "errors in response for THYAO\n",
      "errors in response for ISCTR\n",
      "errors in response for SISE\n",
      "CS: 19 rows/news inserted\n",
      "BBVA: 19 rows/news inserted\n",
      "SAN: 19 rows/news inserted\n",
      "errors in response for BNP\n",
      "errors in response for HSBA\n",
      "errors in response for INGA\n",
      "errors in response for UBSG\n",
      "errors in response for ZURN\n"
     ]
    }
   ],
   "source": [
    "# die jeweils letzten 20 news der topholdings aus seekingalpha holen und in die Tabelle list_by_symbol speichern\n",
    "conn, _  = newsdb.create_connection('data/seeking-alpha.db')\n",
    "for symbol in querylist:\n",
    "    list_by_symboldf, response = newsdb.get_news_list_by_symbol(symbol)\n",
    "    if list_by_symboldf is not None and list_by_symboldf.shape != (0,0) :\n",
    "        newsdb.insert_list_by_symbol(conn, f'{symbol}', list_by_symboldf)\n",
    "conn.close()"
   ]
  },
  {
   "attachments": {},
   "cell_type": "markdown",
   "metadata": {},
   "source": [
    "Die titles aus den news und mit FinBert den sentiment bewerten und in die newsdb speichern"
   ]
  },
  {
   "cell_type": "code",
   "execution_count": 6,
   "metadata": {},
   "outputs": [
    {
     "name": "stdout",
     "output_type": "stream",
     "text": [
      "db_file:data/seeking-alpha.db\n"
     ]
    }
   ],
   "source": [
    "conn, _  = newsdb.create_connection('data/seeking-alpha.db')"
   ]
  },
  {
   "cell_type": "code",
   "execution_count": 23,
   "metadata": {},
   "outputs": [],
   "source": [
    "def create_table_sentiment_title_list(conn):\n",
    "\tcreate_table = \"\"\"CREATE TABLE sentiment_title_list (\n",
    "\t\t'id' INTEGER PRIMARY KEY, \n",
    "\t\t'sentiment' TEXT,\n",
    "\t\t'modelname' TEXT,\n",
    "\t\t'dtupdate'     TIMESTAMP);\"\"\"\n",
    "\ttry:\n",
    "\t\tc = conn.cursor()\n",
    "\t\tc.execute(create_table)\n",
    "\t\t#c.execute(create_table_pk)\n",
    "\t\treturn conn\n",
    "\texcept sqlite3.Error as e:\n",
    "\t\tprint(str(e) + '/n failed sql:' + create_table)\n",
    "\treturn conn\n"
   ]
  },
  {
   "cell_type": "code",
   "execution_count": 3,
   "metadata": {},
   "outputs": [
    {
     "ename": "NameError",
     "evalue": "name 'create_table_sentiment_title_list' is not defined",
     "output_type": "error",
     "traceback": [
      "\u001b[1;31m---------------------------------------------------------------------------\u001b[0m",
      "\u001b[1;31mNameError\u001b[0m                                 Traceback (most recent call last)",
      "Cell \u001b[1;32mIn[3], line 1\u001b[0m\n\u001b[1;32m----> 1\u001b[0m create_table_sentiment_title_list(conn)\n",
      "\u001b[1;31mNameError\u001b[0m: name 'create_table_sentiment_title_list' is not defined"
     ]
    }
   ],
   "source": [
    "create_table_sentiment_title_list(conn)"
   ]
  },
  {
   "cell_type": "code",
   "execution_count": 7,
   "metadata": {},
   "outputs": [],
   "source": [
    "sql = \"\"\"select id, \"attributes.publishOn\", \"attributes.title\" \n",
    "            from list_by_symbol\n",
    "            where id not in (select id from sentiment_title_list)\"\"\"\n",
    "\n",
    "sentimentdf  = pd.read_sql(sql, conn)\n"
   ]
  },
  {
   "cell_type": "code",
   "execution_count": 9,
   "metadata": {},
   "outputs": [],
   "source": [
    "def insert_sentiment_title_list(conn, dfsentiment, modelname= 'yiyanghkust/finbert-tone'):\n",
    "    cursor = conn.cursor()\n",
    "    idl = list(dfsentiment['id'])\n",
    "    selsql = f\"\"\"select id from sentiment_title_list where id in ({str(idl)[1:-1]}) and modelname = '{modelname}'\"\"\"\n",
    "    ids = pd.read_sql(selsql, conn)\n",
    "    delsql = f\"\"\"delete from sentiment_title_list where id in ({str(list(ids['id']))[1:-1]}) and modelname = '{modelname}'\"\"\"\n",
    "    conn.execute(delsql)\n",
    "    for index, row in dfsentiment.iterrows():\n",
    "        insert_sql = f\"\"\"INSERT INTO sentiment_title_list ('id', 'sentiment', 'modelname', 'dtupdate') \n",
    "                                values ( \n",
    "                            \"{row['id']}\", \n",
    "                            \"{row['sentiment']}\",\n",
    "                            \"{modelname}\",\n",
    "                            \"{datetime.datetime.today().strftime('%Y-%m-%d')}\"\n",
    "                            )\"\"\"\n",
    "        try:\n",
    "            cursor.execute(insert_sql)\n",
    "        except sqlite3.Error as e:\n",
    "            print(str(e) + ' \\ninsert_sql: '+ insert_sql +' \\nund weiter...')\n",
    "            pass\n",
    "    conn.commit()\n",
    "    print(f'{modelname}: {str(index)} rows inserted')\n",
    "    return conn\n"
   ]
  },
  {
   "attachments": {},
   "cell_type": "markdown",
   "metadata": {},
   "source": [
    "Für jeden ETF für jedes symbol die titles aus der DB selektieren und in Finbert stecken, heraus soll eine Tabelle mit newsid, symbol publishOn, sentiment kommen, zu kompliziert\n",
    "Alle neuen werden gesentimented und in die sentiment_title_list geschrieben."
   ]
  },
  {
   "cell_type": "code",
   "execution_count": 8,
   "metadata": {},
   "outputs": [
    {
     "name": "stderr",
     "output_type": "stream",
     "text": [
      "c:\\Users\\baerw\\.conda\\envs\\py39\\lib\\site-packages\\tqdm\\auto.py:21: TqdmWarning: IProgress not found. Please update jupyter and ipywidgets. See https://ipywidgets.readthedocs.io/en/stable/user_install.html\n",
      "  from .autonotebook import tqdm as notebook_tqdm\n"
     ]
    }
   ],
   "source": [
    "from transformers import BertTokenizer, BertForSequenceClassification\n",
    "from transformers import pipeline"
   ]
  },
  {
   "cell_type": "code",
   "execution_count": 10,
   "metadata": {},
   "outputs": [
    {
     "name": "stdout",
     "output_type": "stream",
     "text": [
      "[{'label': 'Positive', 'score': 0.9997596144676208}, {'label': 'Positive', 'score': 0.9544219374656677}, {'label': 'Neutral', 'score': 0.9974038004875183}, {'label': 'Neutral', 'score': 0.9979173541069031}, {'label': 'Positive', 'score': 0.9433016777038574}, {'label': 'Positive', 'score': 1.0}, {'label': 'Negative', 'score': 0.500563383102417}, {'label': 'Neutral', 'score': 0.9999102354049683}, {'label': 'Positive', 'score': 0.9999994039535522}, {'label': 'Negative', 'score': 0.9416165947914124}, {'label': 'Positive', 'score': 0.9993267059326172}, {'label': 'Neutral', 'score': 0.9993292093276978}, {'label': 'Neutral', 'score': 0.9999977350234985}, {'label': 'Neutral', 'score': 0.9997894167900085}, {'label': 'Positive', 'score': 0.902030348777771}, {'label': 'Positive', 'score': 0.8017893433570862}, {'label': 'Negative', 'score': 0.9999995231628418}, {'label': 'Neutral', 'score': 0.9824297428131104}, {'label': 'Neutral', 'score': 0.9234724044799805}, {'label': 'Neutral', 'score': 0.9952189326286316}, {'label': 'Neutral', 'score': 0.9047624468803406}, {'label': 'Neutral', 'score': 0.9998231530189514}, {'label': 'Negative', 'score': 0.9721401333808899}, {'label': 'Positive', 'score': 1.0}, {'label': 'Positive', 'score': 0.9987879395484924}, {'label': 'Neutral', 'score': 0.9982736110687256}, {'label': 'Neutral', 'score': 0.9946625828742981}, {'label': 'Negative', 'score': 0.9936432838439941}, {'label': 'Neutral', 'score': 0.9989438652992249}, {'label': 'Neutral', 'score': 0.9999614953994751}, {'label': 'Positive', 'score': 0.8803058862686157}, {'label': 'Negative', 'score': 0.9999392032623291}, {'label': 'Neutral', 'score': 0.9138382077217102}, {'label': 'Positive', 'score': 0.9181566834449768}, {'label': 'Neutral', 'score': 0.9998929500579834}, {'label': 'Neutral', 'score': 0.9949395656585693}, {'label': 'Neutral', 'score': 0.9909785985946655}, {'label': 'Neutral', 'score': 0.9961141347885132}, {'label': 'Neutral', 'score': 0.9982378482818604}, {'label': 'Positive', 'score': 0.9999798536300659}, {'label': 'Positive', 'score': 0.9999901056289673}, {'label': 'Neutral', 'score': 0.9999966621398926}, {'label': 'Negative', 'score': 0.7828959822654724}, {'label': 'Positive', 'score': 0.9999986886978149}, {'label': 'Negative', 'score': 0.9999996423721313}, {'label': 'Positive', 'score': 0.9999998807907104}, {'label': 'Neutral', 'score': 0.9991132616996765}, {'label': 'Positive', 'score': 0.9999831914901733}, {'label': 'Neutral', 'score': 0.8082596063613892}, {'label': 'Positive', 'score': 1.0}, {'label': 'Neutral', 'score': 0.9998025298118591}, {'label': 'Neutral', 'score': 0.9999936819076538}, {'label': 'Positive', 'score': 0.9999178647994995}, {'label': 'Neutral', 'score': 0.7771853804588318}, {'label': 'Positive', 'score': 0.44734615087509155}, {'label': 'Positive', 'score': 0.9999803304672241}, {'label': 'Neutral', 'score': 0.998221218585968}, {'label': 'Neutral', 'score': 0.985170304775238}, {'label': 'Neutral', 'score': 0.9998669624328613}, {'label': 'Neutral', 'score': 0.8863510489463806}, {'label': 'Positive', 'score': 1.0}, {'label': 'Neutral', 'score': 0.9976531863212585}, {'label': 'Negative', 'score': 0.9044049978256226}, {'label': 'Neutral', 'score': 0.9983892440795898}, {'label': 'Positive', 'score': 0.8310954570770264}, {'label': 'Positive', 'score': 0.9999700784683228}, {'label': 'Negative', 'score': 0.9999970197677612}, {'label': 'Neutral', 'score': 0.9999815225601196}, {'label': 'Positive', 'score': 0.9999998807907104}, {'label': 'Positive', 'score': 1.0}, {'label': 'Neutral', 'score': 0.9999889135360718}, {'label': 'Positive', 'score': 1.0}, {'label': 'Negative', 'score': 0.9997664093971252}, {'label': 'Negative', 'score': 0.9895619750022888}, {'label': 'Neutral', 'score': 0.9508051872253418}, {'label': 'Neutral', 'score': 0.9931061863899231}, {'label': 'Neutral', 'score': 0.9926682114601135}, {'label': 'Neutral', 'score': 0.9999959468841553}, {'label': 'Negative', 'score': 0.9999626874923706}, {'label': 'Negative', 'score': 0.9996215105056763}, {'label': 'Neutral', 'score': 0.9952971339225769}, {'label': 'Neutral', 'score': 0.8927570581436157}, {'label': 'Positive', 'score': 0.9999899864196777}, {'label': 'Positive', 'score': 0.9999984502792358}, {'label': 'Neutral', 'score': 0.9986081719398499}, {'label': 'Neutral', 'score': 0.9993113279342651}, {'label': 'Positive', 'score': 0.9973374009132385}, {'label': 'Positive', 'score': 0.9999938011169434}, {'label': 'Positive', 'score': 0.9931851029396057}, {'label': 'Neutral', 'score': 0.9998950958251953}, {'label': 'Neutral', 'score': 0.9998047947883606}, {'label': 'Neutral', 'score': 0.999995231628418}, {'label': 'Positive', 'score': 0.9999815225601196}, {'label': 'Neutral', 'score': 0.9232217669487}, {'label': 'Neutral', 'score': 0.9999051094055176}, {'label': 'Neutral', 'score': 0.9950182437896729}, {'label': 'Neutral', 'score': 0.9997733235359192}, {'label': 'Negative', 'score': 0.998331606388092}, {'label': 'Positive', 'score': 1.0}, {'label': 'Neutral', 'score': 0.9950733780860901}, {'label': 'Positive', 'score': 0.9999384880065918}, {'label': 'Neutral', 'score': 0.9996950626373291}, {'label': 'Neutral', 'score': 0.9997155070304871}, {'label': 'Neutral', 'score': 0.9992126226425171}, {'label': 'Negative', 'score': 0.999992847442627}, {'label': 'Negative', 'score': 0.9980533123016357}, {'label': 'Neutral', 'score': 0.5435690879821777}, {'label': 'Positive', 'score': 0.9300430417060852}, {'label': 'Positive', 'score': 0.9999854564666748}, {'label': 'Neutral', 'score': 0.9999929666519165}, {'label': 'Negative', 'score': 0.9999998807907104}, {'label': 'Negative', 'score': 0.9997302889823914}, {'label': 'Negative', 'score': 0.9886175990104675}, {'label': 'Positive', 'score': 0.9999942779541016}, {'label': 'Neutral', 'score': 0.9999489784240723}, {'label': 'Neutral', 'score': 0.9999730587005615}, {'label': 'Neutral', 'score': 0.9991426467895508}, {'label': 'Neutral', 'score': 0.9999345541000366}, {'label': 'Positive', 'score': 0.9998886585235596}, {'label': 'Neutral', 'score': 0.999518632888794}, {'label': 'Positive', 'score': 0.9853781461715698}, {'label': 'Positive', 'score': 1.0}, {'label': 'Neutral', 'score': 0.9999278783798218}, {'label': 'Neutral', 'score': 0.9999675750732422}, {'label': 'Neutral', 'score': 0.950245201587677}, {'label': 'Positive', 'score': 0.999104917049408}, {'label': 'Positive', 'score': 1.0}, {'label': 'Positive', 'score': 0.8904772400856018}, {'label': 'Neutral', 'score': 0.9999974966049194}, {'label': 'Negative', 'score': 0.9998102784156799}, {'label': 'Neutral', 'score': 0.7174456119537354}, {'label': 'Positive', 'score': 0.8092817068099976}, {'label': 'Neutral', 'score': 0.9993972778320312}, {'label': 'Neutral', 'score': 0.9924638271331787}, {'label': 'Neutral', 'score': 0.9974246025085449}, {'label': 'Negative', 'score': 0.9999344348907471}, {'label': 'Negative', 'score': 0.9948209524154663}, {'label': 'Positive', 'score': 0.9999998807907104}, {'label': 'Neutral', 'score': 0.9969315528869629}, {'label': 'Neutral', 'score': 0.9369063377380371}, {'label': 'Neutral', 'score': 0.8501796722412109}, {'label': 'Positive', 'score': 0.9999998807907104}, {'label': 'Neutral', 'score': 0.999840497970581}, {'label': 'Negative', 'score': 0.9804107546806335}, {'label': 'Neutral', 'score': 0.9980205297470093}, {'label': 'Negative', 'score': 0.9934184551239014}, {'label': 'Neutral', 'score': 0.9989181756973267}, {'label': 'Positive', 'score': 0.9953150749206543}, {'label': 'Positive', 'score': 0.9999994039535522}, {'label': 'Neutral', 'score': 0.9999902248382568}, {'label': 'Neutral', 'score': 0.9914522171020508}, {'label': 'Neutral', 'score': 0.7797741889953613}, {'label': 'Neutral', 'score': 0.8036455512046814}, {'label': 'Positive', 'score': 0.5207646489143372}, {'label': 'Neutral', 'score': 0.9708151817321777}, {'label': 'Neutral', 'score': 0.9865149855613708}, {'label': 'Neutral', 'score': 0.9999468326568604}, {'label': 'Neutral', 'score': 0.9999926090240479}, {'label': 'Neutral', 'score': 0.999850869178772}, {'label': 'Neutral', 'score': 0.9990919828414917}, {'label': 'Positive', 'score': 0.999586284160614}, {'label': 'Neutral', 'score': 0.9975537657737732}, {'label': 'Neutral', 'score': 0.9819298386573792}, {'label': 'Positive', 'score': 0.9999996423721313}, {'label': 'Positive', 'score': 0.999966025352478}, {'label': 'Neutral', 'score': 0.9468590617179871}, {'label': 'Positive', 'score': 0.9997232556343079}, {'label': 'Positive', 'score': 0.9941176176071167}, {'label': 'Neutral', 'score': 0.9928573369979858}, {'label': 'Positive', 'score': 0.9999980926513672}, {'label': 'Neutral', 'score': 0.9982897639274597}, {'label': 'Positive', 'score': 0.9993103742599487}, {'label': 'Positive', 'score': 0.9867053627967834}, {'label': 'Neutral', 'score': 0.9999808073043823}, {'label': 'Positive', 'score': 0.9781005382537842}, {'label': 'Neutral', 'score': 0.9996981620788574}, {'label': 'Negative', 'score': 0.9999582767486572}, {'label': 'Negative', 'score': 0.5678909420967102}, {'label': 'Neutral', 'score': 0.9993194341659546}, {'label': 'Neutral', 'score': 0.9999842643737793}, {'label': 'Neutral', 'score': 0.9999715089797974}, {'label': 'Neutral', 'score': 0.9999799728393555}, {'label': 'Neutral', 'score': 0.6330695152282715}, {'label': 'Negative', 'score': 0.9997720122337341}, {'label': 'Neutral', 'score': 0.9998832941055298}, {'label': 'Positive', 'score': 0.9946638345718384}, {'label': 'Positive', 'score': 0.9998688697814941}, {'label': 'Positive', 'score': 1.0}, {'label': 'Positive', 'score': 1.0}, {'label': 'Negative', 'score': 0.999969482421875}, {'label': 'Neutral', 'score': 0.9998326301574707}, {'label': 'Neutral', 'score': 0.9991393089294434}, {'label': 'Neutral', 'score': 0.9995473027229309}, {'label': 'Neutral', 'score': 0.9999055862426758}, {'label': 'Neutral', 'score': 0.9807873964309692}, {'label': 'Positive', 'score': 0.9963885545730591}, {'label': 'Neutral', 'score': 0.7443360686302185}, {'label': 'Neutral', 'score': 0.9997674822807312}, {'label': 'Positive', 'score': 0.9999973773956299}, {'label': 'Positive', 'score': 0.9987804293632507}, {'label': 'Positive', 'score': 0.9999995231628418}, {'label': 'Positive', 'score': 0.9999501705169678}, {'label': 'Neutral', 'score': 0.7339097857475281}, {'label': 'Positive', 'score': 1.0}, {'label': 'Negative', 'score': 0.9999880790710449}, {'label': 'Neutral', 'score': 0.9999951124191284}, {'label': 'Negative', 'score': 0.9998387098312378}, {'label': 'Neutral', 'score': 0.9774568676948547}, {'label': 'Neutral', 'score': 0.9975454211235046}, {'label': 'Neutral', 'score': 0.9998446702957153}, {'label': 'Neutral', 'score': 0.9994506239891052}, {'label': 'Neutral', 'score': 0.999738872051239}, {'label': 'Neutral', 'score': 0.9955834746360779}, {'label': 'Positive', 'score': 0.9999194145202637}, {'label': 'Neutral', 'score': 0.9999629259109497}, {'label': 'Neutral', 'score': 0.9950898885726929}, {'label': 'Positive', 'score': 0.9866107106208801}, {'label': 'Positive', 'score': 0.9999991655349731}, {'label': 'Neutral', 'score': 0.9607843160629272}, {'label': 'Neutral', 'score': 0.9997947812080383}, {'label': 'Neutral', 'score': 0.9959840774536133}, {'label': 'Neutral', 'score': 0.9997221827507019}, {'label': 'Positive', 'score': 0.9995040893554688}, {'label': 'Neutral', 'score': 0.9999451637268066}, {'label': 'Negative', 'score': 0.9999945163726807}, {'label': 'Positive', 'score': 0.9999996423721313}, {'label': 'Neutral', 'score': 0.999545156955719}, {'label': 'Positive', 'score': 0.7051064372062683}, {'label': 'Positive', 'score': 0.6183710694313049}, {'label': 'Neutral', 'score': 0.9997842907905579}, {'label': 'Positive', 'score': 0.9999927282333374}, {'label': 'Neutral', 'score': 0.9989577531814575}, {'label': 'Positive', 'score': 0.9999982118606567}, {'label': 'Negative', 'score': 0.9939531683921814}, {'label': 'Positive', 'score': 1.0}, {'label': 'Positive', 'score': 1.0}, {'label': 'Negative', 'score': 0.9996581077575684}, {'label': 'Neutral', 'score': 0.9994737505912781}, {'label': 'Neutral', 'score': 0.9999927282333374}, {'label': 'Neutral', 'score': 0.998239278793335}, {'label': 'Positive', 'score': 0.9999998807907104}, {'label': 'Neutral', 'score': 0.9895496368408203}, {'label': 'Neutral', 'score': 0.9999570846557617}, {'label': 'Positive', 'score': 0.9999996423721313}, {'label': 'Neutral', 'score': 0.9999858140945435}, {'label': 'Positive', 'score': 0.88460773229599}, {'label': 'Neutral', 'score': 0.9999121427536011}, {'label': 'Neutral', 'score': 0.9999574422836304}, {'label': 'Neutral', 'score': 0.9062677025794983}, {'label': 'Neutral', 'score': 0.9999935626983643}, {'label': 'Neutral', 'score': 0.5297422409057617}, {'label': 'Neutral', 'score': 0.9999966621398926}, {'label': 'Neutral', 'score': 0.9516742825508118}, {'label': 'Negative', 'score': 0.9989098310470581}, {'label': 'Positive', 'score': 0.9999997615814209}, {'label': 'Neutral', 'score': 0.9998854398727417}, {'label': 'Positive', 'score': 0.9999997615814209}, {'label': 'Positive', 'score': 0.9999996423721313}, {'label': 'Neutral', 'score': 0.9999946355819702}, {'label': 'Neutral', 'score': 0.9999477863311768}, {'label': 'Neutral', 'score': 0.9981628060340881}, {'label': 'Neutral', 'score': 0.9998809099197388}, {'label': 'Positive', 'score': 0.9980310797691345}, {'label': 'Neutral', 'score': 0.9990463852882385}, {'label': 'Negative', 'score': 0.49558109045028687}, {'label': 'Negative', 'score': 0.9999841451644897}, {'label': 'Negative', 'score': 0.9999396800994873}, {'label': 'Positive', 'score': 0.7232763171195984}, {'label': 'Neutral', 'score': 0.9999939203262329}, {'label': 'Neutral', 'score': 0.9999920129776001}, {'label': 'Neutral', 'score': 0.9996174573898315}, {'label': 'Positive', 'score': 0.9999996423721313}, {'label': 'Positive', 'score': 0.9999529123306274}, {'label': 'Neutral', 'score': 0.9999933242797852}, {'label': 'Negative', 'score': 0.9999918937683105}, {'label': 'Negative', 'score': 0.9944762587547302}, {'label': 'Neutral', 'score': 0.9999377727508545}, {'label': 'Positive', 'score': 0.9467928409576416}, {'label': 'Neutral', 'score': 0.8964928984642029}, {'label': 'Positive', 'score': 0.8364454507827759}, {'label': 'Neutral', 'score': 0.9999911785125732}, {'label': 'Neutral', 'score': 0.9913280606269836}, {'label': 'Neutral', 'score': 0.9968858361244202}, {'label': 'Neutral', 'score': 0.9998106360435486}, {'label': 'Neutral', 'score': 0.9992153644561768}, {'label': 'Neutral', 'score': 0.936171293258667}, {'label': 'Negative', 'score': 0.9752238988876343}, {'label': 'Neutral', 'score': 0.9953039884567261}, {'label': 'Neutral', 'score': 0.9996697902679443}, {'label': 'Neutral', 'score': 0.8165390491485596}, {'label': 'Neutral', 'score': 0.9993367791175842}, {'label': 'Positive', 'score': 0.9999964237213135}, {'label': 'Positive', 'score': 0.9826425313949585}, {'label': 'Neutral', 'score': 0.9999991655349731}, {'label': 'Positive', 'score': 0.9999998807907104}, {'label': 'Negative', 'score': 0.9983837604522705}, {'label': 'Neutral', 'score': 0.9999939203262329}, {'label': 'Neutral', 'score': 0.999545156955719}, {'label': 'Neutral', 'score': 0.8224918842315674}, {'label': 'Negative', 'score': 0.9996490478515625}, {'label': 'Neutral', 'score': 0.999956488609314}, {'label': 'Neutral', 'score': 0.9999867677688599}, {'label': 'Positive', 'score': 0.9999948740005493}, {'label': 'Negative', 'score': 0.9999985694885254}, {'label': 'Neutral', 'score': 0.9965426325798035}, {'label': 'Positive', 'score': 0.9999996423721313}, {'label': 'Positive', 'score': 0.9998138546943665}, {'label': 'Neutral', 'score': 0.9989602565765381}, {'label': 'Positive', 'score': 0.939078688621521}, {'label': 'Positive', 'score': 1.0}, {'label': 'Neutral', 'score': 0.7546128034591675}, {'label': 'Neutral', 'score': 0.9999324083328247}, {'label': 'Negative', 'score': 0.9691948294639587}, {'label': 'Neutral', 'score': 0.9809515476226807}, {'label': 'Positive', 'score': 0.6378908157348633}, {'label': 'Positive', 'score': 0.8711167573928833}, {'label': 'Positive', 'score': 0.9986414313316345}, {'label': 'Neutral', 'score': 0.9625973105430603}, {'label': 'Neutral', 'score': 0.9999496936798096}, {'label': 'Neutral', 'score': 0.8303067088127136}, {'label': 'Neutral', 'score': 0.7914547920227051}, {'label': 'Neutral', 'score': 0.970748782157898}, {'label': 'Neutral', 'score': 0.9999912977218628}, {'label': 'Neutral', 'score': 0.8946905732154846}, {'label': 'Neutral', 'score': 0.9997933506965637}, {'label': 'Neutral', 'score': 0.9999980926513672}, {'label': 'Negative', 'score': 0.9999995231628418}, {'label': 'Positive', 'score': 0.9999996423721313}, {'label': 'Neutral', 'score': 0.999137282371521}, {'label': 'Positive', 'score': 0.9982074499130249}, {'label': 'Neutral', 'score': 0.9998080134391785}, {'label': 'Neutral', 'score': 0.9998329877853394}, {'label': 'Negative', 'score': 0.4862876534461975}, {'label': 'Neutral', 'score': 0.9999967813491821}, {'label': 'Neutral', 'score': 0.9998573064804077}, {'label': 'Positive', 'score': 0.9632993340492249}, {'label': 'Neutral', 'score': 0.9912681579589844}, {'label': 'Positive', 'score': 0.9844635725021362}, {'label': 'Positive', 'score': 0.9703308343887329}, {'label': 'Neutral', 'score': 0.6995647549629211}, {'label': 'Neutral', 'score': 0.999976634979248}, {'label': 'Neutral', 'score': 0.9999877214431763}, {'label': 'Neutral', 'score': 0.9999799728393555}, {'label': 'Neutral', 'score': 0.9995718598365784}, {'label': 'Neutral', 'score': 0.9844584465026855}, {'label': 'Neutral', 'score': 0.9999831914901733}, {'label': 'Neutral', 'score': 0.9954677820205688}, {'label': 'Positive', 'score': 0.6951612234115601}, {'label': 'Negative', 'score': 0.5197641253471375}, {'label': 'Positive', 'score': 1.0}, {'label': 'Neutral', 'score': 0.9999761581420898}, {'label': 'Positive', 'score': 0.9999971389770508}, {'label': 'Neutral', 'score': 0.9996452331542969}, {'label': 'Neutral', 'score': 0.999568521976471}, {'label': 'Neutral', 'score': 0.9999245405197144}, {'label': 'Neutral', 'score': 0.9999914169311523}, {'label': 'Positive', 'score': 1.0}, {'label': 'Neutral', 'score': 0.9968487620353699}, {'label': 'Neutral', 'score': 0.9973618388175964}, {'label': 'Positive', 'score': 0.999998927116394}, {'label': 'Positive', 'score': 0.9982531666755676}, {'label': 'Neutral', 'score': 0.9985913634300232}, {'label': 'Neutral', 'score': 0.9999943971633911}, {'label': 'Neutral', 'score': 0.9999868869781494}, {'label': 'Neutral', 'score': 0.8399645686149597}, {'label': 'Neutral', 'score': 0.9997865557670593}, {'label': 'Positive', 'score': 1.0}, {'label': 'Neutral', 'score': 0.9909193515777588}, {'label': 'Negative', 'score': 0.8408473134040833}, {'label': 'Neutral', 'score': 0.9994803071022034}, {'label': 'Positive', 'score': 0.9810141921043396}, {'label': 'Neutral', 'score': 0.996557891368866}, {'label': 'Negative', 'score': 0.9999562501907349}, {'label': 'Negative', 'score': 0.9818122982978821}, {'label': 'Positive', 'score': 0.9999940395355225}, {'label': 'Neutral', 'score': 0.9925563931465149}, {'label': 'Neutral', 'score': 0.9999980926513672}, {'label': 'Neutral', 'score': 0.9999709129333496}, {'label': 'Neutral', 'score': 0.9999443292617798}, {'label': 'Positive', 'score': 0.9990309476852417}, {'label': 'Neutral', 'score': 0.9981223940849304}, {'label': 'Positive', 'score': 0.9999639987945557}, {'label': 'Positive', 'score': 0.9999415874481201}, {'label': 'Neutral', 'score': 0.9664108157157898}, {'label': 'Negative', 'score': 0.9997933506965637}, {'label': 'Negative', 'score': 0.9817638993263245}, {'label': 'Positive', 'score': 1.0}, {'label': 'Positive', 'score': 1.0}]\n",
      "yiyanghkust/finbert-tone: 387 rows inserted\n"
     ]
    }
   ],
   "source": [
    "finbert = BertForSequenceClassification.from_pretrained('yiyanghkust/finbert-tone',num_labels=3)\n",
    "tokenizer = BertTokenizer.from_pretrained('yiyanghkust/finbert-tone')\n",
    "\n",
    "nlp = pipeline(\"sentiment-analysis\", model=finbert, tokenizer=tokenizer)\n",
    "\n",
    "sentences = list(sentimentdf['attributes.title'])\n",
    "results = nlp(sentences)\n",
    "print(results)  #LABEL_0: neutral; LABEL_1: positive; LABEL_2: negative\n",
    "\n",
    "# \n",
    "sentimentdf['sentiment'] = results\n",
    "conn = insert_sentiment_title_list(conn, sentimentdf)"
   ]
  },
  {
   "attachments": {},
   "cell_type": "markdown",
   "metadata": {},
   "source": [
    "1340 titles in 27m 58.6 sentimented auf der CPU\n",
    "<br>\n",
    "387 titles in 7m 44.5"
   ]
  },
  {
   "cell_type": "code",
   "execution_count": 5,
   "metadata": {},
   "outputs": [],
   "source": [
    "# Alle \n",
    "sql = \"\"\"select * \n",
    "         from list_by_symbol l\n",
    "         left join sentiment_title_list s on s.id = l.id\n",
    "         \"\"\"\n",
    "sentimentdf  = pd.read_sql(sql, conn)"
   ]
  },
  {
   "cell_type": "code",
   "execution_count": 7,
   "metadata": {},
   "outputs": [],
   "source": [
    "#json.dumps(sentimentdf['sentiment'][0])\n",
    "sentimentvalued = [eval(x) for x in sentimentdf['sentiment']]"
   ]
  },
  {
   "cell_type": "code",
   "execution_count": 8,
   "metadata": {},
   "outputs": [],
   "source": [
    "sentimentvaluedf = pd.DataFrame(sentimentvalued)"
   ]
  },
  {
   "cell_type": "code",
   "execution_count": 9,
   "metadata": {},
   "outputs": [],
   "source": [
    "sentimentdf['label']= sentimentvaluedf['label']\n",
    "sentimentdf['score']= sentimentvaluedf['score']"
   ]
  },
  {
   "cell_type": "code",
   "execution_count": 10,
   "metadata": {},
   "outputs": [],
   "source": [
    "scatterdf = pd.merge(agg_tophdf,sentimentdf, on='symbol', how='left')"
   ]
  },
  {
   "cell_type": "code",
   "execution_count": 11,
   "metadata": {},
   "outputs": [],
   "source": [
    "yahoo_symbol_scatterdf =  scatterdf[scatterdf['yahoo_symbol'] == 'ACWI'][['yahoo_symbol','attributes.publishOn','label','score']]\n",
    "#yahoo_symbol_scatterdf =  scatterdf[['yahoo_symbol','attributes.publishOn','label','score']]"
   ]
  },
  {
   "cell_type": "code",
   "execution_count": 12,
   "metadata": {},
   "outputs": [
    {
     "data": {
      "text/plain": [
       "yahoo_symbol             object\n",
       "attributes.publishOn     object\n",
       "label                    object\n",
       "score                   float64\n",
       "dtype: object"
      ]
     },
     "execution_count": 12,
     "metadata": {},
     "output_type": "execute_result"
    }
   ],
   "source": [
    "yahoo_symbol_scatterdf.dtypes"
   ]
  },
  {
   "cell_type": "code",
   "execution_count": 13,
   "metadata": {},
   "outputs": [],
   "source": [
    "dttimes = pd.to_datetime(scatterdf[scatterdf['yahoo_symbol'] == 'ACWI']['attributes.publishOn']).dropna()\n",
    "dttimes1 = pd.to_datetime(scatterdf[scatterdf['yahoo_symbol'] == 'URTH']['attributes.publishOn']).dropna()\n",
    "dttimes2 = pd.to_datetime(scatterdf['attributes.publishOn'].dropna().sort_values())"
   ]
  },
  {
   "cell_type": "code",
   "execution_count": 14,
   "metadata": {},
   "outputs": [
    {
     "data": {
      "text/plain": [
       "(datetime64[ns, pytz.FixedOffset(-240)],\n",
       " datetime64[ns, pytz.FixedOffset(-240)],\n",
       " dtype('O'))"
      ]
     },
     "execution_count": 14,
     "metadata": {},
     "output_type": "execute_result"
    }
   ],
   "source": [
    "dttimes.dtypes, dttimes1.dtypes, dttimes2.dtypes\n",
    "#dttimes1[0:10].map(pd.Timestamp.timestamp)"
   ]
  },
  {
   "cell_type": "code",
   "execution_count": 15,
   "metadata": {},
   "outputs": [],
   "source": [
    "yahoo_symbol_scatterdf['dttimes'] = dttimes.map(pd.Timestamp.timestamp)"
   ]
  },
  {
   "cell_type": "code",
   "execution_count": 25,
   "metadata": {},
   "outputs": [],
   "source": [
    "# Define a function to summarize the label\n",
    "def summarize_label(row):\n",
    "    if row['label'] == 'Negative':\n",
    "        return abs(row['score'] -1)\n",
    "    elif row['label'] == 'Neutral':\n",
    "        return 0.5\n",
    "    else:\n",
    "        return row['score']\n"
   ]
  },
  {
   "cell_type": "code",
   "execution_count": 26,
   "metadata": {},
   "outputs": [],
   "source": [
    "# Apply the function to create a new column\n",
    "yahoo_symbol_scatterdf['summary'] = yahoo_symbol_scatterdf.apply(lambda row: summarize_label(row), axis=1)"
   ]
  },
  {
   "cell_type": "code",
   "execution_count": 27,
   "metadata": {},
   "outputs": [
    {
     "data": {
      "text/plain": [
       "<matplotlib.collections.PathCollection at 0x23fc23e8760>"
      ]
     },
     "execution_count": 27,
     "metadata": {},
     "output_type": "execute_result"
    },
    {
     "data": {
      "image/png": "[encoded data removed]",
      "text/plain": [
       "<Figure size 640x480 with 1 Axes>"
      ]
     },
     "metadata": {},
     "output_type": "display_data"
    }
   ],
   "source": [
    "import matplotlib.pyplot as plt\n",
    "import time\n",
    "\n",
    "plt.scatter(yahoo_symbol_scatterdf['dttimes'], yahoo_symbol_scatterdf['summary'])"
   ]
  },
  {
   "cell_type": "code",
   "execution_count": 31,
   "metadata": {},
   "outputs": [
    {
     "data": {
      "text/plain": [
       "Index(['symbol', 'holdingName', 'holdingPercent.raw', 'holdingPercent.fmt',\n",
       "       'yahoo_symbol', 'id', 'dtupdate', 'type', 'attributes.publishOn',\n",
       "       'attributes.isLockedPro', 'attributes.commentCount',\n",
       "       'attributes.gettyImageUrl', 'attributes.videoPreviewUrl',\n",
       "       'attributes.title', 'attributes.isPaywalled',\n",
       "       'relationships.author.data.id', 'relationships.author.data.type',\n",
       "       'relationships.sentiments.data', 'relationships.primaryTickers.data',\n",
       "       'relationships.secondaryTickers.data', 'relationships.otherTags.data',\n",
       "       'links.self', 'id', 'sentiment', 'modelname', 'dtupdate'],\n",
       "      dtype='object')"
      ]
     },
     "execution_count": 31,
     "metadata": {},
     "output_type": "execute_result"
    }
   ],
   "source": [
    "scatterdf.columns"
   ]
  },
  {
   "cell_type": "code",
   "execution_count": 127,
   "metadata": {},
   "outputs": [
    {
     "data": {
      "text/html": [
       "<div>\n",
       "<style scoped>\n",
       "    .dataframe tbody tr th:only-of-type {\n",
       "        vertical-align: middle;\n",
       "    }\n",
       "\n",
       "    .dataframe tbody tr th {\n",
       "        vertical-align: top;\n",
       "    }\n",
       "\n",
       "    .dataframe thead th {\n",
       "        text-align: right;\n",
       "    }\n",
       "</style>\n",
       "<table border=\"1\" class=\"dataframe\">\n",
       "  <thead>\n",
       "    <tr style=\"text-align: right;\">\n",
       "      <th></th>\n",
       "      <th>yahoo_symbol</th>\n",
       "      <th>attributes.publishOn</th>\n",
       "      <th>label</th>\n",
       "      <th>score</th>\n",
       "    </tr>\n",
       "  </thead>\n",
       "  <tbody>\n",
       "    <tr>\n",
       "      <th>0</th>\n",
       "      <td>ACWI</td>\n",
       "      <td>NaN</td>\n",
       "      <td>NaN</td>\n",
       "      <td>NaN</td>\n",
       "    </tr>\n",
       "    <tr>\n",
       "      <th>1</th>\n",
       "      <td>ACWI</td>\n",
       "      <td>NaN</td>\n",
       "      <td>NaN</td>\n",
       "      <td>NaN</td>\n",
       "    </tr>\n",
       "    <tr>\n",
       "      <th>2</th>\n",
       "      <td>ACWI</td>\n",
       "      <td>NaN</td>\n",
       "      <td>NaN</td>\n",
       "      <td>NaN</td>\n",
       "    </tr>\n",
       "    <tr>\n",
       "      <th>3</th>\n",
       "      <td>ACWI</td>\n",
       "      <td>2023-05-08T07:14:22-04:00</td>\n",
       "      <td>Positive</td>\n",
       "      <td>0.999606</td>\n",
       "    </tr>\n",
       "    <tr>\n",
       "      <th>4</th>\n",
       "      <td>ACWI</td>\n",
       "      <td>2023-05-08T10:14:54-04:00</td>\n",
       "      <td>Neutral</td>\n",
       "      <td>0.999864</td>\n",
       "    </tr>\n",
       "    <tr>\n",
       "      <th>...</th>\n",
       "      <td>...</td>\n",
       "      <td>...</td>\n",
       "      <td>...</td>\n",
       "      <td>...</td>\n",
       "    </tr>\n",
       "    <tr>\n",
       "      <th>1906</th>\n",
       "      <td>STZX.SW</td>\n",
       "      <td>NaN</td>\n",
       "      <td>NaN</td>\n",
       "      <td>NaN</td>\n",
       "    </tr>\n",
       "    <tr>\n",
       "      <th>1907</th>\n",
       "      <td>STZX.SW</td>\n",
       "      <td>NaN</td>\n",
       "      <td>NaN</td>\n",
       "      <td>NaN</td>\n",
       "    </tr>\n",
       "    <tr>\n",
       "      <th>1908</th>\n",
       "      <td>STZX.SW</td>\n",
       "      <td>NaN</td>\n",
       "      <td>NaN</td>\n",
       "      <td>NaN</td>\n",
       "    </tr>\n",
       "    <tr>\n",
       "      <th>1909</th>\n",
       "      <td>STZX.SW</td>\n",
       "      <td>NaN</td>\n",
       "      <td>NaN</td>\n",
       "      <td>NaN</td>\n",
       "    </tr>\n",
       "    <tr>\n",
       "      <th>1910</th>\n",
       "      <td>STZX.SW</td>\n",
       "      <td>NaN</td>\n",
       "      <td>NaN</td>\n",
       "      <td>NaN</td>\n",
       "    </tr>\n",
       "  </tbody>\n",
       "</table>\n",
       "<p>1911 rows × 4 columns</p>\n",
       "</div>"
      ],
      "text/plain": [
       "     yahoo_symbol       attributes.publishOn     label     score\n",
       "0            ACWI                        NaN       NaN       NaN\n",
       "1            ACWI                        NaN       NaN       NaN\n",
       "2            ACWI                        NaN       NaN       NaN\n",
       "3            ACWI  2023-05-08T07:14:22-04:00  Positive  0.999606\n",
       "4            ACWI  2023-05-08T10:14:54-04:00   Neutral  0.999864\n",
       "...           ...                        ...       ...       ...\n",
       "1906      STZX.SW                        NaN       NaN       NaN\n",
       "1907      STZX.SW                        NaN       NaN       NaN\n",
       "1908      STZX.SW                        NaN       NaN       NaN\n",
       "1909      STZX.SW                        NaN       NaN       NaN\n",
       "1910      STZX.SW                        NaN       NaN       NaN\n",
       "\n",
       "[1911 rows x 4 columns]"
      ]
     },
     "execution_count": 127,
     "metadata": {},
     "output_type": "execute_result"
    }
   ],
   "source": [
    "yahoo_symbol_scatterdf"
   ]
  },
  {
   "cell_type": "code",
   "execution_count": null,
   "metadata": {},
   "outputs": [],
   "source": []
  },
  {
   "cell_type": "code",
   "execution_count": null,
   "metadata": {},
   "outputs": [],
   "source": []
  },
  {
   "cell_type": "code",
   "execution_count": null,
   "metadata": {},
   "outputs": [],
   "source": []
  },
  {
   "cell_type": "code",
   "execution_count": null,
   "metadata": {},
   "outputs": [],
   "source": []
  },
  {
   "cell_type": "code",
   "execution_count": null,
   "metadata": {},
   "outputs": [],
   "source": []
  },
  {
   "cell_type": "code",
   "execution_count": null,
   "metadata": {},
   "outputs": [],
   "source": []
  },
  {
   "attachments": {},
   "cell_type": "markdown",
   "metadata": {},
   "source": [
    "Ab hier andere Versuche mit anderen Providern"
   ]
  },
  {
   "cell_type": "code",
   "execution_count": 3,
   "metadata": {},
   "outputs": [
    {
     "name": "stdout",
     "output_type": "stream",
     "text": [
      "{\"quote\":[{\"securityType\":\"Common Stock\",\"symbol\":\"CELH\",\"exchange\":\"NASDAQ CM\",\"country\":\"United States\",\"currency\":\"USD\",\"resourceType\":\"Company\",\"fundamentalDataCurrency\":\"USD\",\"resourceSubtype\":\"Public\",\"region\":\"AMERICAS\",\"ticker\":\"celh:us\",\"tickerName\":\"CELH:US\",\"template\":\"Stock\",\"tinyName\":\"Celsius Holdings Inc\",\"name\":\"Celsius Holdings Inc\",\"watchlist\":true,\"resourceId\":\"CELH:US\",\"id\":\"CELH:US\",\"title\":\"Celsius Holdings Inc\",\"card\":\"security\"}],\"news\":[{\"title\":\"PIMCO US' Boxer on the Latest US Economic Data\",\"id\":\"RSCZ2XT0G1KW01\",\"card\":\"video\",\"date\":1680227035,\"longURL\":\"https://www.bloomberg.com/news/videos/2023-03-31/pimco-us-boxer-on-the-latest-us-economic-data-video\",\"thumbnailImage\":\"https://assets.bwbx.io/images/users/iqjWHBFdfxIU/i_b2vW1wIsUU/v3/600x-1.jpg\"},{\"title\":\"US and EU Near Critical Minerals Accord to Unlock US Subsidies\",\"id\":\"RS9UAGT1UM0X01\",\"card\":\"article\",\"date\":1680082787,\"longURL\":\"https://www.bloomberg.com/news/articles/2023-03-29/us-and-eu-near-critical-minerals-accord-to-unlock-us-subsidies\"},{\"title\":\"Nissan Americas Chairperson on Future of US EV Market\",\"id\":\"RSPHULDWLU6901\",\"card\":\"video\",\"date\":1680805658,\"longURL\":\"https://www.bloomberg.com/news/videos/2023-04-06/nissan-americas-chairperson-on-future-of-us-ev-market\",\"thumbnailImage\":\"https://assets.bwbx.io/images/users/iqjWHBFdfxIU/icBA9NFcbung/v3/600x-1.jpg\"},{\"title\":\"Volkswagen North America Wants to Double Share in US\",\"id\":\"RSPCJMDWLU6901\",\"card\":\"video\",\"date\":1680801523,\"longURL\":\"https://www.bloomberg.com/news/videos/2023-04-06/vw-wants-to-double-share-in-us-video\",\"thumbnailImage\":\"https://assets.bwbx.io/images/users/iqjWHBFdfxIU/io2MgAsHadzI/v3/600x-1.jpg\"},{\"title\":\"Allspring's Miletti on the US Markets\",\"id\":\"RSCY24T1UM1A01\",\"card\":\"video\",\"date\":1680236297,\"longURL\":\"https://www.bloomberg.com/news/videos/2023-03-31/allspring-s-miletti-on-the-us-markets-video\",\"thumbnailImage\":\"https://assets.bwbx.io/images/users/iqjWHBFdfxIU/infbeYEnGDnQ/v3/600x-1.jpg\"},{\"title\":\"Huawei Touts Progress Replacing Chip Design Software Led by US\",\"id\":\"RS5P4ZT0G1KW01\",\"card\":\"article\",\"date\":1679899181,\"longURL\":\"https://www.bloomberg.com/news/articles/2023-03-27/huawei-touts-progress-replacing-chip-design-software-led-by-us\"},{\"title\":\"American Air Suspends US-Spain Flight Due to Boeing 787 Delays\",\"id\":\"RS1ED6T0G1KW01\",\"card\":\"article\",\"date\":1679687854,\"longURL\":\"https://www.bloomberg.com/news/articles/2023-03-24/american-air-suspends-us-spain-flight-due-to-boeing-787-delays\"},{\"title\":\"Higher Education in the US Faces a Systemic Crisis\",\"id\":\"RTAOK8DWX2PW01\",\"card\":\"article\",\"date\":1681794008,\"longURL\":\"https://www.bloomberg.com/opinion/articles/2023-04-18/higher-education-in-the-us-faces-a-systemic-crisis\"},{\"title\":\"Pentagon Leak Exposes US Spying Efforts on Allies, Foes\",\"id\":\"RSY18UT0G1KY01\",\"card\":\"video\",\"date\":1681203918,\"longURL\":\"https://www.bloomberg.com/news/videos/2023-04-11/pentagon-leak-exposes-us-spying-efforts-on-allies-foes\",\"thumbnailImage\":\"https://assets.bwbx.io/images/users/iqjWHBFdfxIU/irWSWuV_XXY4/v3/600x-1.jpg\"},{\"title\":\"US Consumer Confidence Unexpectedly Rises on Hopeful Outlook\",\"id\":\"RS6NOJDWLU6901\",\"card\":\"article\",\"date\":1680014921,\"longURL\":\"https://www.bloomberg.com/news/articles/2023-03-28/us-consumer-confidence-unexpectedly-rises-on-hopeful-outlook\"},{\"title\":\"Central US Grid Warns of Tornadoes, Lightning in Southern States\",\"id\":\"RS1PRSDWRGG001\",\"card\":\"article\",\"date\":1679698123,\"longURL\":\"https://www.bloomberg.com/news/articles/2023-03-24/central-us-grid-warns-of-tornadoes-lightning-in-southern-states\"},{\"title\":\"North Korea Fires Missile, Piling Even More Pressure on US\",\"id\":\"RS5GXIT0G1KW01\",\"card\":\"article\",\"date\":1679873839,\"longURL\":\"https://www.bloomberg.com/news/articles/2023-03-26/north-korea-fires-ballistic-missile-to-pile-more-pressure-on-us\"},{\"title\":\"UNSW's Humphery-Jenner on US Bank Turmoil\",\"id\":\"RS99HCT0G1KX01\",\"card\":\"video\",\"date\":1680048994,\"longURL\":\"https://www.bloomberg.com/news/videos/2023-03-29/unsw-s-humphery-jenner-on-us-bank-turmoil-video\",\"thumbnailImage\":\"https://assets.bwbx.io/images/users/iqjWHBFdfxIU/iowud3jSMCTI/v3/600x-1.jpg\"},{\"title\":\"BofA's Harris Sees Signs of Recession in US Retail Data\",\"id\":\"RT3X9IT1UM1001\",\"card\":\"video\",\"date\":1681479364,\"longURL\":\"https://www.bloomberg.com/news/videos/2023-04-14/bofa-s-harris-sees-signs-of-recession-in-us-retail-data-video\",\"thumbnailImage\":\"https://assets.bwbx.io/images/users/iqjWHBFdfxIU/ic23cJf3w_7Y/v3/600x-1.jpg\"},{\"title\":\"Binance Crackdown Threatens US Trading Firms, Alarming Market\",\"id\":\"RS75YJDWX2Q201\",\"card\":\"article\",\"date\":1680025386,\"longURL\":\"https://www.bloomberg.com/news/articles/2023-03-28/binance-crackdown-threatens-us-trading-firms-alarming-market\"},{\"title\":\"Biden Says US ‘Getting Close’ to Finding Leaker, Downplays Harm\",\"id\":\"RT1ZNVDWX2PS01\",\"card\":\"article\",\"date\":1681389907,\"longURL\":\"https://www.bloomberg.com/news/articles/2023-04-13/biden-says-us-getting-close-to-finding-leaker-downplays-harm\"},{\"title\":\"Pacific Leader Criticizes US and Allies’ New Strategic Language\",\"id\":\"RRTDF0T0AFB401\",\"card\":\"article\",\"date\":1679309673,\"longURL\":\"https://www.bloomberg.com/news/articles/2023-03-20/pacific-leader-criticizes-us-and-allies-new-strategic-language\"},{\"title\":\"Animal Sedative Tied to Overdoses Is Emerging Threat, US Says\",\"id\":\"RT0FPGDWLU6A01\",\"card\":\"article\",\"date\":1681329791,\"longURL\":\"https://www.bloomberg.com/news/articles/2023-04-12/animal-sedative-tied-to-overdoses-is-emerging-threat-us-says\"},{\"title\":\"Lula to Visit Huawei Site in Shanghai, Potentially Irking US\",\"id\":\"RSPHBODWX2PV01\",\"card\":\"article\",\"date\":1681251058,\"longURL\":\"https://www.bloomberg.com/news/articles/2023-04-11/lula-to-visit-huawei-site-in-shanghai-potentially-irking-us\"},{\"title\":\"More Male Nurses Will Help Ease the US Nursing Shortage\",\"id\":\"RSP010T1UM0W01\",\"card\":\"article\",\"date\":1680782436,\"longURL\":\"https://www.bloomberg.com/opinion/articles/2023-04-06/more-male-nurses-will-help-ease-the-us-nursing-shortage\"},{\"title\":\"Where US Inflation Is Moderating Across the US: Map\",\"id\":\"RT050UDWRGG001\",\"card\":\"article\",\"date\":1681306627,\"longURL\":\"https://www.bloomberg.com/news/articles/2023-04-12/where-us-inflation-is-moderating-across-the-us-map\"},{\"title\":\"North Korea Says It Tested New Solid-Fuel ICBM to Strike US\",\"id\":\"RT2P8VT0AFB901\",\"card\":\"article\",\"date\":1681441626,\"longURL\":\"https://www.bloomberg.com/news/articles/2023-04-13/north-korea-says-it-tested-new-solid-fuel-icbm-to-strike-us\"},{\"title\":\"Seoul Dismisses Report of US Spying on Allies, Says Ties Strong\",\"id\":\"RSU59TDWLU6801\",\"card\":\"article\",\"date\":1681029122,\"longURL\":\"https://www.bloomberg.com/news/articles/2023-04-09/seoul-dismisses-report-of-us-spying-on-allies-says-ties-strong\"},{\"title\":\"Goldman Strategists Say US Profits Set for Pandemic-Sized Drop\",\"id\":\"RSOM0WDWRGG001\",\"card\":\"article\",\"date\":1680771931,\"longURL\":\"https://www.bloomberg.com/news/articles/2023-04-06/goldman-strategists-say-us-profits-set-for-pandemic-sized-drop\"},{\"title\":\"Walser Wealth President on the US markets\",\"id\":\"RSO0ZBDWLU7R01\",\"card\":\"video\",\"date\":1680738244,\"longURL\":\"https://www.bloomberg.com/news/videos/2023-04-05/walser-wealth-president-on-the-us-markets-video\",\"thumbnailImage\":\"https://assets.bwbx.io/images/users/iqjWHBFdfxIU/ikBS3.jGviFQ/v3/600x-1.jpg\"}]}\n"
     ]
    }
   ],
   "source": [
    "import requests\n",
    "\n",
    "url = \"https://bloomberg-market-and-financial-news.p.rapidapi.com/market/auto-complete\"\n",
    "\n",
    "querystring = {\"query\":\"CELH:US\"}\n",
    "\n",
    "headers = {\n",
    "\t\"X-RapidAPI-Key\": os.environ.get('X_RapidAPI_Key'),\n",
    "\t\"X-RapidAPI-Host\": \"bloomberg-market-and-financial-news.p.rapidapi.com\"\n",
    "}\n",
    "\n",
    "response = requests.request(\"GET\", url, headers=headers, params=querystring)\n",
    "\n",
    "print(response.text)"
   ]
  },
  {
   "cell_type": "code",
   "execution_count": 6,
   "metadata": {},
   "outputs": [
    {
     "name": "stdout",
     "output_type": "stream",
     "text": [
      "{\"message\":\"You are not subscribed to this API.\"}\n"
     ]
    }
   ],
   "source": [
    "import requests\n",
    "\n",
    "url = \"https://bloomberg-market-and-financial-news.p.rapidapi.com/stories/list\"\n",
    "\n",
    "querystring = {\"template\":\"STOCK\",\"id\":\"CELH:US\"}\n",
    "\n",
    "headers = {\n",
    "\t\"X-RapidAPI-Key\": os.environ.get('X_RapidAPI_Key'),\n",
    "\t\"X-RapidAPI-Host\": \"bloomberg-market-and-financial-news.p.rapidapi.com\"\n",
    "}\n",
    "\n",
    "response = requests.request(\"GET\", url, headers=headers, params=querystring)\n",
    "\n",
    "print(response.text)"
   ]
  },
  {
   "cell_type": "code",
   "execution_count": 22,
   "metadata": {},
   "outputs": [
    {
     "data": {
      "text/plain": [
       "'{\"stories\":[{\"resourceType\":\"Story\",\"card\":\"article\",\"title\":\"Fuel That Powers the Global Economy Is Flashing Recession Signs\",\"published\":1681606800,\"internalID\":\"RSJNX6T1UM0W01\",\"thumbnailImage\":\"https://assets.bwbx.io/images/users/iqjWHBFdfxIU/iLlXRnFvwqr0/v0/600x-1.jpg\",\"primarySite\":\"markets\",\"shortURL\":\"https://www.bloomberg.com/news/articles/2023-04-16/softening-diesel-fuel-market-triggers-global-recession-fears\",\"longURL\":\"https://www.bloomberg.com/news/articles/2023-04-16/softening-diesel-fuel-market-triggers-global-recession-fears\"},{\"resourceType\":\"Story\",\"card\":\"article\",\"title\":\"Glencore Digs in for Battle as Momentum Shifts Against Teck\",\"published\":1681592256,\"internalID\":\"RT5EO2T1UM0W01\",\"thumbnailImage\":\"https://assets.bwbx.io/images/users/iqjWHBFdfxIU/iUFrLlZqqgYg/v0/600x-1.jpg\",\"primarySite\":\"markets\",\"shortURL\":\"https://www.bloomberg.com/news/articles/2023-04-15/glencore-boss-digs-in-for-battle-as-momentum-shifts-against-teck\",\"longURL\":\"https://www.bloomberg.com/news/articles/2023-04-15/glencore-boss-digs-in-for-battle-as-momentum-shifts-against-teck\"},{\"resourceType\":\"Story\",\"card\":\"article\",\"title\":\"Stocks Eke Out a Weekly Gain as Banking Fears Ease: Markets Wrap\",\"published\":1681503718,\"internalID\":\"RT2MKQDWX2PS01\",\"thumbnailImage\":\"https://assets.bwbx.io/images/users/iqjWHBFdfxIU/iKyM9Aulk_4k/v1/600x-1.jpg\",\"primarySite\":\"markets\",\"shortURL\":\"https://www.bloomberg.com/news/articles/2023-04-13/stock-market-today-dow-s-p-live-updates\",\"longURL\":\"https://www.bloomberg.com/news/articles/2023-04-13/stock-market-today-dow-s-p-live-updates\"},{\"resourceType\":\"Story\",\"card\":\"article\",\"title\":\"For European Stocks Four Months of Glory Is Not End of the Story\",\"published\":1681630200,\"internalID\":\"RSYC2DDWLU6A01\",\"thumbnailImage\":\"https://assets.bwbx.io/images/users/iqjWHBFdfxIU/iJv9oMIMGfsQ/v0/600x-1.jpg\",\"primarySite\":\"markets\",\"shortURL\":\"https://www.bloomberg.com/news/articles/2023-04-16/for-european-stocks-four-months-of-glory-is-not-end-of-the-story\",\"longURL\":\"https://www.bloomberg.com/news/articles/2023-04-16/for-european-stocks-four-months-of-glory-is-not-end-of-the-story\"},{\"resourceType\":\"Story\",\"card\":\"article\",\"title\":\"Saudi Arabia Transfers Another 4% of Aramco to Wealth Fund\",\"published\":1681632350,\"internalID\":\"RT72M3T1UM0W01\",\"thumbnailImage\":\"https://assets.bwbx.io/images/users/iqjWHBFdfxIU/iTpKEabfH0G0/v0/600x-1.jpg\",\"primarySite\":\"markets\",\"shortURL\":\"https://www.bloomberg.com/news/articles/2023-04-16/saudi-completes-4-aramco-stake-transfer-to-sovereign-fund-unit\",\"longURL\":\"https://www.bloomberg.com/news/articles/2023-04-16/saudi-completes-4-aramco-stake-transfer-to-sovereign-fund-unit\"},{\"resourceType\":\"Story\",\"card\":\"article\",\"title\":\"Xi Pivot Fails to Stop Exodus by Biggest Investors in China Tech\",\"published\":1681380958,\"internalID\":\"RT1CWYT1UM0W01\",\"thumbnailImage\":\"https://assets.bwbx.io/images/users/iqjWHBFdfxIU/iph4rHGgGcRY/v2/600x-1.jpg\",\"primarySite\":\"technology\",\"shortURL\":\"https://www.bloomberg.com/news/articles/2023-04-13/xi-pivot-fails-to-stop-exodus-by-biggest-investors-in-china-tech\",\"longURL\":\"https://www.bloomberg.com/news/articles/2023-04-13/xi-pivot-fails-to-stop-exodus-by-biggest-investors-in-china-tech\"},{\"resourceType\":\"Story\",\"card\":\"article\",\"title\":\"Ex-SPACs Face Hellish Battle to Avoid the Abyss\",\"published\":1681443044,\"internalID\":\"RT35R8T1UM0W01\",\"label\":\"Markets\",\"thumbnailImage\":\"https://assets.bwbx.io/images/users/iqjWHBFdfxIU/ii8DaOjcYvxQ/v1/600x-1.jpg\",\"primarySite\":\"bview\",\"shortURL\":\"https://www.bloomberg.com/opinion/articles/2023-04-14/ex-spacs-face-hellish-battle-to-avoid-the-abyss\",\"longURL\":\"https://www.bloomberg.com/opinion/articles/2023-04-14/ex-spacs-face-hellish-battle-to-avoid-the-abyss\"},{\"resourceType\":\"Story\",\"card\":\"article\",\"title\":\"BofA Strategists Prefer\\xa0Global Stocks to Tech-Heavy US Market\",\"published\":1681463511,\"internalID\":\"RT3DM7DWLU6901\",\"thumbnailImage\":\"https://assets.bwbx.io/images/users/iqjWHBFdfxIU/iawFierDUOtY/v0/600x-1.jpg\",\"primarySite\":\"markets\",\"shortURL\":\"https://www.bloomberg.com/news/articles/2023-04-14/bofa-s-hartnett-prefers-global-stocks-to-tech-heavy-us-market\",\"longURL\":\"https://www.bloomberg.com/news/articles/2023-04-14/bofa-s-hartnett-prefers-global-stocks-to-tech-heavy-us-market\"},{\"resourceType\":\"Story\",\"card\":\"article\",\"title\":\"Soaring Chip Stock Valuations Are Defying Industry Gloom\",\"published\":1681479424,\"internalID\":\"RSPFXHDWLU6E01\",\"thumbnailImage\":\"https://assets.bwbx.io/images/users/iqjWHBFdfxIU/iyaJVgoHERKw/v0/600x-1.jpg\",\"primarySite\":\"markets\",\"shortURL\":\"https://www.bloomberg.com/news/articles/2023-04-14/soaring-chip-stock-valuations-test-investor-nerves-tech-watch\",\"longURL\":\"https://www.bloomberg.com/news/articles/2023-04-14/soaring-chip-stock-valuations-test-investor-nerves-tech-watch\"},{\"resourceType\":\"Story\",\"card\":\"article\",\"title\":\"Bank of America Clients Withdraw $2.3 Billion From US Stocks of All Sizes\",\"published\":1681227892,\"internalID\":\"RSYF2YDWX2PS01\",\"thumbnailImage\":\"https://assets.bwbx.io/images/users/iqjWHBFdfxIU/iQ2NNIqB.IZE/v0/600x-1.jpg\",\"primarySite\":\"markets\",\"shortURL\":\"https://www.bloomberg.com/news/articles/2023-04-11/bofa-clients-withdraw-2-3-billion-from-us-stocks-of-all-sizes\",\"longURL\":\"https://www.bloomberg.com/news/articles/2023-04-11/bofa-clients-withdraw-2-3-billion-from-us-stocks-of-all-sizes\"}],\"title\":\"Stocks\"}'"
      ]
     },
     "execution_count": 22,
     "metadata": {},
     "output_type": "execute_result"
    }
   ],
   "source": [
    "response.text"
   ]
  },
  {
   "attachments": {},
   "cell_type": "markdown",
   "metadata": {},
   "source": [
    "DIe News von yh-finance weiter unten taugt nicht so viel, denke ich"
   ]
  },
  {
   "cell_type": "code",
   "execution_count": 17,
   "metadata": {},
   "outputs": [
    {
     "name": "stdout",
     "output_type": "stream",
     "text": [
      "{\"data\":{\"contents\":[{\"content\":{\"id\":\"9803606d-a324-3864-83a8-2bd621e6ccbd\",\"isHosted\":false,\"contentType\":\"STORY\",\"canonicalUrl\":{\"url\":\"https://www.investors.com/market-trend/stock-market-today/dow-jones-futures-stock-market-rally-strategy-tesla-dives-on-sp-500-surprise/?src=A00220&yptr=yahoo\"},\"clickThroughUrl\":null,\"ampUrl\":\"\",\"title\":\"Dow Jones Futures Fall: How To Handle The Stock Market Rally As Tesla, Big Techs Tumble\",\"authors\":[{\"author\":{\"displayName\":\"ED CARSON\"}}],\"provider\":{\"displayName\":\"Investor's Business Daily\"},\"pubDate\":\"2020-09-08T12:15:01Z\",\"summary\":\"Tech futures fell sharply as Tesla dived on S&P; 500 news. The stock market rally could go three ways after its sell-off. Investors should be cautious but stay engaged.\",\"body\":{\"shouldCache\":false,\"data\":{\"partnerData\":{\"adMeta\":{\"isSupplySegment\":\"false\",\"lang\":\"en-US\",\"region\":\"US\",\"site_attribute\":\"ticker=\\\"AAPL;ADBE;NVDA;TSLA;ZM\\\" wiki_topics=\\\"Dow_Jones_Industrial_Average;Stock_market;Nasdaq;Intuitive_Surgical;Netflix;Stock_split;S%26P_500_Index;Nvidia\\\" ctopid=\\\"1542500;1577000;1580500\\\" hashtag=\\\"1542500;1577000;1580500\\\" rs=\\\"lmsid:a0770000002kwR9AAI;revsp:ibd.com;lpstaid:9803606d-a324-3864-83a8-2bd621e6ccbd;lu:0;pct:story\\\"\",\"spaceid\":\"959521224\",\"enabled\":true,\"pos\":\"LREC\",\"showBodyAds\":false,\"showPhotoAds\":false},\"contentType\":\"preview\",\"cover\":{\"image\":{\"originalUrl\":\"https://media.zenfs.com/en/ibd.com/6dd6068485913f2b84282730677143c1\",\"originalHeight\":572,\"originalWidth\":1012,\"resolutions\":[{\"height\":859,\"url\":\"https://s.yimg.com/ny/api/res/1.2/4VP5yR8FVEvRSitzhxSBTw--/YXBwaWQ9aGlnaGxhbmRlcjtmaT1zdHJpbTtoPTg1OTt3PTE2NDA-/https://media.zenfs.com/en/ibd.com/6dd6068485913f2b84282730677143c1\",\"width\":1640,\"tag\":\"fit-width-1640\"},{\"height\":674,\"url\":\"https://s.yimg.com/ny/api/res/1.2/uKrVyPYfYzzxGw25iEBUiw--/YXBwaWQ9aGlnaGxhbmRlcjtmaT1zdHJpbTtoPTY3NDt3PTEyMDA-/https://media.zenfs.com/en/ibd.com/6dd6068485913f2b84282730677143c1\",\"width\":1200,\"tag\":\"fit-width-1200\"},{\"height\":461,\"url\":\"https://s.yimg.com/ny/api/res/1.2/BFb_dMfC2QABAYoN9M26Qw--/YXBwaWQ9aGlnaGxhbmRlcjtmaT1zdHJpbTtoPTQ2MTt3PTgyMA--/https://media.zenfs.com/en/ibd.com/6dd6068485913f2b84282730677143c1\",\"width\":820,\"tag\":\"fit-width-820\"},{\"height\":360,\"url\":\"https://s.yimg.com/ny/api/res/1.2/AGNjHflzldyKHMltJN4rKQ--/YXBwaWQ9aGlnaGxhbmRlcjtmaT1zdHJpbTtoPTM2MDt3PTY0MA--/https://media.zenfs.com/en/ibd.com/6dd6068485913f2b84282730677143c1\",\"width\":640,\"tag\":\"fit-width-640\"},{\"height\":280,\"url\":\"https://s.yimg.com/ny/api/res/1.2/75yCcTo87TZhLU4BpcgVuQ--/YXBwaWQ9aGlnaGxhbmRlcjtmaT1zdHJpbTtoPTI4MDt3PTI4MA--/https://media.zenfs.com/en/ibd.com/6dd6068485913f2b84282730677143c1\",\"width\":280,\"tag\":\"square-280\"},{\"height\":224,\"url\":\"https://s.yimg.com/ny/api/res/1.2/kkysEKz192EZ4fdZFN2N.A--/YXBwaWQ9aGlnaGxhbmRlcjtmaT1zdHJpbTtoPTIyNDt3PTMwMA--/https://media.zenfs.com/en/ibd.com/6dd6068485913f2b84282730677143c1\",\"width\":300,\"tag\":\"fit-width-300\"},{\"url\":\"https://s.yimg.com/ny/api/res/1.2/DtOodGuZDr5UYtPVh0iASA--/YXBwaWQ9aGlnaGxhbmRlcjt3PTEwMTI7aD01NzI-/https://media.zenfs.com/en/ibd.com/6dd6068485913f2b84282730677143c1\",\"width\":1012,\"height\":572,\"tag\":\"max-width-1640\"},{\"height\":572,\"url\":\"https://s.yimg.com/ny/api/res/1.2/zptvXhfAJRB3XD05gv1.LQ--/YXBwaWQ9aGlnaGxhbmRlcjtoPTU3Mjt3PTEwMTI-/https://media.zenfs.com/en/ibd.com/6dd6068485913f2b84282730677143c1\",\"width\":1012,\"tag\":\"original\"}]}},\"hasScribble\":false,\"hostedType\":\"offnet\",\"spaceId\":\"959521224\",\"tpConsent\":false,\"type\":\"story\",\"url\":\"https://www.investors.com/market-trend/stock-market-today/dow-jones-futures-stock-market-rally-strategy-tesla-dives-on-sp-500-surprise/?src=A00220\",\"uuid\":\"9803606d-a324-3864-83a8-2bd621e6ccbd\",\"video_enrichment\":{}}},\"modules\":{},\"markup\":\"<!DOCTYPE html><html lang=\\\"en\\\"><head><meta charset=\\\"utf-8\\\"><meta name=\\\"viewport\\\" content=\\\"width=device-width, minimum-scale=1.0, initial-scale=1.0, user-scalable=no\\\"><link rel=\\\"preconnect\\\" href=\\\"https://s.yimg.com\\\"><link rel=\\\"preconnect\\\" href=\\\"https://geo.query.yahoo.com\\\"><link rel=\\\"preconnect\\\" href=\\\"https://csc.beap.bc.yahoo.com\\\"><link rel=\\\"preconnect\\\" href=\\\"https://beap.gemini.yahoo.com\\\"><link rel=\\\"preconnect\\\" href=\\\"https://yep.video.yahoo.com\\\"><link rel=\\\"preconnect\\\" href=\\\"https://video-api.yql.yahoo.com\\\"><link rel=\\\"preconnect\\\" href=\\\"https://yrtas.btrll.com\\\"><link rel=\\\"preconnect\\\" href=\\\"https://shim.btrll.com\\\"><style>*{-webkit-tap-highlight-color:transparent;margin:0;padding:0}:focus{outline:none}@font-face{font-display:fallback;font-family:YahooSans;font-style:normal;font-weight:400;src:url(https://s.yimg.com/os/fontserver/YahooSans/Regular.woff2) format(\\\"woff2\\\"),url(https://s.yimg.com/os/fontserver/YahooSans/Regular.woff) format(\\\"woff\\\"),url(https://s.yimg.com/os/fontserver/YahooSans/Regular.ttf) format(\\\"ttf\\\")}@font-face{font-display:fallback;font-family:YahooSans;font-style:normal;font-weight:600;src:url(https://s.yimg.com/os/fontserver/YahooSans/Semibold.woff2) format(\\\"woff2\\\"),url(https://s.yimg.com/os/fontserver/YahooSans/Semibold.woff) format(\\\"woff\\\"),url(https://s.yimg.com/os/fontserver/YahooSans/Semibold.ttf) format(\\\"ttf\\\")}@font-face{font-display:fallback;font-family:YahooSans;font-style:normal;font-weight:700;src:url(https://s.yimg.com/os/fontserver/YahooSans/Bold.woff2) format(\\\"woff2\\\"),url(https://s.yimg.com/os/fontserver/YahooSans/Bold.woff) format(\\\"woff\\\"),url(https://s.yimg.com/os/fontserver/YahooSans/Bold.ttf) format(\\\"ttf\\\")}@font-face{font-display:fallback;font-family:YahooSans;font-style:normal;font-weight:800;src:url(https://s.yimg.com/os/fontserver/YahooSans/ExtraBold.woff2) format(\\\"woff2\\\"),url(https://s.yimg.com/os/fontserver/YahooSans/ExtraBold.woff) format(\\\"woff\\\"),url(https://s.yimg.com/os/fontserver/YahooSans/ExtraBold.ttf) format(\\\"ttf\\\")}body{-webkit-tap-highlight-color:rgba(0,0,0,0);background:#fff;display:flow-root;margin:0;padding:0}@supports not (display:flow-root){body{padding:.01px 0}}@font-face{font-display:fallback;font-family:\\\"YahooSerifDisplay\\\";font-style:normal;font-weight:700;src:local(\\\"Yahoo Serif Display\\\"),url(https://s.yimg.com/cv/apiv2/default/fonts/YahooSerifDisplay-Bold-Web.eot) format(\\\"embedded-opentype\\\"),url(https://s.yimg.com/cv/apiv2/default/fonts/YahooSerifDisplay-Bold-Web.woff2) format(\\\"woff2\\\"),url(https://s.yimg.com/cv/apiv2/default/fonts/YahooSerifDisplay-Bold-Web.woff) format(\\\"woff\\\")}.caas{word-wrap:break-word;zoom:1;background:#fff;color:#232a31;display:flow-root;font:13px/1.6 Yahoo Sans,YahooSans,Helvetica Neue,Helvetica,Arial,sans-serif}.caas h1{font-size:1.923em;line-height:1.3;margin:0}.caas h2{font-size:1.4em;line-height:1.4em;margin:.8em 0}.caas p{margin:0 0 .8em}.caas li,.caas p{font-size:1.154em}.caas li>*{font-size:inherit}.caas a{color:#188fff;text-decoration:none}.caas a:visited{color:#6d00f6}.caas a:active,.caas a:focus{text-decoration:underline}.caas i{font-style:italic}.caas b{font-weight:700}.caas pre{white-space:pre-wrap}.caas header{margin:0 0 10px}.caas ul{padding-left:0}.caas ul li{list-style-type:none}.caas ol li{list-style-type:decimal}.caas h3{font-size:1.17em;font-weight:800;margin:10px 0 15px}.caas h4{font-weight:800;margin:5px 0}.caas .hide,.caas.hide-pending-tweet .twitter-tweet-wrapper .caas-card-loader{display:none}.caas .twitter-tweet-wrapper .twitter-tweet-rendered iframe{border-radius:13px}.caas .strikethru{text-decoration:line-through}.caas-title-wrapper .caas-title-summary{border-left:3px solid;font-size:1.1em;font-weight:500;line-height:1.43;margin:16px 0 24px;padding-left:16px}.caas-title-wrapper .caas-subheadline{margin-top:4px}.caas-title-wrapper .caas-subheadline h2{font-size:1.538em;font-weight:300;line-height:1.4;margin:0}.caas-img-container:not(.noheight){overflow:hidden;position:relative}.caas-img-container:not(.noheight) img{left:50%;position:absolute;top:50%;transform:translate(-50%,-50%)}.caas-img-container.noheight{text-align:center}.caas-img-container.noheight .caas-img{min-width:1px}.caas-img-container.caas-img-loader{background-color:#fff;background-color:#e0e4e9;box-shadow:0 1px 2px 1px rgba(0,0,0,.08),0 -1px 3px 0 rgba(0,0,0,.06);height:100%;overflow:hidden;position:relative;will-change:transform}.caas-img-container.caas-img-loader:only-child{margin-top:0}.caas-img-container.caas-img-loader:before{background-color:#e0e4e9;content:\\\"\\\";display:block;height:100%}.caas-img-container.caas-img-loader:after{animation-duration:.6s;animation-iteration-count:20;animation-name:loader-animate;animation-timing-function:linear;background-color:#f7f8ff;background:linear-gradient(90deg,hsla(0,0%,100%,0) 0,hsla(0,0%,100%,.6) 30%,hsla(0,0%,100%,0) 81%);content:\\\"\\\";height:100%;left:0;position:absolute;top:0;width:100%}.caas-img-container.caas-img-loader .caas-img{opacity:0}.caas-img-container .caas-img{animation:fade .1s;will-change:opacity}.caas-figure-with-pb .caas-img-container:not(.noheight) img{top:0;transform:translate(-50%)}.caas-img{border:none;max-width:100%;min-height:1px}@keyframes slideUp{0%{transform:translateY(200%)}to{transform:translateY(0)}}.caas-button,a.caas-button{background-color:#fff;border:1px solid #0f69ff;border-radius:2px;color:#0f69ff;font-family:inherit;font-size:1em;font-weight:600;line-height:1;padding:.5em 1em;text-decoration:none}.caas-button:visited,a.caas-button:visited{color:#0f69ff}.caas-button:active,.caas-button:focus:not(:focus-visible),a.caas-button:active,a.caas-button:focus:not(:focus-visible){border-color:#003abc;color:#003abc;outline:0;text-decoration:none}.caas-button.noborder,a.caas-button.noborder{border:0}.caas-button.noborder:not(:focus-visible),a.caas-button.noborder:not(:focus-visible){outline:0}.caas-button.expand-button,a.caas-button.expand-button{background-color:transparent;font-weight:400;margin-left:0;padding-left:0}.caas-button.caas-button-small,a.caas-button.caas-button-small{padding:4px 12px}.caas-button.caas-button-medium,a.caas-button.caas-button-medium{padding:8px 20px}.caas-button.caas-button-large,a.caas-button.caas-button-large{padding:10px 32px}.caas-button.caas-button-full-width,a.caas-button.caas-button-full-width{display:inline-block;font-size:1.18em;font-weight:500;padding:15px 0;width:100%}.caas .icon{display:inline-block;position:relative;top:-5px}.caas .icon svg{left:50%;position:absolute;top:50%;transform:translate(-50%,-50%)}.caas .icon.next svg,.caas .icon.prev svg{fill:#fff;stroke:#fff;stroke-width:0;vertical-align:bottom}.caas .icon.icon-center{left:50%;position:absolute;top:50%;transform:translate(-50%,-50%)}.caas .icon.icon-with-orb{background-image:url(https://s.yimg.com/dh/ap/default/150604/orb.png);background-size:50px;height:50px;width:50px}.caas-attr{align-items:center;display:flex;flex-direction:row;margin-bottom:10px}.caas-attr.author .caas-attr-logo .caas-img{border-radius:48%}.caas-attr a{color:#000;text-decoration:none}.caas-attr a:visited{color:#000}.caas-attr a:active,.caas-attr a:focus,.caas-attr a:hover{text-decoration:none}.caas-attr .caas-img.caas-error,.caas-attr a.caas-img-error{display:none}.caas-attr .caas-attr-author:not(:first-child):not(:last-child):before{content:\\\"\\\\002C \\\"}.caas-attr.commerce-caas-attr .caas-attr-logo{height:42px;margin-right:8px;width:42px}.caas-attr-logo{display:inline-block;height:40px;margin-right:10px;position:relative;vertical-align:middle;width:40px}.caas-attr-logo .caas-img{left:0;position:absolute;top:50%;transform:translateY(-50%)}.caas-attr-provider-logo{display:inline-block;height:30px;margin-right:5px;position:relative;vertical-align:middle}.caas-attr-provider-logo .caas-img{margin-top:5px;max-height:20px;max-width:100px;vertical-align:middle}.caas-attr-meta{display:inline-block;font-size:.923em;font-weight:700;vertical-align:middle}.caas-attr-meta-title{font-weight:400}.caas-attr-meta-title:before{color:#000;content:\\\"\\\\002C \\\";font-weight:700}.caas-attr-time-style{color:grey;display:inline-block;font-size:.923em;font-weight:400}.caas-attr-seperator:not(:first-child):before{content:\\\" \\\\25CF\\\";font-size:.462rem;line-height:1.154rem;padding-right:5px;vertical-align:middle}.caas-attr-provider{padding-right:5px}.caas-attr-item-authors{display:block;line-height:1.43;position:relative}.caas-attr-item-authors.collapsed{overflow:hidden}.caas-attr-item-authors .expand-button{color:#828c93;cursor:pointer;font-weight:400;padding:0 0 0 5px}.caas-attr-item-authors .expand-button.collapsed{background-color:#fff;bottom:0;padding-bottom:2px;position:absolute;right:0}.caas-attr-item-authors .expand-button.collapsed:before{content:\\\"...\\\"}@media only screen and (max-width:959px){.caas-attr-meta-title{display:none}}.caas figure figcaption{color:#5b636a;font-size:1em;margin:5px 0;text-align:left}.caas figure figcaption *{font-size:1em}.caas figure figcaption.collapsed{overflow:hidden}.caas figure figcaption.caption-aligned-with-image{margin-left:auto;margin-right:auto}.caas figure figcaption h2{color:#000;font-size:1.4em;line-height:normal;margin:.8em 0}.caas figure figcaption p{margin:0}.caas .figure-meta{font-size:1.462em;line-height:1.4;margin:5px 0}.caas .figure-meta span{font-weight:500}.caas-figure{margin:0 0 1em}.caas-figure .caas-figure-with-pb{overflow-y:hidden}.caas-figure .caas-img-blur-background{filter:blur(30px);width:100%}.caas-figure .ext-img{cursor:pointer}.caas-figure .caas-img{height:auto}.caas-figure .caas-img:not(.has-width){max-width:100%;min-width:1px}.caas-figure .caas-img.fixed-height>img{-o-object-fit:contain;object-fit:contain}.caas-figure .caas-gallery-badge{bottom:10px;left:15px;position:absolute}.caas-figure .caas-img-gallery{cursor:pointer;position:relative}.caas-figure .caas-img-gallery:not(.caas-img-loader){background:#000}.caas-figure .caas-img-gallery .icon svg{fill:#fff;stroke:#fff;stroke-width:0;vertical-align:bottom}.caas-carousel{color:#232a31;margin-bottom:15px;overflow:hidden}.caas-carousel figure{background-color:#232a31;height:100%;margin:0;padding:0;position:relative;width:100%}.caas-carousel figure .caas-img{width:auto}.caas-carousel .description{font-size:1em;margin:5px 0}.caas-carousel .description h2{font-size:1.4em;line-height:normal;margin:.8em 0 5px}.caas-carousel .description.collapsed{overflow:hidden}.caas-carousel .description *{font-size:1em}.caas-carousel .caas-carousel-slides{padding:0}.caas-carousel-slides{background-color:#232a31;margin:0;transition:transform .25s ease-out;white-space:nowrap;will-change:transform}.caas-carousel-slides .caas-carousel-slide{display:inline-block;height:100%;position:relative;vertical-align:middle;width:100%}.caas-carousel-slides .caas-carousel-slide:focus{outline:0}.caas-carousel-slides .caas-img{backface-visibility:hidden;height:auto;left:50%;max-height:100%;position:absolute;top:50%;transform:translate(-50%,-50%);width:auto}.caas-carousel .next-button,.caas-carousel .prev-button{background-color:#444;background:rgba(68,68,68,.8);border:none;margin-top:-23px;padding:15px;position:absolute;top:50%;-webkit-user-select:none;-moz-user-select:none;user-select:none;z-index:2}.caas-carousel .next-button:hover,.caas-carousel .prev-button:hover{background:#444;cursor:pointer}@media (hover:none){.caas-carousel .next-button:hover,.caas-carousel .prev-button:hover{background:rgba(68,68,68,.8)}}.caas-carousel .next-button:visited,.caas-carousel .prev-button:visited{border:none}.caas-carousel .next-button{border-bottom-left-radius:3px;border-top-left-radius:3px;right:0}.caas-carousel .prev-button{border-bottom-right-radius:3px;border-top-right-radius:3px;left:0}.caas-photoset figcaption{color:#232a31}.caas-photoset figure{margin:0 0 2em}.caas-yvideo-wrapper{background-color:#000;margin:0 0 10px;width:100%}.caas-yvideo-wrapper.yvideo{position:relative}.caas-yvideo-wrapper .yvideo-slick{margin-bottom:30px;margin-top:0;padding-bottom:178%;position:relative}.caas-yvideo-wrapper .yvideo-slick .yvp-playing-item-title.yvp-title-standard{opacity:0}.caas-yvideo-wrapper .yvideo-slick .yvp-content{background-color:transparent}.caas-yvideo-wrapper .yvideo-slick .yvp-docked-mode .yvp-content{background-color:#000}.caas-yvideo-wrapper .yvideo-slick .caas-slick-thumbnail{background-size:cover;bottom:0;left:0;position:absolute;right:0;top:0}.caas-yvideo-wrapper .caas-yvideo{bottom:0;height:100%;left:0;margin:auto;max-height:100%;max-width:100%;overflow:hidden;position:absolute;right:0;top:0;width:100%}.caas-yvideo-wrapper .player{background-size:cover;height:100%;width:100%}.caas-yvideo-wrapper .player.has-background .vp-state-start-screen{background:transparent}.caas-yvideo-wrapper .caas-yvideo:not(.caas-yvideo-full-dock) .yvp-docked-mode .yvp-content{overflow:hidden}.caas-yvideo-wrapper .caas-yvideo:not(.caas-yvideo-full-dock) .yvp-docked-mode .yvp-content.yvp-browser-mobile.yvp-device-phone.yvp-docked .yvp-docked-close-button{background-position:bottom;bottom:6px;left:0;top:auto}.caas-yvideo-wrapper .caas-yvideo:not(.caas-yvideo-full-dock) .yvp-docked-mode .yvp-content.yvp-browser-mobile .yvp-bottom-bar .yvp-play-controls{display:none}.caas-yvideo-wrapper .caas-yvideo:not(.caas-yvideo-full-dock) .vp-docked-mode .vp-content{overflow:hidden}.caas-yvideo-wrapper .caas-yvideo:not(.caas-yvideo-full-dock) .vp-docked-mode .vp-content.vp-browser-mobile.vp-device-phone.vp-docked .vp-docked-close-button{background-position:bottom;bottom:6px;left:0;top:auto}.caas-yvideo-wrapper .caas-yvideo:not(.caas-yvideo-full-dock) .vp-docked-mode .vp-content.vp-browser-mobile .vp-bottom-bar .vp-play-controls{display:none}.caas-iframe{-webkit-overflow-scrolling:touch;margin:15px 0 10px;overflow-y:auto;position:relative}.caas-iframe.fixed-height{width:100%}.caas-iframe blockquote,.caas-iframe iframe{border-width:0;bottom:0;height:100%;left:0;min-height:1px;position:absolute;right:0;top:0;width:100%}.caas-iframe.caas-cover{margin-top:0}.caas-iframe.caas-docked .caas-iframe-dock-wrapper{bottom:0;height:225px;position:fixed;right:20px;width:400px;z-index:9999}.caas-iframe.caas-docked .caas-iframe-dock-wrapper:hover .close-button{display:block}.caas-iframe .caas-iframe-dock-wrapper .close-button{border:none;display:none;padding:0;position:absolute;right:16px;top:8px;z-index:1}.caas-iframe .caas-iframe-dock-wrapper .close-button span.icon{position:static}.caas-iframe .caas-iframe-dock-wrapper .close-button span.icon svg{fill:#fff;stroke-width:1;stroke:#fff}.caas-iframe[data-type=facebook] iframe{background-color:#fff}.caas-iframe.opinary,.caas-iframe.opinaryAutomated{margin:auto}.caas-iframe-instagram{background-color:#fff;border:1px solid #e0e4e9;border-radius:3px;box-shadow:none;box-sizing:border-box;display:block;margin:0 0 10px;max-width:660px;min-width:280px;padding:0;width:100%}.caas-iframe-ceros-wrapper{margin-left:-20px;margin-right:-20px;width:auto}.caas-rmp-wrapper{margin-bottom:10px;margin-top:15px}.caas-rmp-wrapper .caas-rmp{overflow:hidden;position:relative}.caas-rmp-wrapper .caas-rmp>blockquote{border-width:0;bottom:0;height:100%;left:0;min-height:1px;position:absolute;right:0;top:0;width:100%}.caas-da,.caas-sda{margin:0 0 10px;text-align:center}.caas-da .caas-da-slug{display:block;height:12px;padding:8px 0}.caas-da .caas-da-slug:before{background-color:#f5f8fa;color:#6e7780;content:attr(data-content);display:block;font-size:10px;font-style:normal;line-height:12px;text-transform:uppercase}@keyframes adhide{0%{visibility:visible}to{visibility:hidden}}.caas blockquote{margin:0;padding:0}.caas .caas-pull-quote-wrapper.is-image-quote{background-position:50%;background-size:cover}.caas .caas-pull-quote-wrapper.is-image-quote .caas-pull-quote{background-image:linear-gradient(180deg,rgba(0,0,0,.3),rgba(0,0,0,.8) 97%);display:flex;flex-direction:column;justify-content:flex-end;min-height:450px;padding:0 30% 150px 20%}.caas .caas-pull-quote-wrapper.is-image-quote .caas-pull-quote .quote{color:#fff}.caas .caas-blockquote{border-left:2px solid #c7cdd2;color:#5b636a;font-style:italic;margin:30px 20px;padding:0 0 0 20px}.caas .caas-blockquote.caas-pull-quote{border-left:none;margin:30px 0;padding:0 20px}.caas .caas-blockquote.caas-pull-quote .icon.quotemark{height:22px;top:0;width:31px}.caas .caas-blockquote.caas-pull-quote .icon.quotemark svg{fill:#5d5eff}.caas .caas-blockquote.caas-pull-quote .quote{color:#232a31;display:block;font-size:2.5rem;font-style:normal;font-weight:800;line-height:1.2}.caas .caas-blockquote.caas-pull-quote .attribution{display:block;font-size:1.5rem;font-style:italic;font-weight:400;line-height:1.167;margin-top:24px}.caas .caas-blockquote.caas-pull-quote .attribution:before{content:\\\"\\\\2014 \\\"}.caas[data-device=smartphone] .caas-pull-quote-wrapper.is-image-quote .caas-pull-quote{min-height:357px;padding:0 23px 23px}.caas[data-device=smartphone] .caas-blockquote.caas-pull-quote .icon.quotemark{height:14px;width:20px}.caas[data-device=smartphone] .caas-blockquote.caas-pull-quote .quote{font-size:1.25rem;line-height:1.3}.caas[data-device=smartphone] .caas-blockquote.caas-pull-quote .attribution{font-size:.813rem;line-height:1;margin-top:8px}.caas-quote{border-left:10px solid #6d00f6;margin:30px 0;padding:0 0 0 15px}.caas-quote blockquote{color:#6d00f6;font-size:1.538em;font-weight:600;line-height:1.6em}.caas-quote footer{margin-top:5px}.caas-quote cite{color:#878c91;font-size:.923em;font-style:normal;font-weight:400}.caas-table{overflow:auto}.caas-table table{border-collapse:collapse;border-spacing:0;width:100%}.caas-table p{margin:0}.caas.finance .caas-table table{font-size:.7em;line-height:1.2em}ul.caas-list{padding-left:1.538em}ol.caas-list{list-style-position:inside}ol.caas-list li{margin-bottom:.8em}ol.caas-list li p{display:inline}ol.caas-list[type=\\\"1\\\"]{list-style-type:decimal}ol.caas-list[type=a]{list-style-type:lower-alpha}ol.caas-list[type=A]{list-style-type:upper-alpha}ol.caas-list[type=i]{list-style-type:lower-roman}ol.caas-list[type=I]{list-style-type:upper-roman}ol.caas-list[type]:not([type=\\\"\\\"]) li{list-style-type:inherit}.caas-list li li,.caas-list li p{font-size:1em;vertical-align:top}.caas-list.caas-list-bullet li{list-style-type:disc}.caas-media-wrapper{border:1px solid #c7cdd2;border-radius:4px}.instagram-media-wrapper{position:relative}.instagram-media{background:#fff;border:0;margin:1px;max-width:658px;padding:0;width:99.375%}.caas-readmore{display:inline-block;margin:0 0 10px;text-align:left;width:100%}.caas-readmore.caas-button-full-width{text-align:center}.caas-readmore.caas-button-full-width .caas-button{padding:15px 0;width:100%}.caas-readmore .caas-button{display:inline-block;font-size:1.18em;font-weight:500;padding:10px 30px}.caas-readmore .caas-button.caas-button-full-width{text-align:center}.caas-readmore-collapse{margin-top:-70px}.caas-readmore-collapse:before{background:linear-gradient(180deg,hsla(0,0%,100%,0) 0,#fff);content:\\\"\\\";display:block;height:68px;position:relative;width:100%}.caas-readmore-collapse.active{display:none}.caas-readmore-collapse:not(.active)~*,.caas-readmore-collapse:not(.active)~* .rapid-nonanchor-lt,.caas-readmore-collapse:not(.active)~* a,.caas-readmore-collapse:not(.active)~* button,.caas-readmore-collapse:not(.active)~* input{display:none!important}.caas-readmore-collapse:not(.active)~.view-cmts-cta-wrapper{bottom:12px;display:inline-block!important;position:absolute;right:10%}.caas-readmore-collapse:not(.active)~.view-cmts-cta-wrapper .view-cmts-cta{display:inline-block!important;margin-bottom:10px}.caas-readmore-collapse:not(.active)~.view-cmts-cta-wrapper.hide{display:none!important}.caas a.athena-button{background-color:#7759ff;border-color:#7759ff;border-radius:24px;border-width:2px;color:#fff;display:inline-block;font-size:14px;font-weight:600;height:47px;line-height:43px;margin-bottom:10px;margin-right:10px;padding:0 30px;text-align:center;transition:all .15s ease-in-out;vertical-align:middle;width:340px}.caas a.athena-button:active,.caas a.athena-button:focus,.caas a.athena-button:hover{text-decoration:none}.caas a.athena-button:hover{opacity:.92}.caas[data-device=smartphone] a.athena-button{border-radius:18px;display:block;height:36px;line-height:32px;margin-right:0;padding:0 30px;width:auto}.caas[data-device=smartphone] a.athena-button:hover{background-color:#f0f3f5;border-color:#7759ff;color:#7759ff}.caas-native-module{margin:10px 0}.caas .caas-3p-blocked{border:1px solid #c7cdd2;border-radius:8px;color:#5b636a;margin:20px 0;max-width:600px;overflow:hidden}.caas .caas-3p-blocked-wrap{display:flex}.caas .caas-3p-blocked-icon{background-color:#f1f1f5;position:relative;width:56px}.caas .caas-3p-blocked-icon svg{fill:#5b636a}.caas .caas-3p-blocked-text{background-color:#fff;flex:1;font-size:1.077em;font-weight:600;line-height:1.571;padding:12px}.caas .caas-3p-blocked a{color:#0f69ff}.caas .caas-stock-chart .ticker-chart{border-radius:8px;box-shadow:0 0 1px 0 rgba(0,0,0,.2),0 3px 8px 0 rgba(0,0,0,.08);margin:40px 0;padding:20px 20px 0}.caas .caas-stock-chart .ticker-chart .legend-item{line-height:1em}.caas .caas-stock-chart iframe.ticker-chart{border:none;box-sizing:border-box;height:410px;width:100%}.caas .caas-stock-chart .caas-card-loader{height:380px;margin:40px 0}.caas .caas-stock-chart>.wafer-fetch-error{display:none}.caas[data-device=smartphone] .caas-stock-chart .ticker-chart{margin:20px 0;padding:16px 16px 0}.caas[data-device=smartphone] .caas-stock-chart iframe.ticker-chart{height:374px}.caas[data-device=smartphone] .caas-stock-chart .caas-card-loader{height:260px;margin:20px 0}.caas-coupon{cursor:pointer;position:relative;word-break:break-all}.caas-coupon.caas-button{border:1px solid #b0b9c1;border-radius:4px;color:#232a31}.caas-coupon .icon svg{fill:#232a31}@keyframes fade{0%{opacity:1}to{opacity:0}}.caas-coupon .loader{background:#008751;display:flex;height:100%;justify-content:center;left:0;opacity:0;position:absolute;top:0;transform:scaleX(0);transform-origin:center;transition:transform .2s;width:100%}.caas-coupon .msg{align-self:center;color:#fff;opacity:0;transition:opacity 3s step-start .2s}.caas-coupon.copied{animation:fade .3s 3.2s}.caas-coupon.copied .loader{transform:scale(1)}.caas-coupon.copied .loader,.caas-coupon.copied .msg{opacity:1}.caas-coupon.copied .couponText{opacity:0}.caas-coupon.copied .checkmark.icon svg{fill:#fff}.caas-coupon:active:not(.copied),.caas-coupon:focus:not(:focus-visible),.caas-coupon:hover:not(.copied){background:rgba(0,0,0,.1);border-color:#b0b9c1;color:#5b636a}.caas-coupon:active:not(.copied) .copyCode.icon svg,.caas-coupon:focus:not(:focus-visible) .copyCode.icon svg,.caas-coupon:hover:not(.copied) .copyCode.icon svg{fill:#5b636a}.caas-coupon:active:not(.copied){opacity:.6}@media (prefers-reduced-motion:reduce){.caas-coupon{animation:none}.caas-coupon .loader,.caas-coupon .msg{transition:none}}.caas .pd-list{color:#232a31;line-height:1.33;margin:0 auto 32px}.caas .pd-list .list-item{display:flex;flex-direction:column;gap:16px}.caas .pd-list .list-item h4{font-size:1.385em;font-weight:700;margin:0}.caas .pd-list .list-item .img-container{border-radius:8px;overflow:hidden;padding-bottom:75%;position:relative;width:100%}.caas .pd-list .list-item .img-container img{background-color:#fff;height:100%;margin:0 auto;-o-object-fit:contain;object-fit:contain;width:100%}.caas .pd-list .list-item.horizontal .img{-o-object-fit:cover;object-fit:cover}.caas .pd-list .img-link{height:100%;position:absolute;width:100%}.caas .pd-list .name{color:#232a31}.caas .pd-list .desc{font-size:1.385em;line-height:1.556;margin:16px 0 32px}.caas .pd-list .list-info{flex:1;margin:auto 0}.caas .pd-list .list-info .discount-info{border-top:4px solid #232a31;display:inline-block;margin:16px 0 0;padding:8px 8px 0 0}.caas .pd-list .list-info .discount-info>.deal-orig-price,.caas .pd-list .list-info .discount-info>.orig-price{display:inline-block;font-size:1.385em}.caas .pd-list .edit-label{box-sizing:border-box;color:#6001d2;font-family:Yahoo Sans Cond;font-size:1.385em;font-weight:700;margin:0 0 8px}.caas .pd-list .price-formatted{display:inline-block;font-size:1.385em;font-weight:700;margin-top:2px}.caas .pd-list .orig-price{color:#5b636a;font-weight:400;margin:0 8px 0 0}.caas .pd-list .deal-orig-price{font-weight:700;margin:0 8px 0 0}.caas .pd-list .sale-price{color:#eb0f29;margin-right:6px}.caas .pd-list .icon{margin-right:13px}.caas .pd-list .icon svg{fill:#232a31}.caas .pd-list .coupon-label{display:inline-block;font-size:1.231em;line-height:1.25;margin:2px 0 0;padding:1px 0 0 8px;vertical-align:top}.caas .pd-list .coupon-label .label-text{font-weight:500}.caas .pd-list .saved-price{font-weight:700}.caas .pd-list .saved-price.deals-price{font-size:.889em;margin-left:14px}.caas .pd-list .caas-coupon{display:block;font-size:1.077em;font-weight:700;line-height:1.43;margin:8px auto 3px;padding:4px 8px}.caas .pd-list .caas-coupon .icon{margin:0 16px}.caas .pd-list .img-credit{background-color:hsla(0,0%,100%,.9);border-radius:8px 0;bottom:0;color:#5b636a;font-size:.769em;font-weight:400;line-height:1.2;padding:8px 12px;position:absolute;right:-2px}.caas .pd-list .bottom-info{border-bottom:1px solid #e0e4e9;max-width:818px;padding:0 0 26px}.caas .pd-list .bottom-info .discount-info{margin-bottom:12px;text-align:center}.caas .pd-list .cta-btn{background-color:#1d2228;border-color:#232a31;border-radius:40px;box-sizing:border-box;color:#fff;display:inline-block;font-size:1.231em;font-weight:600;line-height:1.25;margin:0 0 12px;min-width:240px;padding:11px 28px 13px;text-align:center;width:100%}.caas .pd-list .list-item amp-img{height:100%;width:100%}.caas .pd-list .name{font-size:1.111em;line-height:1.2}.caas .pd-list .caas-coupon{width:calc(100% - 40px)}.caas .mini-pd{color:#232a31;padding:20px 0}.caas .mini-pd .product-list{margin:0}.caas .mini-pd .list-item{display:flex;position:relative}.caas .mini-pd .list-item img{height:100%;-o-object-fit:cover;object-fit:cover}.caas .mini-pd .list-item.vertical img{-o-object-fit:contain;object-fit:contain}.caas .mini-pd .img-container{background:#fff;border-radius:8px;flex:0 0 104px;height:78px;margin:0 16px 0 0;overflow:hidden;width:104px}.caas .mini-pd .info{display:flex;flex-direction:column;gap:16px;justify-content:space-around;width:calc(100% - 120px)}.caas .mini-pd .editor-label{color:#6001d2;font-family:Yahoo Sans Cond,YahooSansCond;font-weight:700;overflow:hidden;text-overflow:ellipsis;white-space:nowrap}.caas .mini-pd .discount-callout,.caas .mini-pd .editor-label,.caas .mini-pd .name{line-height:20px}.caas .mini-pd .name{-webkit-line-clamp:2;-webkit-box-orient:vertical;display:-webkit-box;font-weight:500;margin:0;overflow:hidden;text-overflow:ellipsis}.caas .mini-pd .discount-callout{display:flex;font-weight:700;gap:8px;margin:8px 0 0}.caas .mini-pd .prices{display:flex;gap:8px}.caas .mini-pd .coupon-label,.caas .mini-pd .saved-price{display:none}.caas .mini-pd .price-formatted .sale-price{color:#eb0f29;margin:0 2px 0 0}.caas .mini-pd .price-formatted .orig-price{color:#5b636a;font-weight:500}.caas .mini-pd .caas-coupon{box-sizing:border-box;line-height:1.33;z-index:1}.caas .mini-pd .caas-coupon.narrow{display:block;margin:4px 0 0;max-width:215px;padding:8px 16px;text-align:left;width:-moz-fit-content;width:fit-content}.caas .mini-pd .caas-coupon.wide{display:none}.caas .mini-pd .icon{margin:0 12px}.caas .mini-pd .icon>svg{fill:#232a31}.caas .mini-pd .cta-container{max-width:100%;width:215px}.caas .mini-pd .cta-btn{border:2px solid #232a31;border-radius:20px;color:#232a31;display:block;font-weight:600;line-height:2;overflow:hidden;padding:0 20px;text-align:center;text-decoration:none;text-overflow:ellipsis;white-space:nowrap}.caas .mini-pd .stretched-box{bottom:0;left:0;position:absolute;right:0;top:0}.caas .mini-pd+.mini-pd{border-top:1px solid #e0e4e9}.caas.caas-commerce .mini-pd+:not(.mini-pd){margin-top:12px}.caas .mini-pd{max-width:100%}.caas .mini-pd .img-container amp-img{height:100%}.caas .mini-pd .img-container amp-img img{-o-object-fit:cover;object-fit:cover}.caas .mini-pd .img-container.vertical amp-img img{-o-object-fit:contain;object-fit:contain}.caas .mini-pd .editor-label,.caas .mini-pd .name,.caas .mini-pd .price-formatted,.caas .mini-pd .promo-text,.caas .mini-pd .single-price{font-size:.875em}.caas .mini-pd .caas-coupon,.caas .mini-pd .cta-btn{font-size:.75em}.caas .mini-pd .list-item:active .name,.caas .mini-pd .list-item:focus-within .name{text-decoration:underline}.caas .mini-pd .cta-btn:active,.caas .mini-pd .cta-btn:focus{background:rgba(0,0,0,.1)}.caas .mini-pd .cta-btn:active{opacity:.6}.caas .quick-overview{border:none;margin:32px 0;padding:0}.caas .quick-overview .list-item{border-bottom:1px solid #e0e4e9;padding:20px 0}.caas .quick-overview .list-item.secondary{display:none}.caas .quick-overview .overview-label{grid-gap:1em;align-items:center;display:grid;font-size:1.538em;font-weight:700;grid-template-columns:auto 1fr;line-height:1.2;margin:0}.caas .quick-overview .overview-label:after{border-top:4px solid #232a31;content:\\\"\\\";display:block}.caas .quick-overview .more-btn{color:#232a31;display:block;font-size:1.08em;font-weight:600;line-height:20px;padding:20px 0 0;text-align:center;text-decoration:none}.caas .quick-overview .more-btn:active{color:#b0b9c1}.caas[data-device=smartphone] .commerce-disclaimer{border-bottom:1px solid #e0e4e9;margin-bottom:20px;max-width:335px;padding-bottom:20px;text-align:left}.caas .commerce-disclaimer{color:#6e7780;margin-bottom:40px;max-width:1100px}.caas .commerce-disclaimer.prestige{background-color:#f5f8fa;border-radius:8px;box-sizing:border-box;grid-column:1/span 12;line-height:1.428;margin:24px auto;padding:12px}@media (min-width:767px){.caas .commerce-disclaimer.prestige{align-items:center;display:flex;line-height:1.6;margin:0 auto 32px;max-width:983px;padding:20px}}.caas .commerce-disclaimer.prestige.full-viewport{margin:24px auto}@media (min-width:767px){.caas .commerce-disclaimer.prestige.full-viewport{margin:40px auto}}.caas .commerce-disclaimer.prestige .commerce-disclaimer-logo-wrapper{background-color:#7e1fff;border-radius:50%;display:inline-block;height:14px;margin-right:4px;position:relative;top:-2px;vertical-align:middle;width:14px}@media (min-width:767px){.caas .commerce-disclaimer.prestige .commerce-disclaimer-logo-wrapper{flex-shrink:0;height:24px;margin-right:12px;top:0;width:24px}}.caas .commerce-disclaimer.prestige .commerce-disclaimer-logo-wrapper svg{height:12px;width:12px}@media (min-width:767px){.caas .commerce-disclaimer.prestige .commerce-disclaimer-logo-wrapper svg{height:24px;width:18px}}.caas .commerce-disclaimer.prestige .caas-disclaimer-text{color:#5b636a;font-size:14px}.caas.caas-commerce h1{font-size:1.85em;line-height:1.33}@media (min-width:768px){.caas.caas-commerce h1{line-height:1.5}}@media (min-width:1020px){.caas.caas-commerce h1{font-size:2.46em;line-height:1.25}}@media (min-width:1340px){.caas.caas-commerce h1{font-size:3.08em;line-height:1.33}}.caas.caas-commerce .caas-body>p{font-size:1.23em;line-height:1.5;margin:0 0 24px}@media (min-width:768px){.caas.caas-commerce .caas-body>p{font-size:1.38em;line-height:1.77}}.caas.caas-commerce .caas-body p a:not(.athena-button){color:#232a31;font-weight:400;text-decoration:underline;text-decoration-color:#232a31;text-underline-offset:4px}.caas.caas-commerce .caas-body p a:not(.athena-button):visited{color:#5b636a;text-decoration-color:#5b636a}.caas.caas-commerce .caas-body p a:not(.athena-button):active{opacity:.6;text-decoration-color:#7759ff}.caas.caas-commerce .caas-body p a:not(.athena-button):hover{text-decoration-color:#7759ff}.caas.caas-commerce .caas-body p a.etailiffa-link:not(.athena-button){color:#232a31;font-weight:700;text-decoration-color:#7759ff}.caas.caas-commerce .caas-body p a.etailiffa-link:not(.athena-button):visited{color:#5b636a}.caas.caas-commerce .caas-body p a.etailiffa-link:not(.athena-button):active{color:#7759ff;opacity:.6}.caas.caas-commerce .caas-body p a.etailiffa-link:not(.athena-button):hover{color:#7759ff}.caas.caas-commerce .caas-body>h2{font-size:1.38em;line-height:1.33;margin:0;padding:12px 0}@media (min-width:768px){.caas.caas-commerce .caas-body>h2{font-size:1.85em;line-height:1.17}}.caas.caas-commerce .caas-container .caas-body-inner-wrapper .caas-body-section .caas-content .caas-content-wrapper .caas-body{padding-right:0}@media (min-width:1020px){.caas.caas-commerce .caas-container .caas-body-inner-wrapper .caas-body-section .caas-content .caas-content-wrapper .caas-body{padding-right:12px}}.caas.caas-commerce .commerce-breakout{background:#f8f4ff;border-radius:5px;margin:20px 0 24px;padding:12px}.caas.caas-commerce .commerce-breakout ol,.caas.caas-commerce .commerce-breakout ul{list-style-type:revert;padding-left:18px}.caas.caas-commerce .commerce-breakout ol li,.caas.caas-commerce .commerce-breakout ul li{font-size:inherit;list-style-type:inherit}.caas.caas-commerce .commerce-breakout p{font-size:1.077em;line-height:1.571em;margin:0}@media (min-width:768px){.caas.caas-commerce .commerce-breakout{border-radius:8px;margin:20px auto 32px}}.caas:not(.enableArticle2).caas-cc{margin:20px}.caas:not(.enableArticle2).caas-cc .figure-meta{margin-left:20px;margin-right:20px}.caas:not(.enableArticle2) .caas-iframe-wrapper,.caas:not(.enableArticle2) .caas-rmp-wrapper,.caas:not(.enableArticle2) .caas-yvideo-wrapper:not(.caas-yvideo-with-iframe){margin-left:-20px;margin-right:-20px;width:auto}.caas:not(.enableArticle2) .caas-iframe.fixed-height,.caas:not(.enableArticle2) .caas-yvideo-wrapper .caas-iframe{margin-left:0;margin-right:0}.caas:not(.enableArticle2) .caas-cover,.caas:not(.enableArticle2) .caas-figure,.caas:not(.enableArticle2) .caas-photoset figure{margin-left:-20px;margin-right:-20px;width:auto}.caas:not(.enableArticle2) .caas-iframe-wrapper .caas-cover{margin-left:0;margin-right:0}.caas:not(.enableArticle2) .caas-carousel .description:not(.caas-img-container),.caas:not(.enableArticle2) .caas-carousel>:not(.caas-img-container):not(.next-button):not(.prev-button),.caas:not(.enableArticle2) .caas-figure .description:not(.caas-img-container),.caas:not(.enableArticle2) .caas-figure>:not(.caas-img-container):not(.next-button):not(.prev-button),.caas:not(.enableArticle2) .caas-photoset figure .description:not(.caas-img-container),.caas:not(.enableArticle2) .caas-photoset figure>:not(.caas-img-container):not(.next-button):not(.prev-button){margin-left:20px;margin-right:20px}.caas:not(.enableArticle2) .caas-hero{margin-top:-20px}.caas:not(.enableArticle2) .vdb_player{margin-left:-20px;margin-right:-20px}.caas.enableArticle2.caas-cc{margin:0}.caas.enableArticle2 .caas-iframe.fixed-height,.caas.enableArticle2 .caas-yvideo-wrapper .caas-iframe{margin-left:0;margin-right:0}.caas.enableArticle2 .caas-hero{margin-top:-20px}.caas-loader{background:#fff url(https://s.yimg.com/os/yc/pt/icons/fuji-loader-v2-blue.0.svg) no-repeat 50%;background-size:20px}.caas-card-loader{background-color:#fff;box-shadow:0 1px 2px 1px rgba(0,0,0,.08),0 -1px 3px 0 rgba(0,0,0,.06);box-sizing:border-box;height:100%;overflow:hidden;position:relative;will-change:transform}.caas-card-loader.small{border-radius:2px;max-width:500px}.caas-card-loader.fixed-height{height:200px;margin-bottom:10px;padding:10px}.caas-card-loader.fixed-height:before{height:110px}.caas-card-loader:only-child{margin-top:0}.caas-card-loader:before{background-color:#e0e4e9;box-shadow:-48px 78px 0 -48px #e0e4e9,-51px 102px 0 -51px #e0e4e9;content:\\\"\\\";display:block;height:100%}.caas-card-loader:after{animation-duration:.6s;animation-iteration-count:infinite;animation-name:loader-animate;animation-timing-function:linear;background-color:#f7f8ff;background:linear-gradient(90deg,hsla(0,0%,100%,0) 0,hsla(0,0%,100%,.6) 30%,hsla(0,0%,100%,0) 81%);content:\\\"\\\";height:100%;left:0;position:absolute;top:0;width:100%}@keyframes loader-animate{0%{transform:translate3d(-100%,0,0)}to{transform:translate3d(100%,0,0)}}.caas article:focus{outline:none}.caas .caas-yvideo-wrapper .caas-yvideo .vp-bottom-bar .vp-menu-controls .vp-setting-btn,.caas .caas-yvideo-wrapper .caas-yvideo .vp-error-screen .vp-error-desc,.caas .caas-yvideo-wrapper .caas-yvideo .yvp-bottom-bar .yvp-menu-controls .yvp-setting-btn,.caas .caas-yvideo-wrapper .caas-yvideo .yvp-error-screen .yvp-error-desc{display:none}.caas-cc{margin-bottom:20px}.font-XXS .caas{font-size:11.27px}.font-XS .caas{font-size:12.13px}.font-S .caas{font-size:13px}.font-M .caas{font-size:13.86px}.font-L .caas{font-size:15.6px}.font-XL .caas{font-size:17.33px}.font-XXL .caas{font-size:20.8px}\\n/*# sourceMappingURL=caas-finance_android.min.css.map*/</style><meta http-equiv=\\\"x-dns-prefetch-control\\\" content=\\\"on\\\"></head><body class=\\\"_CAAS_SYSTEM_THEME_OFF_PLACEHOLDER_ _CAAS_THEME_PLACEHOLDER_\\\"><div id=\\\"caas-articles-container\\\" class=\\\"caas-wrapper\\\"><div class=\\\"caas caas-cc ncp removetopvideo enableNativeVideo oathPlayer finance caas-ynet\\\" data-cobrandname=\\\"\\\" data-device=\\\"smartphone\\\" data-i18n=\\\"{&quot;{0} min&quot;:&quot;{0} min&quot;,&quot;{0} min read&quot;:&quot;{0} min read&quot;,&quot;{0} mins read&quot;:&quot;{0} mins read&quot;,&quot;{0} Views&quot;:&quot;{0} Views&quot;,&quot;{0} followers&quot;:&quot;{0} followers&quot;,&quot;{0} symbols&quot;:&quot;{0} symbols&quot;,&quot;{0} at {1}&quot;:&quot;{0} at {1}&quot;,&quot;360_TITLE&quot;:&quot;The 360&quot;,&quot;Ad&quot;:&quot;Ad&quot;,&quot;AD_PLACEHOLDER_TEXT&quot;:&quot;Advertisement&quot;,&quot;AND&quot;:&quot;and&quot;,&quot;AR_INLINE_FALLBACK&quot;:&quot;This story has augmented reality! Tap the video above to see how it looks and download the \\\\u003Ca href=\\\\&quot;https:\\\\u002F\\\\u002Fitunes.apple.com\\\\u002Fus\\\\u002Fapp\\\\u002Fyahoo-news-live-breaking-news\\\\u002Fid304158842?mt=8\\\\&quot;\\\\u003EYahoo News app\\\\u003C\\\\u002Fa\\\\u003E to launch the full experience. Augmented reality is currently available to iPhone users (iPhone 8 and later) with the latest version of iOS.&quot;,&quot;AR_INTRO_LINK&quot;:&quot;Read more about how it works here.&quot;,&quot;AR_INTRO&quot;:&quot;Yahoo News now features augmented reality, an immersive storytelling format that brings our journalism to life in new ways. Experience it below.&quot;,&quot;AR_TITLE_MODEL_VIEWER&quot;:&quot;Tap to see in your space &amp;rarr;&quot;,&quot;BUY_NOW&quot;:&quot;Buy Now&quot;,&quot;CLOSE&quot;:&quot;Close&quot;,&quot;CLOSE_TOOLTIP&quot;:&quot;Close tooltip&quot;,&quot;CLOSE_XRAY_MODAL&quot;:&quot;Close more info modal dialog&quot;,&quot;COLLAPSE&quot;:&quot;Collapse&quot;,&quot;COMMENTS&quot;:&quot;Comments&quot;,&quot;CONS&quot;:&quot;Cons&quot;,&quot;CONSENT_BLOCKED_3P&quot;:&quot;This content is not available due to your privacy preferences.&quot;,&quot;CONSENT_BLOCKED_3P_LINK_TEXT&quot;:&quot;Update your settings here to see it.&quot;,&quot;CONTINUE_READING&quot;:&quot;Continue reading&quot;,&quot;DISCLAIMER_GENERAL&quot;:&quot;We may receive commission from purchases made via links on this page. Pricing and availability are subject to change.&quot;,&quot;DISCLAIMER_AFFILIATE&quot;:&quot;We may earn commission from links on this page, but we only recommend products we believe in. Pricing and availability are subject to change.&quot;,&quot;DISCLAIMER_BRAND_AFFILIATE&quot;:&quot;We have received compensation to create this article, and receive commission from purchases made via links on this page. Pricing and availability are subject to change.&quot;,&quot;DISCLAIMER_ASR_AFFILIATE&quot;:&quot;We may receive commission from purchases made via links on this page. Pricing and availability are subject to change. This content is created by a 3rd party.&quot;,&quot;DISCLAIMER_SUBS_AFFILIATE&quot;:&quot;Some of the products written about here are offered in affiliation with Yahoo. We may receive a share from purchases made via links on this page. Pricing and availability are subject to change.&quot;,&quot;DISCLAIMER_AOL_AFFILIATE&quot;:&quot;Some of the products written about here are offered in affiliation with AOL. We may receive a share from purchases made via links on this page. Pricing and availability are subject to change.&quot;,&quot;EMAIL&quot;:&quot;Email&quot;,&quot;ENGADGET_DISCLAIMER&quot;:&quot;All products recommended by Engadget are selected by our editorial team, independent of our parent company. Some of our stories include affiliate links. If you buy something through one of these links, we may earn an affiliate commission.&quot;,&quot;EXPLORE_THE_TOPICS&quot;:&quot;Explore the topics mentioned in this article&quot;,&quot;FACT_CHECK&quot;:&quot;Fact Check&quot;,&quot;FACTUAL_AUTHOR_EXPERTISE&quot;:&quot;Author expertise&quot;,&quot;FACTUAL_GRADE_TITLE&quot;:&quot;The Factual Grade&quot;,&quot;FACTUAL_GRADE_SUBTITLE&quot;:&quot;The Factual Article Grade based on&quot;,&quot;FACTUAL_LEARN_MORE&quot;:&quot;Learn more about how the Factual works&quot;,&quot;FACTUAL_OPINIONATED_TONE&quot;:&quot;Opinionated tone&quot;,&quot;FACTUAL_QUALITY_HIGH&quot;:&quot;High&quot;,&quot;FACTUAL_QUALITY_MEDIUM&quot;:&quot;Medium&quot;,&quot;FACTUAL_QUALITY_LOW&quot;:&quot;Low&quot;,&quot;FACTUAL_CRED_VERY_HIGH&quot;:&quot;Very High&quot;,&quot;FACTUAL_CRED_HIGH&quot;:&quot;High&quot;,&quot;FACTUAL_CRED_VERY_LOW&quot;:&quot;Very Low&quot;,&quot;FACTUAL_CRED_MIXED&quot;:&quot;Mixed&quot;,&quot;FACTUAL_CRED_LOW&quot;:&quot;Low&quot;,&quot;FACTUAL_CRED_NA&quot;:&quot;Not Available&quot;,&quot;FACTUAL_OPINION_SCORE_HIGH&quot;:&quot;Generally Neutral&quot;,&quot;FACTUAL_OPINION_SCORE_MEDIUM&quot;:&quot;Moderately opinionated&quot;,&quot;FACTUAL_OPINION_SCORE_LOW&quot;:&quot;Very Opinionated&quot;,&quot;FACTUAL_RATING&quot;:&quot;Article rating&quot;,&quot;FACTUAL_SITE_QUALITY&quot;:&quot;Site quality&quot;,&quot;FACTUAL_SOURCE_QUALITY&quot;:&quot;Source quality&quot;,&quot;FEEDBACK_MSG&quot;:&quot;Thank you for your feedback!&quot;,&quot;FEEDBACK_NO_BTN&quot;:&quot;No&quot;,&quot;FEEDBACK_USEFUL&quot;:&quot;Was this data useful?&quot;,&quot;FEEDBACK_YES_BTN&quot;:&quot;Yes&quot;,&quot;FOLLOW&quot;:&quot;Follow&quot;,&quot;GET_APP&quot;:&quot;Get the App&quot;,&quot;GRAPHIQ&quot;:&quot;Visualization by Graphiq&quot;,&quot;IN_THIS_ARTICLE&quot;:&quot;In this article&quot;,&quot;LESS&quot;:&quot;Less&quot;,&quot;LIVE&quot;:&quot;Live&quot;,&quot;MORE&quot;:&quot;More&quot;,&quot;MORE_CONTENT_BELOW&quot;:&quot;More content below&quot;,&quot;NEW&quot;:&quot;New&quot;,&quot;NEWS_APP_PROMOTION_CAPTION&quot;:&quot;Stay in the know at a glance with the Top 10 daily stories&quot;,&quot;NEWS_APP_PROMOTION_HEADLINE&quot;:&quot;Yahoo News is better in the app&quot;,&quot;NEXT_PHOTO&quot;:&quot;Next photo&quot;,&quot;OOPS&quot;:&quot;Oops!&quot;,&quot;OPEN_XRAY_MODAL&quot;:&quot;More info modal dialog&quot;,&quot;ORIGINALLY_PUBLISHED&quot;:&quot;Originally published&quot;,&quot;PHOTOS&quot;:&quot;Photos&quot;,&quot;PIN_IT&quot;:&quot;Pin it&quot;,&quot;POWERED_BY_YAHOO_FINANCE&quot;:&quot;Powered by Yahoo Finance&quot;,&quot;PROS&quot;:&quot;Pros&quot;,&quot;PREVIOUS_PHOTO&quot;:&quot;Previous photo&quot;,&quot;PUBLISHED&quot;:&quot;Published&quot;,&quot;PUBLISHER_ATTRIBUTION&quot;:&quot;View article source&quot;,&quot;QUICK_OVERVIEW&quot;:&quot;Quick Overview&quot;,&quot;REACTIONS&quot;:&quot;Reactions&quot;,&quot;READ_FULL_ARTICLE&quot;:&quot;Read full article&quot;,&quot;READ_MORE&quot;:&quot;Read More&quot;,&quot;RECIPE_DIRECTION_TITLE&quot;:&quot;Directions&quot;,&quot;RECIPE_INGREDIENTS_TITLE&quot;:&quot;Ingredients&quot;,&quot;Scroll to continue with content&quot;:&quot;Scroll to continue with content&quot;,&quot;SEE_GALLERY&quot;:&quot;See Gallery&quot;,&quot;SEE_LESS&quot;:&quot;See less&quot;,&quot;SEE_MORE&quot;:&quot;See more&quot;,&quot;SEE {0} MORE&quot;:&quot;See {0} more&quot;,&quot;SHARE_FACEBOOK&quot;:&quot;Share on Facebook&quot;,&quot;SHARE_LINKEDIN&quot;:&quot;Share on LinkedIn&quot;,&quot;SHARE_REDDIT&quot;:&quot;Share on Reddit&quot;,&quot;SHARE_LINE&quot;:&quot;Share on Line&quot;,&quot;SHARE_WHATSAPP&quot;:&quot;Share on WhatsApp&quot;,&quot;SHARE&quot;:&quot;Share&quot;,&quot;SHARES&quot;:&quot;Shares&quot;,&quot;SHOW_MEDIA&quot;:&quot;Show media&quot;,&quot;SHOW_NEXT_CARDS&quot;:&quot;Show next cards&quot;,&quot;SHOW_PREVIOUS_CARDS&quot;:&quot;Show previous cards&quot;,&quot;SHOW_TEXT_ONLY&quot;:&quot;Show text only&quot;,&quot;SLIDE {0} OF {1}&quot;:&quot;Slide {0} of {1}&quot;,&quot;SOMETHING_WENT_WRONG&quot;:&quot;Something went wrong.&quot;,&quot;SOURCE_BIAS_RATING_LEAN_LEFT&quot;:&quot;Moderate-left&quot;,&quot;SOURCE_BIAS_RATING_LEAN_RIGHT&quot;:&quot;Moderate-right&quot;,&quot;SOURCE_BIAS_RATING_LEFT&quot;:&quot;Left&quot;,&quot;SOURCE_BIAS_RATING_RIGHT&quot;:&quot;Right&quot;,&quot;SOURCE_BIAS_RATING_CENTER&quot;:&quot;Center&quot;,&quot;SOURCE_BIAS_RATING_TITLE&quot;:&quot;Source bias rating&quot;,&quot;SOURCE_BIAS_TEXT&quot;:&quot;Political bias ratings for each source come from non-partisan sources via The Factual. Please note that there is no uniformly accepted way to judge the bias of a news organization, so this information is included to help you understand how a story may be framed or why a story is being reported on. More info &quot;,&quot;SOURCE_BIAS_TEXT_HERE&quot;:&quot;here&quot;,&quot;STORY_CONTINUES&quot;:&quot;Story continues&quot;,&quot;STRUCTURED_SUMMARY_TITLE&quot;:&quot;Summary&quot;,&quot;STRUCTURED_SUMMARY_TOOLTIP_TEXT&quot;:&quot;Smart Summary powered by Yahoo, available on select stories.&quot;,&quot;SUMMARY&quot;:&quot;Summary&quot;,&quot;SWIPE_DOWN_TO_CLOSE&quot;:&quot;Swipe down to close.&quot;,&quot;TAGS&quot;:&quot;Tags&quot;,&quot;TODAY&quot;:&quot;Today&quot;,&quot;TOMORROW&quot;:&quot;Tomorrow&quot;,&quot;TRY_LATER&quot;:&quot;Please try again later.&quot;,&quot;TWEET&quot;:&quot;Tweet&quot;,&quot;UNFOLLOW&quot;:&quot;Unfollow&quot;,&quot;UNIT_OF_TIME_HOUR&quot;:&quot;hr&quot;,&quot;UNIT_OF_TIME_MINUTE&quot;:&quot;min&quot;,&quot;UPDATED&quot;:&quot;Updated&quot;,&quot;VIDEO_TITLE&quot;:&quot; [Video]&quot;,&quot;VIDEO_TRANSCRIPT&quot;:&quot;Video Transcript&quot;,&quot;VIDEO_A11Y_DISABLE_FULLSCREEN&quot;:&quot;Full Screen, button, disabled, temporarily not available for screen reader users&quot;,&quot;VIEW_AR_IMAGE&quot;:&quot;View this in your space in AR&quot;,&quot;VIEW_PHOTOS&quot;:&quot;View photos&quot;,&quot;YOU_MAY_ALSO_BE_INTERESTED_IN&quot;:&quot;You may also be interested in:&quot;,&quot;VERSUS&quot;:&quot;vs&quot;,&quot;WATCHLIST&quot;:&quot;Watchlist&quot;}\\\" data-lang=\\\"en-US\\\" data-tz=\\\"America/Los_Angeles\\\" data-params=\\\"{&quot;features&quot;:{&quot;ncp&quot;:true,&quot;removetopvideo&quot;:true,&quot;enableNativeVideo&quot;:true,&quot;oathPlayer&quot;:true},&quot;config&quot;:{&quot;authorBylineCollapseLineCount&quot;:2,&quot;commerceQuickOverviewLimit&quot;:5,&quot;freezeOnLinkClick&quot;:false,&quot;lazyOffsetY&quot;:900,&quot;livecoverage&quot;:{&quot;defer&quot;:false},&quot;imageCaptionCollapseLineCount&quot;:3,&quot;uiShowPreviousButtonOnLoad&quot;:false,&quot;prestigeScrollMarginTop&quot;:-72}}\\\" id=\\\"caas-art-9803606d-a324-3864-83a8-2bd621e6ccbd\\\"><article role=\\\"article\\\" tabindex=\\\"-1\\\"><script class=\\\"caas-yvideo-config\\\" type=\\\"application/ld+json\\\">\\n    {}\\n</script><script class=\\\"caas-timezone-config\\\" type=\\\"application/ld+json\\\">\\n    {\\\"longForm\\\":{\\\"weekday\\\":\\\"short\\\",\\\"day\\\":\\\"numeric\\\",\\\"hour\\\":\\\"numeric\\\",\\\"hourCycle\\\":\\\"h12\\\",\\\"minute\\\":\\\"2-digit\\\",\\\"month\\\":\\\"long\\\",\\\"year\\\":\\\"numeric\\\",\\\"timeZoneName\\\":\\\"short\\\"},\\\"shortForm\\\":{\\\"day\\\":\\\"numeric\\\",\\\"month\\\":\\\"long\\\",\\\"year\\\":\\\"numeric\\\"}}\\n</script><script class=\\\"caas-embedded-config\\\" type=\\\"application/ld+json\\\">\\n    {\\\"twitter\\\":{\\\"timeout\\\":5000}}\\n</script><div class=\\\"caas-body\\\"><p>Tech futures fell sharply as Tesla dived on S&P; 500 news. The stock market rally could go three ways after its sell-off. Investors should be cautious but stay engaged.</p></div></article></div></div><script src=\\\"https://cdnjs.cloudflare.com/ajax/libs/es6-promise/4.1.0/es6-promise.js\\\"></script><script>ES6Promise.polyfill()</script><script src=\\\"https://s.yimg.com/aaq/c/ebebdb3.caas-finance_android.min.js\\\"></script></body></html>\",\"schema\":{}},\"commentsAllowed\":false,\"finance\":{\"stockTickers\":[{\"symbol\":\"AAPL\"},{\"symbol\":\"ADBE\"},{\"symbol\":\"NVDA\"},{\"symbol\":\"TSLA\"},{\"symbol\":\"ZM\"}]}}}]},\"status\":\"OK\"}\n"
     ]
    }
   ],
   "source": [
    "import requests\n",
    "\n",
    "url = \"https://yh-finance.p.rapidapi.com/news/v2/get-details\"\n",
    "\n",
    "querystring = {\"uuid\":\"9803606d-a324-3864-83a8-2bd621e6ccbd\",\"region\":\"US\"}\n",
    "\n",
    "headers = {\n",
    "\t\"X-RapidAPI-Key\": os.environ.get('X_RapidAPI_Key'),\n",
    "\t\"X-RapidAPI-Host\": \"yh-finance.p.rapidapi.com\"\n",
    "}\n",
    "\n",
    "response = requests.request(\"GET\", url, headers=headers, params=querystring)\n",
    "\n",
    "print(response.text)"
   ]
  },
  {
   "cell_type": "code",
   "execution_count": 18,
   "metadata": {},
   "outputs": [
    {
     "name": "stdout",
     "output_type": "stream",
     "text": [
      "{\"data\":{\"ntk\":{\"stream\":[],\"nextPage\":false,\"pagination\":{\"uuids\":\"paginationString={\\\"requestedCount\\\":0,\\\"remainingCount\\\":0,\\\"uuids\\\":\\\"\\\"}\"}},\"main\":{\"stream\":[{\"id\":\"b645cd08-0239-3b9d-8645-9d1d02d92f48\",\"content\":{\"id\":\"b645cd08-0239-3b9d-8645-9d1d02d92f48\",\"contentType\":\"STORY\",\"title\":\"Demolish office buildings because demand isn't coming back, hedge fund manager says\",\"pubDate\":\"2023-04-15T02:02:16Z\",\"thumbnail\":{\"resolutions\":[{\"url\":\"https://s.yimg.com/uu/api/res/1.2/9tviaiCu1Fpy8_3SaDt_Jg--~B/aD0yNDE0O3c9MzIyMDthcHBpZD15dGFjaHlvbg--/https://media.zenfs.com/en/business_insider_articles_888/511aa90cc04f9ab17952a57e3b1aa096\",\"width\":3220,\"height\":2414,\"tag\":\"original\"},{\"url\":\"https://s.yimg.com/uu/api/res/1.2/EtCF3FIPV5m.tFumiq_ZlA--~B/Zmk9c3RyaW07aD0xNDA7dz0xNDA7YXBwaWQ9eXRhY2h5b24-/https://media.zenfs.com/en/business_insider_articles_888/511aa90cc04f9ab17952a57e3b1aa096\",\"width\":140,\"height\":140,\"tag\":\"140x140\"},{\"url\":\"https://s.yimg.com/uu/api/res/1.2/mcmwRqk.PLS88o3lq03OiA--~B/Zmk9c3RyaW07aD03Njg7dz03Njg7YXBwaWQ9eXRhY2h5b24-/https://media.zenfs.com/en/business_insider_articles_888/511aa90cc04f9ab17952a57e3b1aa096\",\"width\":768,\"height\":768,\"tag\":\"768x768\"},{\"url\":\"https://s.yimg.com/uu/api/res/1.2/3oAaqd5Tplww_yEveP29sQ--~B/Zmk9c3RyaW07aD02NDA7dz02NDA7YXBwaWQ9eXRhY2h5b24-/https://media.zenfs.com/en/business_insider_articles_888/511aa90cc04f9ab17952a57e3b1aa096\",\"width\":640,\"height\":640,\"tag\":\"640x640\"}]},\"clickThroughUrl\":{\"url\":\"https://finance.yahoo.com/news/demolish-office-buildings-because-demand-020216160.html\"},\"previewUrl\":null,\"provider\":{\"displayName\":\"Business Insider\"},\"finance\":{\"stockTickers\":null}}},{\"id\":\"dd3e8475-4cff-34dd-b206-0b7c30ef1115\",\"content\":{\"id\":\"dd3e8475-4cff-34dd-b206-0b7c30ef1115\",\"contentType\":\"STORY\",\"title\":\"Here are 6 bullish surprises that could power the stock market through the rest of this year, according to Bank of America\",\"pubDate\":\"2023-04-15T00:32:14Z\",\"thumbnail\":{\"resolutions\":[{\"url\":\"https://s.yimg.com/uu/api/res/1.2/XFOZ_aLIiwx_nonEr_QGiA--~B/aD0zNzIxO3c9NDk2MTthcHBpZD15dGFjaHlvbg--/https://media.zenfs.com/en/business_insider_articles_888/4531ae21627a0c52ef2a85e876b5d5bc\",\"width\":4961,\"height\":3721,\"tag\":\"original\"},{\"url\":\"https://s.yimg.com/uu/api/res/1.2/dodaJqvRE5CElbupggu1WQ--~B/Zmk9c3RyaW07aD0xNDA7dz0xNDA7YXBwaWQ9eXRhY2h5b24-/https://media.zenfs.com/en/business_insider_articles_888/4531ae21627a0c52ef2a85e876b5d5bc\",\"width\":140,\"height\":140,\"tag\":\"140x140\"},{\"url\":\"https://s.yimg.com/uu/api/res/1.2/4CUDLgmnzth7w5G75Mt2Bg--~B/Zmk9c3RyaW07aD03Njg7dz03Njg7YXBwaWQ9eXRhY2h5b24-/https://media.zenfs.com/en/business_insider_articles_888/4531ae21627a0c52ef2a85e876b5d5bc\",\"width\":768,\"height\":768,\"tag\":\"768x768\"},{\"url\":\"https://s.yimg.com/uu/api/res/1.2/RQo.RAxDMP5E_bFmAMt.OQ--~B/Zmk9c3RyaW07aD02NDA7dz02NDA7YXBwaWQ9eXRhY2h5b24-/https://media.zenfs.com/en/business_insider_articles_888/4531ae21627a0c52ef2a85e876b5d5bc\",\"width\":640,\"height\":640,\"tag\":\"640x640\"}]},\"clickThroughUrl\":{\"url\":\"https://finance.yahoo.com/news/6-bullish-surprises-could-power-003214839.html\"},\"previewUrl\":null,\"provider\":{\"displayName\":\"Business Insider\"},\"finance\":{\"stockTickers\":null}}},{\"id\":\"d63a72c8-a04b-365f-8e49-a789fedee046\",\"content\":{\"id\":\"d63a72c8-a04b-365f-8e49-a789fedee046\",\"contentType\":\"STORY\",\"title\":\"OPEC Production Cuts Are a ‘Red Flag’ for Oil Stocks, Analyst Says\",\"pubDate\":\"2023-04-15T18:46:00Z\",\"thumbnail\":{\"resolutions\":[{\"url\":\"https://s.yimg.com/uu/api/res/1.2/ZG5a0lmuWy5BfrQv_n4sCg--~B/aD02NDA7dz0xMjgwO2FwcGlkPXl0YWNoeW9u/https://media.zenfs.com/en/Barrons.com/929f1f4c2ca950c10982b17dfc717674\",\"width\":1280,\"height\":640,\"tag\":\"original\"},{\"url\":\"https://s.yimg.com/uu/api/res/1.2/ZvT9CmFj8yBuMbiPWFcTuA--~B/Zmk9c3RyaW07aD0xNDA7dz0xNDA7YXBwaWQ9eXRhY2h5b24-/https://media.zenfs.com/en/Barrons.com/929f1f4c2ca950c10982b17dfc717674\",\"width\":140,\"height\":140,\"tag\":\"140x140\"},{\"url\":\"https://s.yimg.com/uu/api/res/1.2/G6E5ivpDaylIHhksdlK1UA--~B/Zmk9c3RyaW07aD03Njg7dz03Njg7YXBwaWQ9eXRhY2h5b24-/https://media.zenfs.com/en/Barrons.com/929f1f4c2ca950c10982b17dfc717674\",\"width\":768,\"height\":768,\"tag\":\"768x768\"},{\"url\":\"https://s.yimg.com/uu/api/res/1.2/OboCQjqI34h7lIK865ReOw--~B/Zmk9c3RyaW07aD02NDA7dz02NDA7YXBwaWQ9eXRhY2h5b24-/https://media.zenfs.com/en/Barrons.com/929f1f4c2ca950c10982b17dfc717674\",\"width\":640,\"height\":640,\"tag\":\"640x640\"}]},\"clickThroughUrl\":null,\"previewUrl\":\"https://finance.yahoo.com/m/d63a72c8-a04b-365f-8e49-a789fedee046/opec-production-cuts-are-a.html\",\"provider\":{\"displayName\":\"Barrons.com\"},\"finance\":{\"stockTickers\":[{\"symbol\":\"CL=F\"}]}}},{\"id\":\"793f7d1f-db95-3885-b35c-67771f33d751\",\"content\":{\"id\":\"793f7d1f-db95-3885-b35c-67771f33d751\",\"contentType\":\"STORY\",\"title\":\"China and India are buying so much Russian oil that Moscow's now selling more crude than it was before invading Ukraine\",\"pubDate\":\"2023-04-15T00:35:21Z\",\"thumbnail\":{\"resolutions\":[{\"url\":\"https://s.yimg.com/uu/api/res/1.2/Br2Bx3C1ySnaVNTgr7_OHA--~B/aD0yMjk5O3c9MzA2NTthcHBpZD15dGFjaHlvbg--/https://media.zenfs.com/en/business_insider_articles_888/4eaac3d80f4130480d915812525cc645\",\"width\":3065,\"height\":2299,\"tag\":\"original\"},{\"url\":\"https://s.yimg.com/uu/api/res/1.2/QAjVlmCyJa9nRTfIsfh28g--~B/Zmk9c3RyaW07aD0xNDA7dz0xNDA7YXBwaWQ9eXRhY2h5b24-/https://media.zenfs.com/en/business_insider_articles_888/4eaac3d80f4130480d915812525cc645\",\"width\":140,\"height\":140,\"tag\":\"140x140\"},{\"url\":\"https://s.yimg.com/uu/api/res/1.2/uI6Ir2JxWB54rrFJl_iSqw--~B/Zmk9c3RyaW07aD03Njg7dz03Njg7YXBwaWQ9eXRhY2h5b24-/https://media.zenfs.com/en/business_insider_articles_888/4eaac3d80f4130480d915812525cc645\",\"width\":768,\"height\":768,\"tag\":\"768x768\"},{\"url\":\"https://s.yimg.com/uu/api/res/1.2/dKNCcAe0imkBBf1PjhZrqQ--~B/Zmk9c3RyaW07aD02NDA7dz02NDA7YXBwaWQ9eXRhY2h5b24-/https://media.zenfs.com/en/business_insider_articles_888/4eaac3d80f4130480d915812525cc645\",\"width\":640,\"height\":640,\"tag\":\"640x640\"}]},\"clickThroughUrl\":{\"url\":\"https://finance.yahoo.com/news/china-india-buying-much-russian-003521310.html\"},\"previewUrl\":null,\"provider\":{\"displayName\":\"Business Insider\"},\"finance\":{\"stockTickers\":[{\"symbol\":\"CL=F\"}]}}},{\"id\":\"85d3c916-f757-32b9-9b8c-7e310793e555\",\"content\":{\"id\":\"85d3c916-f757-32b9-9b8c-7e310793e555\",\"contentType\":\"STORY\",\"title\":\"Markets are growing nervous over the prospect of a US default as debt ceiling deadline looms\",\"pubDate\":\"2023-04-15T02:56:31Z\",\"thumbnail\":{\"resolutions\":[{\"url\":\"https://s.yimg.com/uu/api/res/1.2/XNRhzhuHWqarzHzSFxwgEQ--~B/aD0zNDEzO3c9NDU1MDthcHBpZD15dGFjaHlvbg--/https://media.zenfs.com/en/business_insider_articles_888/7b5d678c4e8b69268dea178dbe836dda\",\"width\":4550,\"height\":3413,\"tag\":\"original\"},{\"url\":\"https://s.yimg.com/uu/api/res/1.2/2w4V2woB5M5WVOl73xgUPA--~B/Zmk9c3RyaW07aD0xNDA7dz0xNDA7YXBwaWQ9eXRhY2h5b24-/https://media.zenfs.com/en/business_insider_articles_888/7b5d678c4e8b69268dea178dbe836dda\",\"width\":140,\"height\":140,\"tag\":\"140x140\"},{\"url\":\"https://s.yimg.com/uu/api/res/1.2/x.jdJJ2B1UmzI0hvqwV00w--~B/Zmk9c3RyaW07aD03Njg7dz03Njg7YXBwaWQ9eXRhY2h5b24-/https://media.zenfs.com/en/business_insider_articles_888/7b5d678c4e8b69268dea178dbe836dda\",\"width\":768,\"height\":768,\"tag\":\"768x768\"},{\"url\":\"https://s.yimg.com/uu/api/res/1.2/sFfaTfWT4E7ty9riq0wrLw--~B/Zmk9c3RyaW07aD02NDA7dz02NDA7YXBwaWQ9eXRhY2h5b24-/https://media.zenfs.com/en/business_insider_articles_888/7b5d678c4e8b69268dea178dbe836dda\",\"width\":640,\"height\":640,\"tag\":\"640x640\"}]},\"clickThroughUrl\":{\"url\":\"https://finance.yahoo.com/news/markets-growing-nervous-over-prospect-025631589.html\"},\"previewUrl\":null,\"provider\":{\"displayName\":\"Business Insider\"},\"finance\":{\"stockTickers\":null}}},{\"id\":\"a134094e-1c94-3508-9222-4fc638ed8301\",\"content\":{\"id\":\"a134094e-1c94-3508-9222-4fc638ed8301\",\"contentType\":\"STORY\",\"title\":\"Morningstar | A Weekly Summary of Stock Ideas and Developments in the Companies We Cover\",\"pubDate\":\"2023-04-15T12:45:16Z\",\"thumbnail\":{\"resolutions\":[{\"url\":\"https://s.yimg.com/uu/api/res/1.2/SVKRhvYIgdoUv2HlogaP.A--~B/aD0wO3c9MDthcHBpZD15dGFjaHlvbg--/https://s.yimg.com/uc/fin/img/non-sub-report-thumb.png\",\"width\":0,\"height\":0,\"tag\":\"original\"}]},\"clickThroughUrl\":null,\"previewUrl\":\"https://finance.yahoo.com/m/a134094e-1c94-3508-9222-4fc638ed8301/morningstar-a-weekly.html\",\"provider\":{\"displayName\":\"Morningstar Research\"},\"finance\":{\"stockTickers\":[{\"symbol\":\"C\"},{\"symbol\":\"FRBK\"},{\"symbol\":\"FRC\"},{\"symbol\":\"UNH\"},{\"symbol\":\"USB\"},{\"symbol\":\"USB-PR\"},{\"symbol\":\"WFC\"},{\"symbol\":\"CMA\"},{\"symbol\":\"GTLS\"},{\"symbol\":\"STGPF\"}]}}},{\"id\":\"2e407678-a3b5-4671-a3f7-d7ca0754a81b\",\"content\":{\"id\":\"2e407678-a3b5-4671-a3f7-d7ca0754a81b\",\"contentType\":\"STORY\",\"title\":\"Maps: Best and worst states for taxes in 2023\",\"pubDate\":\"2023-04-15T14:24:06Z\",\"thumbnail\":{\"resolutions\":[{\"url\":\"https://s.yimg.com/uu/api/res/1.2/MBOBArwuZvAC.PVD1qDU3g--~B/aD0xMTkyO3c9MjAwMjthcHBpZD15dGFjaHlvbg--/https://s.yimg.com/os/creatr-uploaded-images/2023-04/82ca1a10-db90-11ed-bf69-90af6a657c33\",\"width\":2002,\"height\":1192,\"tag\":\"original\"},{\"url\":\"https://s.yimg.com/uu/api/res/1.2/h8CWciD7IzJmEGi4D6izOQ--~B/Zmk9c3RyaW07aD0xNDA7dz0xNDA7YXBwaWQ9eXRhY2h5b24-/https://s.yimg.com/os/creatr-uploaded-images/2023-04/82ca1a10-db90-11ed-bf69-90af6a657c33\",\"width\":140,\"height\":140,\"tag\":\"140x140\"},{\"url\":\"https://s.yimg.com/uu/api/res/1.2/DzqgEjfq_3brqxVKMCEiUg--~B/Zmk9c3RyaW07aD03Njg7dz03Njg7YXBwaWQ9eXRhY2h5b24-/https://s.yimg.com/os/creatr-uploaded-images/2023-04/82ca1a10-db90-11ed-bf69-90af6a657c33\",\"width\":768,\"height\":768,\"tag\":\"768x768\"},{\"url\":\"https://s.yimg.com/uu/api/res/1.2/5DS86ENXyDICNET0WDJV0Q--~B/Zmk9c3RyaW07aD02NDA7dz02NDA7YXBwaWQ9eXRhY2h5b24-/https://s.yimg.com/os/creatr-uploaded-images/2023-04/82ca1a10-db90-11ed-bf69-90af6a657c33\",\"width\":640,\"height\":640,\"tag\":\"640x640\"}]},\"clickThroughUrl\":{\"url\":\"https://finance.yahoo.com/news/maps-best-and-worst-states-for-taxes-in-2023-142406542.html\"},\"previewUrl\":null,\"provider\":{\"displayName\":\"Yahoo Finance\"},\"finance\":{\"stockTickers\":null}}},{\"id\":\"001ea248-d5cc-39a7-8ad0-7d122b784789\",\"content\":{\"id\":\"001ea248-d5cc-39a7-8ad0-7d122b784789\",\"contentType\":\"STORY\",\"title\":\"BlackRock CEO Larry Fink predicts number of total Federal Reserve interest rate increases\",\"pubDate\":\"2023-04-14T23:32:35Z\",\"thumbnail\":{\"resolutions\":[{\"url\":\"https://s.yimg.com/uu/api/res/1.2/3fRNp_3PTxmmEn59Upy35A--~B/aD03MjA7dz0xMjgwO2FwcGlkPXl0YWNoeW9u/https://media.zenfs.com/en/fox_business_text_367/36c1dd4446c2677c43e0920377c4b928\",\"width\":1280,\"height\":720,\"tag\":\"original\"},{\"url\":\"https://s.yimg.com/uu/api/res/1.2/kSF3J5KVvCWcqq8v05shAw--~B/Zmk9c3RyaW07aD0xNDA7dz0xNDA7YXBwaWQ9eXRhY2h5b24-/https://media.zenfs.com/en/fox_business_text_367/36c1dd4446c2677c43e0920377c4b928\",\"width\":140,\"height\":140,\"tag\":\"140x140\"},{\"url\":\"https://s.yimg.com/uu/api/res/1.2/Z24iVdkHuouZB0CMCSMSWw--~B/Zmk9c3RyaW07aD03Njg7dz03Njg7YXBwaWQ9eXRhY2h5b24-/https://media.zenfs.com/en/fox_business_text_367/36c1dd4446c2677c43e0920377c4b928\",\"width\":768,\"height\":768,\"tag\":\"768x768\"},{\"url\":\"https://s.yimg.com/uu/api/res/1.2/6l6hbenmWbiQL1lPmFx39Q--~B/Zmk9c3RyaW07aD02NDA7dz02NDA7YXBwaWQ9eXRhY2h5b24-/https://media.zenfs.com/en/fox_business_text_367/36c1dd4446c2677c43e0920377c4b928\",\"width\":640,\"height\":640,\"tag\":\"640x640\"}]},\"clickThroughUrl\":{\"url\":\"https://finance.yahoo.com/news/blackrock-ceo-larry-fink-predicts-233235647.html\"},\"previewUrl\":null,\"provider\":{\"displayName\":\"Fox Business\"},\"finance\":{\"stockTickers\":[{\"symbol\":\"BLK\"}]}}},{\"id\":\"edc0f7d2-d116-30bb-acf1-04bdbbd24051\",\"content\":{\"id\":\"edc0f7d2-d116-30bb-acf1-04bdbbd24051\",\"contentType\":\"STORY\",\"title\":\"Procter & Gamble and 2 More Companies That Raised Their Dividends This Week\",\"pubDate\":\"2023-04-15T07:00:00Z\",\"thumbnail\":{\"resolutions\":[{\"url\":\"https://s.yimg.com/uu/api/res/1.2/1dw.jpGmQFWzNyFO2BPhNA--~B/aD02NDA7dz0xMjgwO2FwcGlkPXl0YWNoeW9u/https://media.zenfs.com/en/Barrons.com/163733463a58d53db7fcf3b4712464c1\",\"width\":1280,\"height\":640,\"tag\":\"original\"},{\"url\":\"https://s.yimg.com/uu/api/res/1.2/dThjUCdgnFjSPo_PXjlt0A--~B/Zmk9c3RyaW07aD0xNDA7dz0xNDA7YXBwaWQ9eXRhY2h5b24-/https://media.zenfs.com/en/Barrons.com/163733463a58d53db7fcf3b4712464c1\",\"width\":140,\"height\":140,\"tag\":\"140x140\"},{\"url\":\"https://s.yimg.com/uu/api/res/1.2/0UCRe12oQLsucggyaaw1qg--~B/Zmk9c3RyaW07aD03Njg7dz03Njg7YXBwaWQ9eXRhY2h5b24-/https://media.zenfs.com/en/Barrons.com/163733463a58d53db7fcf3b4712464c1\",\"width\":768,\"height\":768,\"tag\":\"768x768\"},{\"url\":\"https://s.yimg.com/uu/api/res/1.2/JPtixOuV10vBcaeP6eQmug--~B/Zmk9c3RyaW07aD02NDA7dz02NDA7YXBwaWQ9eXRhY2h5b24-/https://media.zenfs.com/en/Barrons.com/163733463a58d53db7fcf3b4712464c1\",\"width\":640,\"height\":640,\"tag\":\"640x640\"}]},\"clickThroughUrl\":null,\"previewUrl\":\"https://finance.yahoo.com/m/edc0f7d2-d116-30bb-acf1-04bdbbd24051/procter-gamble-and-2-more.html\",\"provider\":{\"displayName\":\"Barrons.com\"},\"finance\":{\"stockTickers\":[{\"symbol\":\"^GSPC\"}]}}},{\"id\":\"de40f937-e0cc-3f73-8622-958d2ec4fb7d\",\"content\":{\"id\":\"de40f937-e0cc-3f73-8622-958d2ec4fb7d\",\"contentType\":\"STORY\",\"title\":\"S&P 500 Giant AMD Leads Five Stocks Near Buy Points\",\"pubDate\":\"2023-04-15T12:00:38Z\",\"thumbnail\":{\"resolutions\":[{\"url\":\"https://s.yimg.com/uu/api/res/1.2/5x4nxPp3tM_1nkfPvNgICQ--~B/aD01NjM7dz0xMDAwO2FwcGlkPXl0YWNoeW9u/https://media.zenfs.com/en/ibd.com/9abc5c9f49a83775155ba48ed25fad69\",\"width\":1000,\"height\":563,\"tag\":\"original\"},{\"url\":\"https://s.yimg.com/uu/api/res/1.2/zJcKOVKDuj8YO7CqaAAY9w--~B/Zmk9c3RyaW07aD0xNDA7dz0xNDA7YXBwaWQ9eXRhY2h5b24-/https://media.zenfs.com/en/ibd.com/9abc5c9f49a83775155ba48ed25fad69\",\"width\":140,\"height\":140,\"tag\":\"140x140\"},{\"url\":\"https://s.yimg.com/uu/api/res/1.2/alBnvZ3XgfdKp_Su5pbgMw--~B/Zmk9c3RyaW07aD03Njg7dz03Njg7YXBwaWQ9eXRhY2h5b24-/https://media.zenfs.com/en/ibd.com/9abc5c9f49a83775155ba48ed25fad69\",\"width\":768,\"height\":768,\"tag\":\"768x768\"},{\"url\":\"https://s.yimg.com/uu/api/res/1.2/Q0x6Qx4RH550oNcDundfNA--~B/Zmk9c3RyaW07aD02NDA7dz02NDA7YXBwaWQ9eXRhY2h5b24-/https://media.zenfs.com/en/ibd.com/9abc5c9f49a83775155ba48ed25fad69\",\"width\":640,\"height\":640,\"tag\":\"640x640\"}]},\"clickThroughUrl\":null,\"previewUrl\":\"https://finance.yahoo.com/m/de40f937-e0cc-3f73-8622-958d2ec4fb7d/s-p-500-giant-amd-leads-five.html\",\"provider\":{\"displayName\":\"Investor's Business Daily\"},\"finance\":{\"stockTickers\":[{\"symbol\":\"AMD\"},{\"symbol\":\"NET\"},{\"symbol\":\"DKNG\"},{\"symbol\":\"FND\"},{\"symbol\":\"^GSPC\"}]}}},{\"id\":\"016ebac9-8221-374d-a998-193e3f7d20a5\",\"content\":{\"id\":\"016ebac9-8221-374d-a998-193e3f7d20a5\",\"contentType\":\"STORY\",\"title\":\"Elon Musk creates new AI company called X.AI\",\"pubDate\":\"2023-04-14T23:35:17Z\",\"thumbnail\":{\"resolutions\":[{\"url\":\"https://s.yimg.com/uu/api/res/1.2/yuTS_XAUnVqdKLwWGafjzw--~B/aD0xNTY0O3c9MjUwMDthcHBpZD15dGFjaHlvbg--/https://media.zenfs.com/en/the_telegraph_258/5a886f6571d3658fa127d8bdfedd6939\",\"width\":2500,\"height\":1564,\"tag\":\"original\"},{\"url\":\"https://s.yimg.com/uu/api/res/1.2/an.IitIxScaRMjpM4KxoOQ--~B/Zmk9c3RyaW07aD0xNDA7dz0xNDA7YXBwaWQ9eXRhY2h5b24-/https://media.zenfs.com/en/the_telegraph_258/5a886f6571d3658fa127d8bdfedd6939\",\"width\":140,\"height\":140,\"tag\":\"140x140\"},{\"url\":\"https://s.yimg.com/uu/api/res/1.2/DpcQ6tDdEN9G_5d0kgmgQA--~B/Zmk9c3RyaW07aD03Njg7dz03Njg7YXBwaWQ9eXRhY2h5b24-/https://media.zenfs.com/en/the_telegraph_258/5a886f6571d3658fa127d8bdfedd6939\",\"width\":768,\"height\":768,\"tag\":\"768x768\"},{\"url\":\"https://s.yimg.com/uu/api/res/1.2/I7m6rokqDeMbO37YQT.OiA--~B/Zmk9c3RyaW07aD02NDA7dz02NDA7YXBwaWQ9eXRhY2h5b24-/https://media.zenfs.com/en/the_telegraph_258/5a886f6571d3658fa127d8bdfedd6939\",\"width\":640,\"height\":640,\"tag\":\"640x640\"}]},\"clickThroughUrl\":{\"url\":\"https://finance.yahoo.com/news/elon-musk-creates-ai-company-233517470.html\"},\"previewUrl\":null,\"provider\":{\"displayName\":\"The Telegraph\"},\"finance\":{\"stockTickers\":[{\"symbol\":\"TSLA\"}]}}},{\"id\":\"4a78c8d8-6e45-3614-8884-915bd472bf8b\",\"content\":{\"id\":\"4a78c8d8-6e45-3614-8884-915bd472bf8b\",\"contentType\":\"STORY\",\"title\":\"Analyst Report: State Street Corporation\",\"pubDate\":\"2023-04-14T23:46:37Z\",\"thumbnail\":{\"resolutions\":[{\"url\":\"https://s.yimg.com/uu/api/res/1.2/SVKRhvYIgdoUv2HlogaP.A--~B/aD0wO3c9MDthcHBpZD15dGFjaHlvbg--/https://s.yimg.com/uc/fin/img/non-sub-report-thumb.png\",\"width\":0,\"height\":0,\"tag\":\"original\"}]},\"clickThroughUrl\":null,\"previewUrl\":\"https://finance.yahoo.com/m/4a78c8d8-6e45-3614-8884-915bd472bf8b/analyst-report-state-street.html\",\"provider\":{\"displayName\":\"Morningstar Research\"},\"finance\":{\"stockTickers\":[{\"symbol\":\"STT\"},{\"symbol\":\"STT-PD\"},{\"symbol\":\"STT-PG\"}]}}},{\"id\":\"6feddc9f-15c6-3c1b-8c5e-6da1dbcb045a\",\"content\":{\"id\":\"6feddc9f-15c6-3c1b-8c5e-6da1dbcb045a\",\"contentType\":\"STORY\",\"title\":\"Ferrari fever? Classic cars roar into investment funds\",\"pubDate\":\"2023-04-15T09:09:38Z\",\"thumbnail\":{\"resolutions\":[{\"url\":\"https://s.yimg.com/uu/api/res/1.2/3p49dFTVHM5dx3NHX6QLYw--~B/aD01MzM7dz04MDA7YXBwaWQ9eXRhY2h5b24-/https://media.zenfs.com/en/reuters-finance.com/89b81d90a42f1bec7a0bd9fe757799ad\",\"width\":800,\"height\":533,\"tag\":\"original\"},{\"url\":\"https://s.yimg.com/uu/api/res/1.2/46nO841_g8FKOFWrbPzitw--~B/Zmk9c3RyaW07aD0xNDA7dz0xNDA7YXBwaWQ9eXRhY2h5b24-/https://media.zenfs.com/en/reuters-finance.com/89b81d90a42f1bec7a0bd9fe757799ad\",\"width\":140,\"height\":140,\"tag\":\"140x140\"},{\"url\":\"https://s.yimg.com/uu/api/res/1.2/r1uixPK2k4WtefwyERPc5w--~B/Zmk9c3RyaW07aD03Njg7dz03Njg7YXBwaWQ9eXRhY2h5b24-/https://media.zenfs.com/en/reuters-finance.com/89b81d90a42f1bec7a0bd9fe757799ad\",\"width\":768,\"height\":768,\"tag\":\"768x768\"},{\"url\":\"https://s.yimg.com/uu/api/res/1.2/5FipBLjPN4yELejhzdhHrw--~B/Zmk9c3RyaW07aD02NDA7dz02NDA7YXBwaWQ9eXRhY2h5b24-/https://media.zenfs.com/en/reuters-finance.com/89b81d90a42f1bec7a0bd9fe757799ad\",\"width\":640,\"height\":640,\"tag\":\"640x640\"}]},\"clickThroughUrl\":{\"url\":\"https://finance.yahoo.com/news/ferrari-fever-classic-cars-roar-090938232.html\"},\"previewUrl\":null,\"provider\":{\"displayName\":\"Reuters\"},\"finance\":{\"stockTickers\":[{\"symbol\":\"RACE\"},{\"symbol\":\"AZM.MI\"}]}}},{\"id\":\"e21df0cc-0ebf-4e3f-9d20-a2d69c5eed08\",\"content\":{\"id\":\"e21df0cc-0ebf-4e3f-9d20-a2d69c5eed08\",\"contentType\":\"STORY\",\"title\":\"Netflix, Tesla, Goldman Sachs, Bank of America headline earnings rush in week ahead\",\"pubDate\":\"2023-04-16T10:00:03Z\",\"thumbnail\":{\"resolutions\":[{\"url\":\"https://s.yimg.com/uu/api/res/1.2/c4PoW0jbxeL_mPMwJqDLMw--~B/aD0yMzQ2O3c9MzUxODthcHBpZD15dGFjaHlvbg--/https://s.yimg.com/os/creatr-images/2019-04/27b8eca0-6033-11e9-ae77-b49dc0afd71c\",\"width\":3518,\"height\":2346,\"tag\":\"original\"},{\"url\":\"https://s.yimg.com/uu/api/res/1.2/b8hQpY87M_swmZlY2X78vw--~B/Zmk9c3RyaW07aD0xNDA7dz0xNDA7YXBwaWQ9eXRhY2h5b24-/https://s.yimg.com/os/creatr-images/2019-04/27b8eca0-6033-11e9-ae77-b49dc0afd71c\",\"width\":140,\"height\":140,\"tag\":\"140x140\"},{\"url\":\"https://s.yimg.com/uu/api/res/1.2/n2xYOHhbZFwAhgyLbqgHBQ--~B/Zmk9c3RyaW07aD03Njg7dz03Njg7YXBwaWQ9eXRhY2h5b24-/https://s.yimg.com/os/creatr-images/2019-04/27b8eca0-6033-11e9-ae77-b49dc0afd71c\",\"width\":768,\"height\":768,\"tag\":\"768x768\"},{\"url\":\"https://s.yimg.com/uu/api/res/1.2/Eepz5EvM3JPiY1ydbuEINQ--~B/Zmk9c3RyaW07aD02NDA7dz02NDA7YXBwaWQ9eXRhY2h5b24-/https://s.yimg.com/os/creatr-images/2019-04/27b8eca0-6033-11e9-ae77-b49dc0afd71c\",\"width\":640,\"height\":640,\"tag\":\"640x640\"}]},\"clickThroughUrl\":{\"url\":\"https://finance.yahoo.com/news/netflix-tesla-goldman-sachs-bank-of-america-headline-earnings-rush-in-week-ahead-100003727.html\"},\"previewUrl\":null,\"provider\":{\"displayName\":\"Yahoo Finance\"},\"finance\":{\"stockTickers\":[{\"symbol\":\"^IXIC\"},{\"symbol\":\"NFLX\"},{\"symbol\":\"GS\"},{\"symbol\":\"BAC\"},{\"symbol\":\"^GSPC\"},{\"symbol\":\"TSLA\"},{\"symbol\":\"^DJI\"}]}}},{\"id\":\"a1bdc24d-e1f6-39c2-bbc7-cb981913ca06\",\"content\":{\"id\":\"a1bdc24d-e1f6-39c2-bbc7-cb981913ca06\",\"contentType\":\"STORY\",\"title\":\"China auto show highlights intense electric car competition\",\"pubDate\":\"2023-04-16T00:08:03Z\",\"thumbnail\":{\"resolutions\":[{\"url\":\"https://s.yimg.com/uu/api/res/1.2/cilFu5YGXNo8P6kFo1bpvQ--~B/aD01MTQ4O3c9NzcyMjthcHBpZD15dGFjaHlvbg--/https://media.zenfs.com/en/ap_finance_articles_694/342046053fce684d2d9571bc35e292f5\",\"width\":7722,\"height\":5148,\"tag\":\"original\"},{\"url\":\"https://s.yimg.com/uu/api/res/1.2/IL9XVZtKGUaoeHDzzEmRRg--~B/Zmk9c3RyaW07aD0xNDA7dz0xNDA7YXBwaWQ9eXRhY2h5b24-/https://media.zenfs.com/en/ap_finance_articles_694/342046053fce684d2d9571bc35e292f5\",\"width\":140,\"height\":140,\"tag\":\"140x140\"},{\"url\":\"https://s.yimg.com/uu/api/res/1.2/JzcNsoUy3MCC_d5e4FHZxw--~B/Zmk9c3RyaW07aD03Njg7dz03Njg7YXBwaWQ9eXRhY2h5b24-/https://media.zenfs.com/en/ap_finance_articles_694/342046053fce684d2d9571bc35e292f5\",\"width\":768,\"height\":768,\"tag\":\"768x768\"},{\"url\":\"https://s.yimg.com/uu/api/res/1.2/OmkayMVuZ9_uQ3o3LG3msg--~B/Zmk9c3RyaW07aD02NDA7dz02NDA7YXBwaWQ9eXRhY2h5b24-/https://media.zenfs.com/en/ap_finance_articles_694/342046053fce684d2d9571bc35e292f5\",\"width\":640,\"height\":640,\"tag\":\"640x640\"}]},\"clickThroughUrl\":{\"url\":\"https://finance.yahoo.com/news/china-auto-show-highlights-intense-000803649.html\"},\"previewUrl\":null,\"provider\":{\"displayName\":\"AP Finance\"},\"finance\":{\"stockTickers\":[{\"symbol\":\"TSLA\"}]}}},{\"id\":\"e165a6c0-b89a-3342-b6b6-1bb549fd89ae\",\"content\":{\"id\":\"e165a6c0-b89a-3342-b6b6-1bb549fd89ae\",\"contentType\":\"STORY\",\"title\":\"Five Things to Watch in What Will Be an Ugly Earnings Season\",\"pubDate\":\"2023-04-15T13:00:00Z\",\"thumbnail\":{\"resolutions\":[{\"url\":\"https://s.yimg.com/uu/api/res/1.2/6EwVEoI5KKF77XeaDc3umA--~B/aD02NzU7dz0xMjAwO2FwcGlkPXl0YWNoeW9u/https://media.zenfs.com/en/bloomberg_markets_842/1322b931aed6a1844a237e278fee7ad2\",\"width\":1200,\"height\":675,\"tag\":\"original\"},{\"url\":\"https://s.yimg.com/uu/api/res/1.2/NAlLaeuYCX2jX2REBPIVvw--~B/Zmk9c3RyaW07aD0xNDA7dz0xNDA7YXBwaWQ9eXRhY2h5b24-/https://media.zenfs.com/en/bloomberg_markets_842/1322b931aed6a1844a237e278fee7ad2\",\"width\":140,\"height\":140,\"tag\":\"140x140\"},{\"url\":\"https://s.yimg.com/uu/api/res/1.2/7isJM.Q.bU.SLWupKg3luA--~B/Zmk9c3RyaW07aD03Njg7dz03Njg7YXBwaWQ9eXRhY2h5b24-/https://media.zenfs.com/en/bloomberg_markets_842/1322b931aed6a1844a237e278fee7ad2\",\"width\":768,\"height\":768,\"tag\":\"768x768\"},{\"url\":\"https://s.yimg.com/uu/api/res/1.2/hv9Vm3QJxTma8fKPwqS9rQ--~B/Zmk9c3RyaW07aD02NDA7dz02NDA7YXBwaWQ9eXRhY2h5b24-/https://media.zenfs.com/en/bloomberg_markets_842/1322b931aed6a1844a237e278fee7ad2\",\"width\":640,\"height\":640,\"tag\":\"640x640\"}]},\"clickThroughUrl\":{\"url\":\"https://finance.yahoo.com/news/five-things-watch-ugly-earnings-130000329.html\"},\"previewUrl\":null,\"provider\":{\"displayName\":\"Bloomberg\"},\"finance\":{\"stockTickers\":[{\"symbol\":\"^GSPC\"}]}}},{\"id\":\"213b1426-edd9-4c3b-807c-b1853a3b4720\",\"content\":{\"id\":\"213b1426-edd9-4c3b-807c-b1853a3b4720\",\"contentType\":\"STORY\",\"title\":\"Buffett speaks, earnings underway, and everything else from a busy week in markets\",\"pubDate\":\"2023-04-15T09:41:03Z\",\"thumbnail\":{\"resolutions\":[{\"url\":\"https://s.yimg.com/uu/api/res/1.2/G7oVgIL1awwSCzulO5aKsg--~B/aD00NDgwO3c9NjcyMDthcHBpZD15dGFjaHlvbg--/https://s.yimg.com/os/creatr-images/2019-12/a44159c0-25c6-11ea-bd4b-96b937a3ca88\",\"width\":6720,\"height\":4480,\"tag\":\"original\"},{\"url\":\"https://s.yimg.com/uu/api/res/1.2/yzF8MbG9WLsPiOQEHOFgnQ--~B/Zmk9c3RyaW07aD0xNDA7dz0xNDA7YXBwaWQ9eXRhY2h5b24-/https://s.yimg.com/os/creatr-images/2019-12/a44159c0-25c6-11ea-bd4b-96b937a3ca88\",\"width\":140,\"height\":140,\"tag\":\"140x140\"},{\"url\":\"https://s.yimg.com/uu/api/res/1.2/Yc1gjfkO9.xcZOLvQbZX0w--~B/Zmk9c3RyaW07aD03Njg7dz03Njg7YXBwaWQ9eXRhY2h5b24-/https://s.yimg.com/os/creatr-images/2019-12/a44159c0-25c6-11ea-bd4b-96b937a3ca88\",\"width\":768,\"height\":768,\"tag\":\"768x768\"},{\"url\":\"https://s.yimg.com/uu/api/res/1.2/fiJ2.nMtkVMFWPKN7RwCJg--~B/Zmk9c3RyaW07aD02NDA7dz02NDA7YXBwaWQ9eXRhY2h5b24-/https://s.yimg.com/os/creatr-images/2019-12/a44159c0-25c6-11ea-bd4b-96b937a3ca88\",\"width\":640,\"height\":640,\"tag\":\"640x640\"}]},\"clickThroughUrl\":{\"url\":\"https://finance.yahoo.com/news/buffett-speaks-earnings-underway-and-everything-else-from-a-busy-week-in-markets-094103840.html\"},\"previewUrl\":null,\"provider\":{\"displayName\":\"Yahoo Finance\"},\"finance\":{\"stockTickers\":[{\"symbol\":\"XHB\"},{\"symbol\":\"GC=F\"},{\"symbol\":\"TSLA\"},{\"symbol\":\"BLK\"},{\"symbol\":\"WFC\"},{\"symbol\":\"C\"},{\"symbol\":\"JPM\"},{\"symbol\":\"NFLX\"}]}}},{\"id\":\"fbd96684-dc13-3702-887a-8b18f2167e2b\",\"content\":{\"id\":\"fbd96684-dc13-3702-887a-8b18f2167e2b\",\"contentType\":\"STORY\",\"title\":\"Banks Are Finally Facing Pressure to Pay Depositors More\",\"pubDate\":\"2023-04-16T09:30:00Z\",\"thumbnail\":{\"resolutions\":[{\"url\":\"https://s.yimg.com/uu/api/res/1.2/G_KVTlTNL19vzaS5pgfdmw--~B/aD02NDA7dz0xMjgwO2FwcGlkPXl0YWNoeW9u/https://media.zenfs.com/en/wsj.com/6f499ce82b7b493f98023500a39ab22e\",\"width\":1280,\"height\":640,\"tag\":\"original\"},{\"url\":\"https://s.yimg.com/uu/api/res/1.2/F_enOpsJCfT_.KW8VRjyGQ--~B/Zmk9c3RyaW07aD0xNDA7dz0xNDA7YXBwaWQ9eXRhY2h5b24-/https://media.zenfs.com/en/wsj.com/6f499ce82b7b493f98023500a39ab22e\",\"width\":140,\"height\":140,\"tag\":\"140x140\"},{\"url\":\"https://s.yimg.com/uu/api/res/1.2/XGI7gTX63JgLh96.2CZaOA--~B/Zmk9c3RyaW07aD03Njg7dz03Njg7YXBwaWQ9eXRhY2h5b24-/https://media.zenfs.com/en/wsj.com/6f499ce82b7b493f98023500a39ab22e\",\"width\":768,\"height\":768,\"tag\":\"768x768\"},{\"url\":\"https://s.yimg.com/uu/api/res/1.2/pGcstYsMlWHmxCPO9Ga9Sg--~B/Zmk9c3RyaW07aD02NDA7dz02NDA7YXBwaWQ9eXRhY2h5b24-/https://media.zenfs.com/en/wsj.com/6f499ce82b7b493f98023500a39ab22e\",\"width\":640,\"height\":640,\"tag\":\"640x640\"}]},\"clickThroughUrl\":null,\"previewUrl\":\"https://finance.yahoo.com/m/fbd96684-dc13-3702-887a-8b18f2167e2b/banks-are-finally-facing.html\",\"provider\":{\"displayName\":\"The Wall Street Journal\"},\"finance\":{\"stockTickers\":[{\"symbol\":\"MTB\"}]}}},{\"id\":\"21ea2e82-1a28-32d2-9800-d92fd41dd7ea\",\"content\":{\"id\":\"21ea2e82-1a28-32d2-9800-d92fd41dd7ea\",\"contentType\":\"STORY\",\"title\":\"Fears that the US dollar will collapse are nonsense, and doomsayers are often hawking gold, investment chief says\",\"pubDate\":\"2023-04-15T20:30:00Z\",\"thumbnail\":{\"resolutions\":[{\"url\":\"https://s.yimg.com/uu/api/res/1.2/ucd9Y8y1oHQG52HOI4sC_w--~B/aD0yMzQzO3c9MzEyNDthcHBpZD15dGFjaHlvbg--/https://media.zenfs.com/en/business_insider_articles_888/c9fa58243b2bace8bfca4a8e68645d36\",\"width\":3124,\"height\":2343,\"tag\":\"original\"},{\"url\":\"https://s.yimg.com/uu/api/res/1.2/S6H9sp9._5qX523yeZl1rA--~B/Zmk9c3RyaW07aD0xNDA7dz0xNDA7YXBwaWQ9eXRhY2h5b24-/https://media.zenfs.com/en/business_insider_articles_888/c9fa58243b2bace8bfca4a8e68645d36\",\"width\":140,\"height\":140,\"tag\":\"140x140\"},{\"url\":\"https://s.yimg.com/uu/api/res/1.2/kvqjYhzqQaCXnbNDqdzD0Q--~B/Zmk9c3RyaW07aD03Njg7dz03Njg7YXBwaWQ9eXRhY2h5b24-/https://media.zenfs.com/en/business_insider_articles_888/c9fa58243b2bace8bfca4a8e68645d36\",\"width\":768,\"height\":768,\"tag\":\"768x768\"},{\"url\":\"https://s.yimg.com/uu/api/res/1.2/z4bYC.OjR9LduHwDpqCS3g--~B/Zmk9c3RyaW07aD02NDA7dz02NDA7YXBwaWQ9eXRhY2h5b24-/https://media.zenfs.com/en/business_insider_articles_888/c9fa58243b2bace8bfca4a8e68645d36\",\"width\":640,\"height\":640,\"tag\":\"640x640\"}]},\"clickThroughUrl\":{\"url\":\"https://finance.yahoo.com/news/fears-us-dollar-collapse-nonsense-203000377.html\"},\"previewUrl\":null,\"provider\":{\"displayName\":\"Business Insider\"},\"finance\":{\"stockTickers\":null}}},{\"id\":\"c90ea919-7cf9-47d4-987f-c70f3002c259\",\"content\":{\"id\":\"c90ea919-7cf9-47d4-987f-c70f3002c259\",\"contentType\":\"STORY\",\"title\":\"Carlyle Group co-founder David Rubenstein: Interest rates will ‘continue to go up for a while’\",\"pubDate\":\"2023-04-15T12:48:11Z\",\"thumbnail\":{\"resolutions\":[{\"url\":\"https://s.yimg.com/uu/api/res/1.2/qvuPDsBIUCOXOi9cI5MZZA--~B/aD0zNDQ3O3c9NDg5NzthcHBpZD15dGFjaHlvbg--/https://s.yimg.com/os/creatr-uploaded-images/2023-03/52ce3ee0-d951-11ed-9ae6-29b5557018a7\",\"width\":4897,\"height\":3447,\"tag\":\"original\"},{\"url\":\"https://s.yimg.com/uu/api/res/1.2/91SXZyoMM2ZeXnmUoz7tcA--~B/Zmk9c3RyaW07aD0xNDA7dz0xNDA7YXBwaWQ9eXRhY2h5b24-/https://s.yimg.com/os/creatr-uploaded-images/2023-03/52ce3ee0-d951-11ed-9ae6-29b5557018a7\",\"width\":140,\"height\":140,\"tag\":\"140x140\"},{\"url\":\"https://s.yimg.com/uu/api/res/1.2/FakZsbo._gUam0bEdVm8rw--~B/Zmk9c3RyaW07aD03Njg7dz03Njg7YXBwaWQ9eXRhY2h5b24-/https://s.yimg.com/os/creatr-uploaded-images/2023-03/52ce3ee0-d951-11ed-9ae6-29b5557018a7\",\"width\":768,\"height\":768,\"tag\":\"768x768\"},{\"url\":\"https://s.yimg.com/uu/api/res/1.2/4XCNBDEDZA4sCymyEexobA--~B/Zmk9c3RyaW07aD02NDA7dz02NDA7YXBwaWQ9eXRhY2h5b24-/https://s.yimg.com/os/creatr-uploaded-images/2023-03/52ce3ee0-d951-11ed-9ae6-29b5557018a7\",\"width\":640,\"height\":640,\"tag\":\"640x640\"}]},\"clickThroughUrl\":{\"url\":\"https://finance.yahoo.com/news/carlyle-group-co-founder-david-rubenstein-interest-rates-will-continue-to-go-up-for-a-while-130032054.html\"},\"previewUrl\":null,\"provider\":{\"displayName\":\"Yahoo Finance\"},\"finance\":{\"stockTickers\":[{\"symbol\":\"MS\"},{\"symbol\":\"CG\"},{\"symbol\":\"BLK\"},{\"symbol\":\"GS\"},{\"symbol\":\"JPM\"},{\"symbol\":\"BAC\"},{\"symbol\":\"WFC\"}]}}},{\"id\":\"d839356e-afdc-3eef-b3a1-5627365f11ea\",\"content\":{\"id\":\"d839356e-afdc-3eef-b3a1-5627365f11ea\",\"contentType\":\"STORY\",\"title\":\"Millennials Face Challenging Financial Issues. Here's What The Experts Have to Say to Them\",\"pubDate\":\"2023-04-15T13:00:58Z\",\"thumbnail\":{\"resolutions\":[{\"url\":\"https://s.yimg.com/uu/api/res/1.2/GumJVKktBBIEaoD6I73czg--~B/aD00MDA7dz03Mjg7YXBwaWQ9eXRhY2h5b24-/https://media.zenfs.com/en/smartasset_475/03a427390ad0f7a26f0928874c106fb2\",\"width\":728,\"height\":400,\"tag\":\"original\"},{\"url\":\"https://s.yimg.com/uu/api/res/1.2/tsllvwPslemAj4FEvMUtfg--~B/Zmk9c3RyaW07aD0xNDA7dz0xNDA7YXBwaWQ9eXRhY2h5b24-/https://media.zenfs.com/en/smartasset_475/03a427390ad0f7a26f0928874c106fb2\",\"width\":140,\"height\":140,\"tag\":\"140x140\"},{\"url\":\"https://s.yimg.com/uu/api/res/1.2/nre1PIoxudSbtWYJgMGfqA--~B/Zmk9c3RyaW07aD03Njg7dz03Njg7YXBwaWQ9eXRhY2h5b24-/https://media.zenfs.com/en/smartasset_475/03a427390ad0f7a26f0928874c106fb2\",\"width\":768,\"height\":768,\"tag\":\"768x768\"},{\"url\":\"https://s.yimg.com/uu/api/res/1.2/UK3RoHZ6iRRPR9QCWHfmIg--~B/Zmk9c3RyaW07aD02NDA7dz02NDA7YXBwaWQ9eXRhY2h5b24-/https://media.zenfs.com/en/smartasset_475/03a427390ad0f7a26f0928874c106fb2\",\"width\":640,\"height\":640,\"tag\":\"640x640\"}]},\"clickThroughUrl\":{\"url\":\"https://finance.yahoo.com/news/millennials-face-challenging-financial-issues-130058561.html\"},\"previewUrl\":null,\"provider\":{\"displayName\":\"SmartAsset\"},\"finance\":{\"stockTickers\":null}}},{\"id\":\"001394cd-344b-31eb-93fe-acb5cab952a1\",\"content\":{\"id\":\"001394cd-344b-31eb-93fe-acb5cab952a1\",\"contentType\":\"STORY\",\"title\":\"Bitcoin Surged Past $30,000. Is Another Crypto Boom on the Way?\",\"pubDate\":\"2023-04-15T12:00:10Z\",\"thumbnail\":{\"resolutions\":[{\"url\":\"https://s.yimg.com/uu/api/res/1.2/4RnJtOAgKZtE.kJZB6zX8g--~B/aD03NzA7dz0xMjk2O2FwcGlkPXl0YWNoeW9u/https://media.zenfs.com/en/bloomberg_markets_842/dd3981fa7e7cca38ddfce10b7927acba\",\"width\":1296,\"height\":770,\"tag\":\"original\"},{\"url\":\"https://s.yimg.com/uu/api/res/1.2/NONLIDU9tNjMKN3IcoaM.A--~B/Zmk9c3RyaW07aD0xNDA7dz0xNDA7YXBwaWQ9eXRhY2h5b24-/https://media.zenfs.com/en/bloomberg_markets_842/dd3981fa7e7cca38ddfce10b7927acba\",\"width\":140,\"height\":140,\"tag\":\"140x140\"},{\"url\":\"https://s.yimg.com/uu/api/res/1.2/IPdnvdJRUrmjvftEsgSe9w--~B/Zmk9c3RyaW07aD03Njg7dz03Njg7YXBwaWQ9eXRhY2h5b24-/https://media.zenfs.com/en/bloomberg_markets_842/dd3981fa7e7cca38ddfce10b7927acba\",\"width\":768,\"height\":768,\"tag\":\"768x768\"},{\"url\":\"https://s.yimg.com/uu/api/res/1.2/g_.wVt3MhQZhYUbKhzuGbQ--~B/Zmk9c3RyaW07aD02NDA7dz02NDA7YXBwaWQ9eXRhY2h5b24-/https://media.zenfs.com/en/bloomberg_markets_842/dd3981fa7e7cca38ddfce10b7927acba\",\"width\":640,\"height\":640,\"tag\":\"640x640\"}]},\"clickThroughUrl\":{\"url\":\"https://finance.yahoo.com/news/bitcoin-surged-past-30-000-120010482.html\"},\"previewUrl\":null,\"provider\":{\"displayName\":\"Bloomberg\"},\"finance\":{\"stockTickers\":null}}},{\"id\":\"dbba1da7-0095-3e35-87c4-1b13f4c5689d\",\"content\":{\"id\":\"dbba1da7-0095-3e35-87c4-1b13f4c5689d\",\"contentType\":\"STORY\",\"title\":\"Dow Jones Futures: Tesla, Netflix, Apple Near Buy Points In Volatile, Resilient Market Rally\",\"pubDate\":\"2023-04-16T08:53:29Z\",\"thumbnail\":{\"resolutions\":[{\"url\":\"https://s.yimg.com/uu/api/res/1.2/jwPOddhby9b7F9G.nbCwwg--~B/aD01NjM7dz0xMDAwO2FwcGlkPXl0YWNoeW9u/https://media.zenfs.com/en/ibd.com/62bd4143074101612ef38bd96c22c17a\",\"width\":1000,\"height\":563,\"tag\":\"original\"},{\"url\":\"https://s.yimg.com/uu/api/res/1.2/7VfPoMqHj7330im5TDKVUw--~B/Zmk9c3RyaW07aD0xNDA7dz0xNDA7YXBwaWQ9eXRhY2h5b24-/https://media.zenfs.com/en/ibd.com/62bd4143074101612ef38bd96c22c17a\",\"width\":140,\"height\":140,\"tag\":\"140x140\"},{\"url\":\"https://s.yimg.com/uu/api/res/1.2/Nn2vP98NA7Wy8v9wbD6W_Q--~B/Zmk9c3RyaW07aD03Njg7dz03Njg7YXBwaWQ9eXRhY2h5b24-/https://media.zenfs.com/en/ibd.com/62bd4143074101612ef38bd96c22c17a\",\"width\":768,\"height\":768,\"tag\":\"768x768\"},{\"url\":\"https://s.yimg.com/uu/api/res/1.2/RHH5.WtXDSYcwixQCxUp1w--~B/Zmk9c3RyaW07aD02NDA7dz02NDA7YXBwaWQ9eXRhY2h5b24-/https://media.zenfs.com/en/ibd.com/62bd4143074101612ef38bd96c22c17a\",\"width\":640,\"height\":640,\"tag\":\"640x640\"}]},\"clickThroughUrl\":null,\"previewUrl\":\"https://finance.yahoo.com/m/dbba1da7-0095-3e35-87c4-1b13f4c5689d/dow-jones-futures-tesla-.html\",\"provider\":{\"displayName\":\"Investor's Business Daily\"},\"finance\":{\"stockTickers\":[{\"symbol\":\"TSLA\"},{\"symbol\":\"NFLX\"},{\"symbol\":\"^GSPC\"},{\"symbol\":\"^DJI\"},{\"symbol\":\"COMP\"},{\"symbol\":\"LULU\"},{\"symbol\":\"WAL\"}]}}},{\"id\":\"7c393f6c-1c01-3ab6-9174-0c3291025bcb\",\"content\":{\"id\":\"7c393f6c-1c01-3ab6-9174-0c3291025bcb\",\"contentType\":\"STORY\",\"title\":\"Battle of the Bots: Which AI is Better at Picking Stocks?\",\"pubDate\":\"2023-04-15T11:00:00Z\",\"thumbnail\":{\"resolutions\":[{\"url\":\"https://s.yimg.com/uu/api/res/1.2/ldq8ZJrdYTJJb94EwuIsRQ--~B/aD0zMDc1O3c9NDYxMzthcHBpZD15dGFjaHlvbg--/https://media.zenfs.com/en/investopedia.com/137443e9d260b69b3ed6915a928fd654\",\"width\":4613,\"height\":3075,\"tag\":\"original\"},{\"url\":\"https://s.yimg.com/uu/api/res/1.2/oF3px5WUfZBDOFaABm92vg--~B/Zmk9c3RyaW07aD0xNDA7dz0xNDA7YXBwaWQ9eXRhY2h5b24-/https://media.zenfs.com/en/investopedia.com/137443e9d260b69b3ed6915a928fd654\",\"width\":140,\"height\":140,\"tag\":\"140x140\"},{\"url\":\"https://s.yimg.com/uu/api/res/1.2/Iof7R1Ma4BrG0.UaHVcdHA--~B/Zmk9c3RyaW07aD03Njg7dz03Njg7YXBwaWQ9eXRhY2h5b24-/https://media.zenfs.com/en/investopedia.com/137443e9d260b69b3ed6915a928fd654\",\"width\":768,\"height\":768,\"tag\":\"768x768\"},{\"url\":\"https://s.yimg.com/uu/api/res/1.2/xfIA8r2W0is_3tcQb15y0A--~B/Zmk9c3RyaW07aD02NDA7dz02NDA7YXBwaWQ9eXRhY2h5b24-/https://media.zenfs.com/en/investopedia.com/137443e9d260b69b3ed6915a928fd654\",\"width\":640,\"height\":640,\"tag\":\"640x640\"}]},\"clickThroughUrl\":null,\"previewUrl\":\"https://finance.yahoo.com/m/7c393f6c-1c01-3ab6-9174-0c3291025bcb/battle-of-the-bots-which-ai.html\",\"provider\":{\"displayName\":\"Investopedia\"},\"finance\":{\"stockTickers\":[{\"symbol\":\"MSFT\"},{\"symbol\":\"GOOGL\"}]}}},{\"id\":\"478ddd38-68e8-32c6-9fd7-a9cf94910455\",\"content\":{\"id\":\"478ddd38-68e8-32c6-9fd7-a9cf94910455\",\"contentType\":\"STORY\",\"title\":\"U.S.-China Trade War Over Technology Heats Up; What It Means For Apple, Micron, Tesla\",\"pubDate\":\"2023-04-15T13:00:48Z\",\"thumbnail\":{\"resolutions\":[{\"url\":\"https://s.yimg.com/uu/api/res/1.2/NfuK8oG4lIrQKOWt.2uyoQ--~B/aD01NjM7dz0xMDAwO2FwcGlkPXl0YWNoeW9u/https://media.zenfs.com/en/ibd.com/26af48fa9d280a82466b44b29284a992\",\"width\":1000,\"height\":563,\"tag\":\"original\"},{\"url\":\"https://s.yimg.com/uu/api/res/1.2/GkGWwHBTseaM6pjucwlWow--~B/Zmk9c3RyaW07aD0xNDA7dz0xNDA7YXBwaWQ9eXRhY2h5b24-/https://media.zenfs.com/en/ibd.com/26af48fa9d280a82466b44b29284a992\",\"width\":140,\"height\":140,\"tag\":\"140x140\"},{\"url\":\"https://s.yimg.com/uu/api/res/1.2/P5qncCo15UQ1S4pwPUD0pA--~B/Zmk9c3RyaW07aD03Njg7dz03Njg7YXBwaWQ9eXRhY2h5b24-/https://media.zenfs.com/en/ibd.com/26af48fa9d280a82466b44b29284a992\",\"width\":768,\"height\":768,\"tag\":\"768x768\"},{\"url\":\"https://s.yimg.com/uu/api/res/1.2/cw6nWo8WXgxpLe75I0_nnw--~B/Zmk9c3RyaW07aD02NDA7dz02NDA7YXBwaWQ9eXRhY2h5b24-/https://media.zenfs.com/en/ibd.com/26af48fa9d280a82466b44b29284a992\",\"width\":640,\"height\":640,\"tag\":\"640x640\"}]},\"clickThroughUrl\":null,\"previewUrl\":\"https://finance.yahoo.com/m/478ddd38-68e8-32c6-9fd7-a9cf94910455/u-s-china-trade-war-over.html\",\"provider\":{\"displayName\":\"Investor's Business Daily\"},\"finance\":{\"stockTickers\":[{\"symbol\":\"MU\"},{\"symbol\":\"AAPL\"},{\"symbol\":\"TSLA\"}]}}},{\"id\":\"7467a511-c42c-3290-9cd2-2c67f2e69016\",\"content\":{\"id\":\"7467a511-c42c-3290-9cd2-2c67f2e69016\",\"contentType\":\"STORY\",\"title\":\"American savers are missing out – because bank interest rates are trailing the Fed's benchmark by a record amount\",\"pubDate\":\"2023-04-15T17:00:00Z\",\"thumbnail\":{\"resolutions\":[{\"url\":\"https://s.yimg.com/uu/api/res/1.2/gYuy4JVgmEupopmBk3lzBw--~B/aD00MDEwO3c9NTM0NzthcHBpZD15dGFjaHlvbg--/https://media.zenfs.com/en/business_insider_articles_888/6dd27768852f0a084cb7e2d5654103c3\",\"width\":5347,\"height\":4010,\"tag\":\"original\"},{\"url\":\"https://s.yimg.com/uu/api/res/1.2/vbxZzwHlbaodWAXpmyFKuw--~B/Zmk9c3RyaW07aD0xNDA7dz0xNDA7YXBwaWQ9eXRhY2h5b24-/https://media.zenfs.com/en/business_insider_articles_888/6dd27768852f0a084cb7e2d5654103c3\",\"width\":140,\"height\":140,\"tag\":\"140x140\"},{\"url\":\"https://s.yimg.com/uu/api/res/1.2/Id1H2.Ph1rdknjXZLJMxSQ--~B/Zmk9c3RyaW07aD03Njg7dz03Njg7YXBwaWQ9eXRhY2h5b24-/https://media.zenfs.com/en/business_insider_articles_888/6dd27768852f0a084cb7e2d5654103c3\",\"width\":768,\"height\":768,\"tag\":\"768x768\"},{\"url\":\"https://s.yimg.com/uu/api/res/1.2/2kFCZOQKuWPuQIAsuRK7Ug--~B/Zmk9c3RyaW07aD02NDA7dz02NDA7YXBwaWQ9eXRhY2h5b24-/https://media.zenfs.com/en/business_insider_articles_888/6dd27768852f0a084cb7e2d5654103c3\",\"width\":640,\"height\":640,\"tag\":\"640x640\"}]},\"clickThroughUrl\":{\"url\":\"https://finance.yahoo.com/news/american-savers-missing-ndash-because-170000236.html\"},\"previewUrl\":null,\"provider\":{\"displayName\":\"Business Insider\"},\"finance\":{\"stockTickers\":null}}},{\"id\":\"1bf82f92-d2fa-36ff-a68d-e51e42e44d9b\",\"content\":{\"id\":\"1bf82f92-d2fa-36ff-a68d-e51e42e44d9b\",\"contentType\":\"STORY\",\"title\":\"CVS 'gender transition' guide says employees must use preferred pronouns, can use bathroom reflecting identity\",\"pubDate\":\"2023-04-15T14:00:33Z\",\"thumbnail\":{\"resolutions\":[{\"url\":\"https://s.yimg.com/uu/api/res/1.2/yD7_KjuO_DcFOIE5xNOc2g--~B/aD03MjA7dz0xMjgwO2FwcGlkPXl0YWNoeW9u/https://media.zenfs.com/en/fox_business_text_367/baa5f289c11b5ee4005ce5ee5f78983b\",\"width\":1280,\"height\":720,\"tag\":\"original\"},{\"url\":\"https://s.yimg.com/uu/api/res/1.2/fl.8VLbcYzwY4gSXEXbiug--~B/Zmk9c3RyaW07aD0xNDA7dz0xNDA7YXBwaWQ9eXRhY2h5b24-/https://media.zenfs.com/en/fox_business_text_367/baa5f289c11b5ee4005ce5ee5f78983b\",\"width\":140,\"height\":140,\"tag\":\"140x140\"},{\"url\":\"https://s.yimg.com/uu/api/res/1.2/8hYcNpvwC83ZYZFBxwx6jw--~B/Zmk9c3RyaW07aD03Njg7dz03Njg7YXBwaWQ9eXRhY2h5b24-/https://media.zenfs.com/en/fox_business_text_367/baa5f289c11b5ee4005ce5ee5f78983b\",\"width\":768,\"height\":768,\"tag\":\"768x768\"},{\"url\":\"https://s.yimg.com/uu/api/res/1.2/KR7S6vWXSrYJg1GxvrEBLw--~B/Zmk9c3RyaW07aD02NDA7dz02NDA7YXBwaWQ9eXRhY2h5b24-/https://media.zenfs.com/en/fox_business_text_367/baa5f289c11b5ee4005ce5ee5f78983b\",\"width\":640,\"height\":640,\"tag\":\"640x640\"}]},\"clickThroughUrl\":{\"url\":\"https://finance.yahoo.com/news/cvs-gender-transition-guide-says-140033894.html\"},\"previewUrl\":null,\"provider\":{\"displayName\":\"Fox Business\"},\"finance\":{\"stockTickers\":[{\"symbol\":\"CVS\"}]}}},{\"id\":\"b0891d73-77d9-3048-b879-438156541ed5\",\"content\":{\"id\":\"b0891d73-77d9-3048-b879-438156541ed5\",\"contentType\":\"STORY\",\"title\":\"ChatGPT and its ilk are making it easier for remote workers to secretly hold two or more full-time jobs\",\"pubDate\":\"2023-04-16T01:31:48Z\",\"thumbnail\":{\"resolutions\":[{\"url\":\"https://s.yimg.com/uu/api/res/1.2/0lp7tUDPqtOm2Pl8GSKWWw--~B/aD0xMzY2O3c9MjA0ODthcHBpZD15dGFjaHlvbg--/https://media.zenfs.com/en/fortune_175/12b88ec55ca17af67c6a18025c4b9854\",\"width\":2048,\"height\":1366,\"tag\":\"original\"},{\"url\":\"https://s.yimg.com/uu/api/res/1.2/9xWVbIqVRKRRiXnEmpm6tQ--~B/Zmk9c3RyaW07aD0xNDA7dz0xNDA7YXBwaWQ9eXRhY2h5b24-/https://media.zenfs.com/en/fortune_175/12b88ec55ca17af67c6a18025c4b9854\",\"width\":140,\"height\":140,\"tag\":\"140x140\"},{\"url\":\"https://s.yimg.com/uu/api/res/1.2/peRW64Nl_.njt3weSRmnPA--~B/Zmk9c3RyaW07aD03Njg7dz03Njg7YXBwaWQ9eXRhY2h5b24-/https://media.zenfs.com/en/fortune_175/12b88ec55ca17af67c6a18025c4b9854\",\"width\":768,\"height\":768,\"tag\":\"768x768\"},{\"url\":\"https://s.yimg.com/uu/api/res/1.2/ci.d55W4CtZT11EWIWh9Gg--~B/Zmk9c3RyaW07aD02NDA7dz02NDA7YXBwaWQ9eXRhY2h5b24-/https://media.zenfs.com/en/fortune_175/12b88ec55ca17af67c6a18025c4b9854\",\"width\":640,\"height\":640,\"tag\":\"640x640\"}]},\"clickThroughUrl\":{\"url\":\"https://finance.yahoo.com/news/chatgpt-ilk-making-easier-remote-013148338.html\"},\"previewUrl\":null,\"provider\":{\"displayName\":\"Fortune\"},\"finance\":{\"stockTickers\":null}}}],\"nextPage\":true,\"pagination\":{\"uuids\":\"paginationString={\\\"requestedCount\\\":28,\\\"contentOverrides\\\":{\\\"cfe3f1f4-9e82-3623-befd-d44bb132abfb\\\":{\\\"storyline\\\":[{\\\"id\\\":\\\"001ea248-d5cc-39a7-8ad0-7d122b784789\\\",\\\"type\\\":\\\"ymedia:type=story\\\"},{\\\"id\\\":\\\"483788a3-cb08-3d77-9b9f-6bfc5fca7deb\\\",\\\"type\\\":\\\"ymedia:type=story\\\"}]},\\\"8ef87eec-69ff-3c4a-b3ea-ec633b4f1182\\\":{\\\"storyline\\\":[{\\\"id\\\":\\\"1cef805e-a5e9-39f1-87b4-e4af4959883d\\\",\\\"type\\\":\\\"ymedia:type=story\\\"}]},\\\"92271112-9778-3d13-bff4-1e8222d6d44b\\\":{\\\"storyline\\\":[{\\\"id\\\":\\\"9bf67514-aad8-39da-b89e-cc1f004529d8\\\",\\\"type\\\":\\\"ymedia:type=story\\\"}]},\\\"9bf67514-aad8-39da-b89e-cc1f004529d8\\\":{\\\"storyline\\\":[{\\\"id\\\":\\\"92271112-9778-3d13-bff4-1e8222d6d44b\\\",\\\"type\\\":\\\"ymedia:type=story\\\"},{\\\"id\\\":\\\"f3cda179-c7f6-3dd6-b15a-740b54974ebf\\\",\\\"type\\\":\\\"ymedia:type=story\\\"}]},\\\"3074c962-8af8-36cd-a308-dcb81d3847d0\\\":{\\\"storyline\\\":[{\\\"id\\\":\\\"a50aaeee-3919-4af0-a3e1-7ef825b10da1\\\",\\\"type\\\":\\\"ymedia:type=story\\\"}]},\\\"35c6d023-b7f7-3163-8b2d-9bd86f7fe094\\\":{\\\"storyline\\\":[{\\\"id\\\":\\\"f358acd4-ccbd-3284-9c74-cd58616d0777\\\",\\\"type\\\":\\\"ymedia:type=story\\\"}]},\\\"98401c8a-0e16-373d-bc87-9a16b4293ca6\\\":{\\\"storyline\\\":[{\\\"id\\\":\\\"46ea07dc-0bbd-3bf2-987f-51d747cf34f3\\\",\\\"type\\\":\\\"ymedia:type=story\\\"}]},\\\"46565c01-a708-3be0-97fc-d46e1cc0b060\\\":{\\\"storyline\\\":[{\\\"id\\\":\\\"40a510b4-3f06-32ae-9904-bcb2d5fd68e8\\\",\\\"type\\\":\\\"ymedia:type=story\\\"}]},\\\"19091f3c-6dcf-34e8-85b0-d0de2b69bc76\\\":{\\\"storyline\\\":[{\\\"id\\\":\\\"ea0e25db-2a07-4a3e-aa55-5bd56c93cab2\\\",\\\"type\\\":\\\"ymedia:type=story\\\"},{\\\"id\\\":\\\"016ebac9-8221-374d-a998-193e3f7d20a5\\\",\\\"type\\\":\\\"ymedia:type=story\\\"}]},\\\"7a6c6417-9b94-3348-a5a4-a628f0225264\\\":{\\\"storyline\\\":[{\\\"id\\\":\\\"3784872f-98e5-370c-9bed-84e8daa7b5ea\\\",\\\"type\\\":\\\"ymedia:type=story\\\"}]},\\\"8c8b2318-3f87-3b0d-a6c6-44c80c2a4da5\\\":{\\\"storyline\\\":[{\\\"id\\\":\\\"9982647f-4a14-3754-aa9b-7d9d96b7db54\\\",\\\"type\\\":\\\"ymedia:type=story\\\"}]},\\\"9e8f8730-3400-32c2-a115-e6bec9bee1c9\\\":{\\\"storyline\\\":[{\\\"id\\\":\\\"ea0e25db-2a07-4a3e-aa55-5bd56c93cab2\\\",\\\"type\\\":\\\"ymedia:type=story\\\"},{\\\"id\\\":\\\"19091f3c-6dcf-34e8-85b0-d0de2b69bc76\\\",\\\"type\\\":\\\"ymedia:type=story\\\"}]},\\\"f806a84b-d99f-33bb-8238-33f4a7d3ef1c\\\":{\\\"storyline\\\":[{\\\"id\\\":\\\"7a6c6417-9b94-3348-a5a4-a628f0225264\\\",\\\"type\\\":\\\"ymedia:type=story\\\"},{\\\"id\\\":\\\"3784872f-98e5-370c-9bed-84e8daa7b5ea\\\",\\\"type\\\":\\\"ymedia:type=story\\\"}]},\\\"c788f293-30e6-340a-9062-3232ef3c5dbe\\\":{\\\"storyline\\\":[{\\\"id\\\":\\\"6feddc9f-15c6-3c1b-8c5e-6da1dbcb045a\\\",\\\"type\\\":\\\"ymedia:type=story\\\"}]},\\\"aad5dff4-9dca-3dfd-a579-fec557e127d9\\\":{\\\"storyline\\\":[{\\\"id\\\":\\\"8ef87eec-69ff-3c4a-b3ea-ec633b4f1182\\\",\\\"type\\\":\\\"ymedia:type=story\\\"},{\\\"id\\\":\\\"1cef805e-a5e9-39f1-87b4-e4af4959883d\\\",\\\"type\\\":\\\"ymedia:type=story\\\"}]},\\\"46ea07dc-0bbd-3bf2-987f-51d747cf34f3\\\":{\\\"storyline\\\":[{\\\"id\\\":\\\"98401c8a-0e16-373d-bc87-9a16b4293ca6\\\",\\\"type\\\":\\\"ymedia:type=story\\\"}]},\\\"f3cda179-c7f6-3dd6-b15a-740b54974ebf\\\":{\\\"storyline\\\":[{\\\"id\\\":\\\"9bf67514-aad8-39da-b89e-cc1f004529d8\\\",\\\"type\\\":\\\"ymedia:type=story\\\"}]},\\\"a50aaeee-3919-4af0-a3e1-7ef825b10da1\\\":{\\\"storyline\\\":[{\\\"id\\\":\\\"3074c962-8af8-36cd-a308-dcb81d3847d0\\\",\\\"type\\\":\\\"ymedia:type=story\\\"}]}},\\\"remainingCount\\\":74,\\\"uuids\\\":\\\"10c9e207-b808-3447-aef7-06d866a57f09:STORY,cf32ee3c-8662-354f-9ea4-e528972b1387:STORY,a50aaeee-3919-4af0-a3e1-7ef825b10da1:STORY,92271112-9778-3d13-bff4-1e8222d6d44b:STORY,19f3312b-2df0-313c-a770-b4d7fee2a0ba:STORY,2b0c5dab-e51e-3b99-96ff-dfeedd65607d:STORY,7a6c6417-9b94-3348-a5a4-a628f0225264:STORY,5ac8abbe-0546-35fa-bad6-61f8dc5df8e5:STORY,19091f3c-6dcf-34e8-85b0-d0de2b69bc76:STORY,8669cf5c-dee5-359d-ad4f-842011778c9a:STORY,9982647f-4a14-3754-aa9b-7d9d96b7db54:STORY,98401c8a-0e16-373d-bc87-9a16b4293ca6:STORY,8ef87eec-69ff-3c4a-b3ea-ec633b4f1182:STORY,83c5580a-aaa1-3ead-b304-a47ba67b30e9:STORY,43bde58d-4e12-3653-8841-6b6552ff396e:STORY,0604a51a-73d8-35c2-a2cd-fdfc86bfe8ad:STORY,29bc323a-e5e2-3bd3-83ef-a3c6d0893d45:STORY,08f57fdc-0dd6-3854-bf75-6e67d8bb1b25:STORY,f358acd4-ccbd-3284-9c74-cd58616d0777:STORY,d83b2f2d-d968-3d4d-99f5-eec5bc6f0003:STORY,b26ac186-7d6e-3123-9470-b19226bbeb54:STORY,3074c962-8af8-36cd-a308-dcb81d3847d0:STORY,9b99a0b4-2175-36f2-be05-5d5f1da7c8ba:STORY,aad5dff4-9dca-3dfd-a579-fec557e127d9:STORY,71461176-eacc-3f1f-86a3-898a86d4596b:STORY,5a9db674-3e73-35b9-984f-d7d03691338e:STORY,c9029c3d-49c7-3ce5-b19b-c5ca9ef22055:STORY,46565c01-a708-3be0-97fc-d46e1cc0b060:STORY,e2f04a56-2eb4-34f6-ac0e-84e9bc8ef62a:STORY,c48e093c-eb9d-3607-9afe-883e6e0456a0:STORY,d9b757ba-6a18-3f31-864a-83f3ebe8b089:STORY,53b98ff9-e164-3511-837a-6b6eacde3786:STORY,723c094d-5023-311d-b5d9-51d5ff1973b4:STORY,6839e80e-4d53-3de3-b0ef-a1ca494f2df6:STORY,8a7402a8-92e8-33e1-ba78-16ac544d00b4:STORY,10255316-0633-3024-a749-df479bcb5c2e:STORY,3f923041-eac4-33f4-8d61-577eb2c875ae:STORY,f3cda179-c7f6-3dd6-b15a-740b54974ebf:STORY,1e7d2fbb-6235-37df-9818-27586d500cd1:STORY,238e2ff1-3eb7-35b1-bb3e-821ac9f46a0e:STORY,e24b5574-b9b8-3095-81ee-7b51cca461e5:STORY,732eebd1-4541-31da-b94e-dbab8002ef2b:STORY,cc21a035-3d92-3278-b65c-7df0e39bb7f9:STORY,bd034312-b080-3e4f-8077-36fe9ed3c503:STORY,9e8f8730-3400-32c2-a115-e6bec9bee1c9:STORY,1c473a18-9ff7-3646-a0b5-49e9c96f5df9:STORY,21680d6a-4923-33ec-b713-19be1097930d:STORY,61d9eee3-a08e-366e-98b0-a4e0a5d7ce97:STORY,46ea07dc-0bbd-3bf2-987f-51d747cf34f3:STORY,9bf67514-aad8-39da-b89e-cc1f004529d8:STORY,e0886a04-d3f1-3edc-8945-240b42bb3118:STORY,1f74dd1b-71db-3073-a49a-d35c7b424eeb:STORY,2983e030-911f-3703-b2cb-d856adaab95a:STORY,edc57cce-294c-3c18-9bbc-5633095a9771:STORY,cfe3f1f4-9e82-3623-befd-d44bb132abfb:STORY,f806a84b-d99f-33bb-8238-33f4a7d3ef1c:STORY,6622da21-41ea-368d-ac29-2ba0377b625a:STORY,09a9f209-8c61-34f6-966b-9d3734b7fca7:STORY,133dfee2-ccc6-3c44-b59b-19649a0f990a:STORY,35c6d023-b7f7-3163-8b2d-9bd86f7fe094:STORY,51375d27-ff8c-3e5b-8c5f-4a7e8ca3d73e:STORY,dce573a7-c107-3882-b6e8-bcfb6705b305:STORY,ac7a86df-491d-3366-a049-1ceef59f2a51:STORY,c788f293-30e6-340a-9062-3232ef3c5dbe:STORY,6ff8b8b8-de7c-3bfd-a422-34f4930641ff:STORY,3ae19286-3a57-3463-8491-4d13259a0ffa:STORY,96c28593-2b0b-3218-93b1-e4b243935c1c:STORY,572b1b1d-f53e-3431-bdaa-855c2aa7ece9:STORY,63f207ed-9ffd-3799-9e21-48b306403bae:STORY,15963ad5-9a40-39a0-b51e-a9e63975e30e:STORY,8c8b2318-3f87-3b0d-a6c6-44c80c2a4da5:STORY,fa423045-0f28-386d-8b20-459b89f3ff28:STORY,3be1543e-9497-32e1-bdd9-914b0ac703d6:STORY,e94d4591-48fb-3a76-b9e6-1fcef9c41e81:STORY\\\"}\"}}},\"status\":\"OK\"}\n"
     ]
    }
   ],
   "source": [
    "import requests\n",
    "\n",
    "url = \"https://yh-finance.p.rapidapi.com/news/v2/list\"\n",
    "\n",
    "querystring = {\"region\":\"US\",\"snippetCount\":\"28\"}\n",
    "\n",
    "payload = \"\\\"Pass in the value of uuids field returned right in this endpoint to load the next page, or leave empty to load first page\\\"\"\n",
    "headers = {\n",
    "\t\"content-type\": \"text/plain\",\n",
    "\t\"X-RapidAPI-Key\": os.environ.get('X_RapidAPI_Key'),\n",
    "\t\"X-RapidAPI-Host\": \"yh-finance.p.rapidapi.com\"\n",
    "}\n",
    "\n",
    "response = requests.request(\"POST\", url, data=payload, headers=headers, params=querystring)\n",
    "\n",
    "print(response.text)"
   ]
  }
 ],
 "metadata": {
  "kernelspec": {
   "display_name": "py39",
   "language": "python",
   "name": "python3"
  },
  "language_info": {
   "codemirror_mode": {
    "name": "ipython",
    "version": 3
   },
   "file_extension": ".py",
   "mimetype": "text/x-python",
   "name": "python",
   "nbconvert_exporter": "python",
   "pygments_lexer": "ipython3",
   "version": "3.9.16"
  },
  "orig_nbformat": 4
 },
 "nbformat": 4,
 "nbformat_minor": 2
}

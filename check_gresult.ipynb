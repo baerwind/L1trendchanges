{
 "cells": [
  {
   "cell_type": "code",
   "execution_count": 2,
   "metadata": {},
   "outputs": [],
   "source": [
    "import pandas as pd"
   ]
  },
  {
   "cell_type": "code",
   "execution_count": 3,
   "metadata": {},
   "outputs": [],
   "source": [
    "gresult = pd.read_csv(r'data\\gresult 2023-06-10.csv')"
   ]
  },
  {
   "cell_type": "code",
   "execution_count": 4,
   "metadata": {},
   "outputs": [
    {
     "data": {
      "text/plain": [
       "Index(['Unnamed: 0', 'date', 'symbol', 'region', 'open', 'high', 'low',\n",
       "       'close', 'volume', 'updatedt', 'close_start_1', 'trendline_lambda_1',\n",
       "       'trendchanges_lambda_1', 'agg_orig_index_lambda_1',\n",
       "       'agg_trendlinevalue_lambda_1', 'agg_diffdate_lambda_1',\n",
       "       'agg_slope_until_lambda_1', 'agg_slopechange_lambda_1',\n",
       "       'agg_buy_lambda_1', 'agg_sell_lambda_1'],\n",
       "      dtype='object')"
      ]
     },
     "execution_count": 4,
     "metadata": {},
     "output_type": "execute_result"
    }
   ],
   "source": [
    "gresult.columns"
   ]
  },
  {
   "cell_type": "code",
   "execution_count": 5,
   "metadata": {},
   "outputs": [],
   "source": [
    "gresult['trendslopecheck1dt'] = gresult.groupby(['symbol'])['trendline_lambda_1'].diff(1)"
   ]
  },
  {
   "cell_type": "code",
   "execution_count": 6,
   "metadata": {},
   "outputs": [],
   "source": [
    "gresult['trendslopecheck2dt'] = gresult.groupby(['symbol'])['trendslopecheck1dt'].diff(1)"
   ]
  },
  {
   "cell_type": "code",
   "execution_count": 14,
   "metadata": {},
   "outputs": [],
   "source": [
    "#gresult['trendslopecheck2dtlabel'] = pd.qcut(abs(gresult['trendslopecheck2dt']),3,labels=[0,0.1,1])\n",
    "gresult['trendslopecheck2dtlabel'] = [1 if x > 1e-07 else 0 for x in abs(gresult['trendslopecheck2dt'])]\n",
    "#gresult.assign('trendslopecheck2dtlabel'"
   ]
  }
 ],
 "metadata": {
  "kernelspec": {
   "display_name": "py39",
   "language": "python",
   "name": "python3"
  },
  "language_info": {
   "codemirror_mode": {
    "name": "ipython",
    "version": 3
   },
   "file_extension": ".py",
   "mimetype": "text/x-python",
   "name": "python",
   "nbconvert_exporter": "python",
   "pygments_lexer": "ipython3",
   "version": "3.9.16"
  },
  "orig_nbformat": 4
 },
 "nbformat": 4,
 "nbformat_minor": 2
}

{
 "cells": [
  {
   "cell_type": "code",
   "execution_count": null,
   "metadata": {},
   "outputs": [],
   "source": [
    "from transformers import AutoTokenizer, AutoModelForSequenceClassification\n",
    "import torch, string, random\n",
    "\n",
    "tokenizer = AutoTokenizer.from_pretrained(\"albert-xxlarge-v2\")\n",
    "model = AutoModelForSequenceClassification.from_pretrained(\"DAMO-NLP-SG/zero-shot-classify-SSTuning-ALBERT\")\n",
    "\n",
    "text = \"I love this place! The food is always so fresh and delicious.\"\n",
    "list_label = [\"negative\", \"positive\"]\n",
    "\n",
    "device = torch.device('cuda') if torch.cuda.is_available() else torch.device('cpu')\n",
    "list_ABC = [x for x in string.ascii_uppercase]\n",
    "\n",
    "def check_text(model, text, list_label, shuffle=False): \n",
    "    list_label = [x+'.' if x[-1] != '.' else x for x in list_label]\n",
    "    list_label_new = list_label + [tokenizer.pad_token]* (20 - len(list_label))\n",
    "    if shuffle: \n",
    "        random.shuffle(list_label_new)\n",
    "    s_option = ' '.join(['('+list_ABC[i]+') '+list_label_new[i] for i in range(len(list_label_new))])\n",
    "    text = f'{s_option} {tokenizer.sep_token} {text}'\n",
    "\n",
    "    model.to(device).eval()\n",
    "    encoding = tokenizer([text],truncation=True, max_length=512,return_tensors='pt')\n",
    "    item = {key: val.to(device) for key, val in encoding.items()}\n",
    "    logits = model(**item).logits\n",
    "    \n",
    "    logits = logits if shuffle else logits[:,0:len(list_label)]\n",
    "    probs = torch.nn.functional.softmax(logits, dim = -1).tolist()\n",
    "    predictions = torch.argmax(logits, dim=-1).item() \n",
    "    probabilities = [round(x,5) for x in probs[0]]\n",
    "\n",
    "    print(f'prediction:    {predictions} => ({list_ABC[predictions]}) {list_label_new[predictions]}')\n",
    "    print(f'probability:   {round(probabilities[predictions]*100,2)}%')\n",
    "\n",
    "check_text(model, text, list_label)\n",
    "# prediction:    1 => (B) positive.\n",
    "# probability:   98.64%\n"
   ]
  }
 ],
 "metadata": {
  "kernelspec": {
   "display_name": "py39",
   "language": "python",
   "name": "python3"
  },
  "language_info": {
   "name": "python",
   "version": "3.9.16"
  },
  "orig_nbformat": 4
 },
 "nbformat": 4,
 "nbformat_minor": 2
}

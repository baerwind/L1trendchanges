{
 "cells": [
  {
   "cell_type": "code",
   "execution_count": null,
   "metadata": {},
   "outputs": [],
   "source": [
    "https://pypi.org/project/financial-news-api/\n",
    "pip install financial-news-api"
   ]
  },
  {
   "cell_type": "code",
   "execution_count": null,
   "metadata": {},
   "outputs": [],
   "source": [
    "import requests\n",
    "\n",
    "API_KEY = \"YOUR_API_KEY\"\n",
    "API_ENDPOINT = \"https://api.newsfilter.io/search?token={}\".format(API_KEY)\n",
    "\n",
    "# Define the news search parameters\n",
    "queryString = \"symbols:NFLX AND publishedAt:[2020-02-01 TO 2020-05-20]\"\n",
    "\n",
    "payload = {\n",
    "    \"queryString\": queryString,\n",
    "    \"from\": 0,\n",
    "    \"size\": 10\n",
    "}\n",
    "\n",
    "# Send the search query to the Search API\n",
    "response = requests.post(API_ENDPOINT, json=payload)\n",
    "\n",
    "# Read the response\n",
    "articles = response.json()\n",
    "\n",
    "print(articles)"
   ]
  }
 ],
 "metadata": {
  "language_info": {
   "name": "python"
  },
  "orig_nbformat": 4
 },
 "nbformat": 4,
 "nbformat_minor": 2
}
